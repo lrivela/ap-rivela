{
 "cells": [
  {
   "cell_type": "markdown",
   "metadata": {},
   "source": [
    "### Ejercicio Clase 1: XOR con NNet\n",
    "\n",
    "#### Alumno: Lucas Rivela"
   ]
  },
  {
   "cell_type": "markdown",
   "metadata": {},
   "source": [
    "#### Resolucion Teorica"
   ]
  },
  {
   "cell_type": "markdown",
   "metadata": {},
   "source": [
    "<img src=\"./IMG_5028.jpg\">"
   ]
  },
  {
   "cell_type": "markdown",
   "metadata": {},
   "source": [
    "<img src=\"IMG_5029.jpg\">"
   ]
  },
  {
   "cell_type": "code",
   "execution_count": 1,
   "metadata": {},
   "outputs": [],
   "source": [
    "import math\n",
    "import matplotlib.pyplot as plt\n",
    "import random"
   ]
  },
  {
   "cell_type": "code",
   "execution_count": 14,
   "metadata": {},
   "outputs": [],
   "source": [
    "# Defino inputs\n",
    "input = [ [0,0], [0,1], [1,0], [1,1] ]\n",
    "# Defino hiperparametros\n",
    "n_epochs = 100\n",
    "alfa = 0.5"
   ]
  },
  {
   "cell_type": "code",
   "execution_count": 2,
   "metadata": {},
   "outputs": [],
   "source": [
    "# Defino funcion Sigmoid\n",
    "def sigmoid(x):\n",
    "    sig = 1 / (1 + math.exp(-x))\n",
    "    return sig"
   ]
  },
  {
   "cell_type": "code",
   "execution_count": 3,
   "metadata": {},
   "outputs": [],
   "source": [
    "# Inicializo variables con valores aleatorios\n",
    "# Pesos y bias Neurona 1\n",
    "w11_1 = random.uniform(0,1)\n",
    "w12_1 = random.uniform(0,1)\n",
    "b1_1 = random.uniform(0,1)\n",
    "# Pesos y bias Neurona 2\n",
    "w21_1 = random.uniform(0,1)\n",
    "w22_1 = random.uniform(0,1)\n",
    "b2_1 = random.uniform(0,1)\n",
    "# Pesos y bias Neurona 3\n",
    "w11_2 = random.uniform(0,1)\n",
    "w12_2 = random.uniform(0,1)\n",
    "b1_2 = random.uniform(0,1)\n"
   ]
  },
  {
   "cell_type": "code",
   "execution_count": 15,
   "metadata": {},
   "outputs": [],
   "source": [
    "lista_MSE = []\n",
    "for n in range(n_epochs):\n",
    "    for Xi1, Xi2 in input:\n",
    "        # Forward\n",
    "        # Primer capa\n",
    "        Zi1_1 = w11_1 * Xi1 + w12_1 * Xi2 + b1_1\n",
    "        Zi2_1 = w21_1 * Xi1 + w22_1 * Xi2 + b2_1\n",
    "        ai1_1 = sigmoid(Zi1_1)\n",
    "        ai2_1 = sigmoid(Zi2_1)\n",
    "        # Segunda capa\n",
    "        Zi1_2 = w11_2 * ai1_1 + w12_2 * ai2_1 + b1_2\n",
    "        # Salida\n",
    "        y_hat = Zi1_2\n",
    "        y_true = 0 if Xi1 == Xi2 else 1\n",
    "\n",
    "        # Error\n",
    "        err = y_true - y_hat\n",
    "        \n",
    "        # Backpropagation\n",
    "        L_w11_2 = -2 * err * ai1_1\n",
    "        L_w12_2 = -2 * err * ai2_1\n",
    "        L_b1_2 = -2 * err\n",
    "        \n",
    "        L_w11_1 = -2 * err * w11_2 * sigmoid(Zi1_1) * (1 - sigmoid(Zi1_1)) * Xi1\n",
    "        L_w12_1 = -2 * err * w11_2 * sigmoid(Zi1_1) * (1 - sigmoid(Zi1_1)) * Xi2\n",
    "        L_b1_1 = -2 * err * w11_2 * sigmoid(Zi1_1) * (1 - sigmoid(Zi1_1))\n",
    "\n",
    "        L_w21_1 = -2 * err * w12_2 * sigmoid(Zi2_1) * (1 - sigmoid(Zi2_1)) * Xi1\n",
    "        L_w22_1 = -2 * err * w12_2 * sigmoid(Zi2_1) * (1 - sigmoid(Zi2_1)) * Xi2\n",
    "        L_b2_1 = -2 * err * w12_2 * sigmoid(Zi2_1) * (1 - sigmoid(Zi2_1))\n",
    "        # Actualizar pesos\n",
    "        # Pesos y bias Neurona 1\n",
    "        w11_1 = w11_1 - alfa * L_w11_1\n",
    "        w12_1 = w12_1 - alfa * L_w12_1\n",
    "        b1_1 = b1_1 - alfa * L_b1_1\n",
    "        # Pesos y bias Neurona 2\n",
    "        w21_1 = w21_1 - alfa * L_w21_1\n",
    "        w22_1 = w22_1 - alfa * L_w22_1\n",
    "        b2_1 = b2_1 - alfa * L_b2_1\n",
    "        # Pesos y bias Neurona 3\n",
    "        w11_2 = w11_2 - alfa * L_w11_2\n",
    "        w12_2 = w12_2 - alfa * L_w12_2\n",
    "        b1_2 = b1_2 - alfa * L_b1_2\n",
    "\n",
    "        # Calcular MSE\n",
    "        mse = (y_true - y_hat)**2\n",
    "    mse = mse/4\n",
    "    lista_MSE.append(mse)"
   ]
  },
  {
   "cell_type": "code",
   "execution_count": 21,
   "metadata": {},
   "outputs": [
    {
     "data": {
      "text/plain": [
       "[<matplotlib.lines.Line2D at 0x10f2bf2b0>]"
      ]
     },
     "execution_count": 21,
     "metadata": {},
     "output_type": "execute_result"
    },
    {
     "data": {
      "image/png": "[encoded data removed]",
      "text/plain": [
       "<Figure size 432x288 with 1 Axes>"
      ]
     },
     "metadata": {
      "needs_background": "light"
     },
     "output_type": "display_data"
    }
   ],
   "source": [
    "plt.title(\"MSE a medida que avanzan las epochs\")\n",
    "plt.xlabel(\"Epochs\")\n",
    "plt.ylabel(\"MSE\")\n",
    "plt.plot(range(n_epochs), lista_MSE)"
   ]
  },
  {
   "cell_type": "markdown",
   "metadata": {},
   "source": [
    "#### Armo todo como una clase para el predict"
   ]
  },
  {
   "cell_type": "code",
   "execution_count": 46,
   "metadata": {},
   "outputs": [],
   "source": [
    "class NNetXor(object):\n",
    "    __n_epochs = None\n",
    "    __alfa = None\n",
    "    __w11_1 = None\n",
    "    __w12_1 = None\n",
    "    __b1_1 = None\n",
    "    __w21_1 = None\n",
    "    __w22_1 = None\n",
    "    __b2_1 = None\n",
    "    __w11_2 = None\n",
    "    __w12_2 = None\n",
    "    __b1_2 = None\n",
    "    __lista_MSE = None\n",
    "\n",
    "    def __init__(self, n_epochs, alfa):\n",
    "        self.__lista_MSE = []\n",
    "        # Hiperparametros\n",
    "        self.__n_epochs = n_epochs\n",
    "        self.__alfa = alfa\n",
    "        # Pesos y bias Neurona 1\n",
    "        self.__w11_1 = random.uniform(0,1)\n",
    "        self.__w12_1 = random.uniform(0,1)\n",
    "        self.__b1_1 = random.uniform(0,1)\n",
    "        # Pesos y bias Neurona 2\n",
    "        self.__w21_1 = random.uniform(0,1)\n",
    "        self.__w22_1 = random.uniform(0,1)\n",
    "        self.__b2_1 = random.uniform(0,1)\n",
    "        # Pesos y bias Neurona 3\n",
    "        self.__w11_2 = random.uniform(0,1)\n",
    "        self.__w12_2 = random.uniform(0,1)\n",
    "        self.__b1_2 = random.uniform(0,1)\n",
    "\n",
    "    @property\n",
    "    def lista_MSE(self):\n",
    "        return self.__lista_MSE\n",
    "\n",
    "    def __sigmoid(self, x):\n",
    "        sig = 1 / (1 + math.exp(-x))\n",
    "        return sig\n",
    "\n",
    "    def __calculateFirstLayer(self, Xi1, Xi2):\n",
    "        Zi1_1 = self.__w11_1 * Xi1 + self.__w12_1 * Xi2 + self.__b1_1\n",
    "        Zi2_1 = self.__w21_1 * Xi1 + self.__w22_1 * Xi2 + self.__b2_1\n",
    "        ai1_1 = self.__sigmoid(Zi1_1)\n",
    "        ai2_1 = self.__sigmoid(Zi2_1)\n",
    "        return ai1_1, ai2_1\n",
    "\n",
    "    def __calculateSecondLayer(self, ai1_1, ai2_1):\n",
    "        Zi1_2 = self.__w11_2 * ai1_1 + self.__w12_2 * ai2_1 + self.__b1_2\n",
    "        return Zi1_2\n",
    "\n",
    "    def predict(self, Xi1, Xi2):\n",
    "        # Forward\n",
    "        # Primer capa\n",
    "        ai1_1, ai2_1 = self.__calculateFirstLayer(Xi1, Xi2)\n",
    "        # Segunda capa\n",
    "        Zi1_2 = self.__calculateSecondLayer(ai1_1, ai2_1)\n",
    "        # Salida\n",
    "        return Zi1_2\n",
    "    \n",
    "    def fit(self, input):\n",
    "        for n in range(self.__n_epochs):\n",
    "            for Xi1, Xi2 in input:\n",
    "                # Forward\n",
    "                # Primer capa\n",
    "                ai1_1, ai2_1 = self.__calculateFirstLayer(Xi1, Xi2)\n",
    "                # Segunda capa\n",
    "                Zi1_2 = self.__calculateSecondLayer(ai1_1, ai2_1)\n",
    "                # Salida\n",
    "                y_hat = Zi1_2\n",
    "                y_true = 0 if Xi1 == Xi2 else 1\n",
    "\n",
    "                # Error\n",
    "                err = y_true - y_hat\n",
    "        \n",
    "                # Backpropagation\n",
    "                L_w11_2 = -2 * err * ai1_1\n",
    "                L_w12_2 = -2 * err * ai2_1\n",
    "                L_b1_2 = -2 * err\n",
    "        \n",
    "                L_w11_1 = -2 * err * self.__w11_2 * ai1_1 * (1 - ai1_1) * Xi1\n",
    "                L_w12_1 = -2 * err * self.__w11_2 * ai1_1 * (1 - ai1_1) * Xi2\n",
    "                L_b1_1 = -2 * err * self.__w11_2 * ai1_1 * (1 - ai1_1)\n",
    "\n",
    "                L_w21_1 = -2 * err * self.__w12_2 * ai2_1 * (1 - ai2_1) * Xi1\n",
    "                L_w22_1 = -2 * err * self.__w12_2 * ai2_1 * (1 - ai2_1) * Xi2\n",
    "                L_b2_1 = -2 * err * self.__w12_2 * ai2_1 * (1 - ai2_1)\n",
    "                # Actualizar pesos\n",
    "                # Pesos y bias Neurona 1\n",
    "                self.__w11_1 = self.__w11_1 - self.__alfa * L_w11_1\n",
    "                self.__w12_1 = self.__w12_1 - self.__alfa * L_w12_1\n",
    "                self.__b1_1 = self.__b1_1 - self.__alfa * L_b1_1\n",
    "                # Pesos y bias Neurona 2\n",
    "                self.__w21_1 = self.__w21_1 - self.__alfa * L_w21_1\n",
    "                self.__w22_1 = self.__w22_1 - self.__alfa * L_w22_1\n",
    "                self.__b2_1 = self.__b2_1 - self.__alfa * L_b2_1\n",
    "                # Pesos y bias Neurona 3\n",
    "                self.__w11_2 = self.__w11_2 - self.__alfa * L_w11_2\n",
    "                self.__w12_2 = self.__w12_2 - self.__alfa * L_w12_2\n",
    "                self.__b1_2 = self.__b1_2 - self.__alfa * L_b1_2\n",
    "\n",
    "                # Calcular MSE\n",
    "                mse = (y_true - y_hat)**2\n",
    "            mse = mse/4\n",
    "            self.__lista_MSE.append(mse)\n",
    "        \n"
   ]
  },
  {
   "cell_type": "code",
   "execution_count": 47,
   "metadata": {},
   "outputs": [],
   "source": [
    "nnet = NNetXor(1000, 0.5)\n",
    "input = [ [0,0], [0,1], [1,0], [1,1] ]\n",
    "nnet.fit(input)\n"
   ]
  },
  {
   "cell_type": "code",
   "execution_count": 48,
   "metadata": {},
   "outputs": [
    {
     "data": {
      "text/plain": [
       "[<matplotlib.lines.Line2D at 0x1147b5330>]"
      ]
     },
     "execution_count": 48,
     "metadata": {},
     "output_type": "execute_result"
    },
    {
     "data": {
      "image/png": "[encoded data removed]",
      "text/plain": [
       "<Figure size 432x288 with 1 Axes>"
      ]
     },
     "metadata": {
      "needs_background": "light"
     },
     "output_type": "display_data"
    }
   ],
   "source": [
    "plt.title(\"MSE a medida que avanzan las epochs\")\n",
    "plt.xlabel(\"Epochs\")\n",
    "plt.ylabel(\"MSE\")\n",
    "plt.plot(range(1000), nnet.lista_MSE)"
   ]
  },
  {
   "cell_type": "code",
   "execution_count": 49,
   "metadata": {},
   "outputs": [
    {
     "data": {
      "text/plain": [
       "1.0"
      ]
     },
     "execution_count": 49,
     "metadata": {},
     "output_type": "execute_result"
    }
   ],
   "source": [
    "round(nnet.predict(1,0), 2)"
   ]
  },
  {
   "cell_type": "code",
   "execution_count": 50,
   "metadata": {},
   "outputs": [
    {
     "data": {
      "text/plain": [
       "0.0"
      ]
     },
     "execution_count": 50,
     "metadata": {},
     "output_type": "execute_result"
    }
   ],
   "source": [
    "round(nnet.predict(1,1), 2)"
   ]
  }
 ],
 "metadata": {
  "kernelspec": {
   "display_name": "Python 3.10.4 64-bit",
   "language": "python",
   "name": "python3"
  },
  "language_info": {
   "codemirror_mode": {
    "name": "ipython",
    "version": 3
   },
   "file_extension": ".py",
   "mimetype": "text/x-python",
   "name": "python",
   "nbconvert_exporter": "python",
   "pygments_lexer": "ipython3",
   "version": "3.10.4"
  },
  "orig_nbformat": 4,
  "vscode": {
   "interpreter": {
    "hash": "aee8b7b246df8f9039afb4144a1f6fd8d2ca17a180786b69acc140d282b71a49"
   }
  }
 },
 "nbformat": 4,
 "nbformat_minor": 2
}
