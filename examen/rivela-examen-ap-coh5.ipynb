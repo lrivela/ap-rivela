{
 "cells": [
  {
   "cell_type": "markdown",
   "metadata": {},
   "source": [
    "## Examen Aprendizaje Profundo\n",
    "\n",
    "#### Alumno: Lucas Rivela\n",
    "#### Cohorte: 5\n",
    "#### Profesores: Ezequiel Esposito y Marcos Maillot"
   ]
  },
  {
   "cell_type": "code",
   "execution_count": 307,
   "metadata": {},
   "outputs": [],
   "source": [
    "import matplotlib.pyplot as plt\n",
    "import numpy as np\n",
    "import pandas as pd\n",
    "import random\n",
    "import torch\n",
    "from scipy import stats\n",
    "from sklearn import metrics\n",
    "from torch.utils.data import Dataset, DataLoader"
   ]
  },
  {
   "cell_type": "markdown",
   "metadata": {},
   "source": [
    "#### Punto 1\n",
    "\n",
    "Para el modelo propuesto lo que voy a hacer es tener una loss function que exprese el error cuadrático medio (MSE) y luego voy a calcular la derivada de esta salida respecto de cada parámetro de la ecuación, utilizando la regla de la cadena"
   ]
  },
  {
   "cell_type": "markdown",
   "metadata": {},
   "source": [
    "##### Modelo\n",
    "\n",
    "$\\hat{y} = x^3w_{1} + x^2w_{2} + xw_{1} + b$\n",
    "\n",
    "##### Loss function\n",
    "\n",
    "$L = (y_{i} - \\hat{y_{i}})^2$\n",
    "\n",
    "$\\frac{\\partial L}{\\partial \\hat{y}} = -2 . (y - \\hat{y})$\n",
    "\n",
    "##### Derivada respecto de $w_{1}$\n",
    "\n",
    "$\\frac{\\partial L}{\\partial {w_{1}}} = \\frac{\\partial L}{\\partial \\hat{y}} . \\frac{\\partial \\hat{y}}{\\partial w_{1}} = -2 . (y - \\hat{y}) . (x^3 + x) $\n",
    "\n",
    "##### Derivada respecto de $w_{2}$\n",
    "\n",
    "$\\frac{\\partial L}{\\partial {w_{2}}} = \\frac{\\partial L}{\\partial \\hat{y}} . \\frac{\\partial \\hat{y}}{\\partial w_{2}} = -2 . (y - \\hat{y}) . (x^2) $\n",
    "\n",
    "##### Derivada respecto de $b$\n",
    "\n",
    "$\\frac{\\partial L}{\\partial b} = \\frac{\\partial L}{\\partial \\hat{y}} . \\frac{\\partial \\hat{y}}{\\partial b} = -2 . (y - \\hat{y}) $"
   ]
  },
  {
   "cell_type": "code",
   "execution_count": 56,
   "metadata": {},
   "outputs": [],
   "source": [
    "# Hiperparametros\n",
    "n_epochs = 1000\n",
    "alfa = 0.001\n",
    "batches = 10\n",
    "epsilon = 0.1"
   ]
  },
  {
   "cell_type": "code",
   "execution_count": 57,
   "metadata": {},
   "outputs": [
    {
     "name": "stdout",
     "output_type": "stream",
     "text": [
      "0.514398494861493 0.9668374007716195 0.43577147061524024\n"
     ]
    }
   ],
   "source": [
    "# Inicializo pesos de forma aleatoria\n",
    "w1 = random.uniform(0, 1)\n",
    "w2 = random.uniform(0, 1)\n",
    "b = random.uniform(0, 1)\n",
    "print(w1, w2, b)"
   ]
  },
  {
   "cell_type": "code",
   "execution_count": 8,
   "metadata": {},
   "outputs": [
    {
     "name": "stdout",
     "output_type": "stream",
     "text": [
      "Shape  (10000, 2)\n",
      "NaNs  False\n"
     ]
    }
   ],
   "source": [
    "# Cargo el dataset\n",
    "dataset = np.genfromtxt('dataset_1.csv', delimiter=',')\n",
    "print(\"Shape \", dataset.shape)\n",
    "print(\"NaNs \", np.isnan(np.sum(dataset)))"
   ]
  },
  {
   "cell_type": "code",
   "execution_count": 9,
   "metadata": {},
   "outputs": [],
   "source": [
    "def calculate_y_hat(X, w1, w2, b):\n",
    "    \"\"\"\n",
    "    Función que hace el forward del modelo\n",
    "\n",
    "    Parameters:\n",
    "        X: Input batch del modelo para predecir el resultado\n",
    "        w1: Peso para w1\n",
    "        w2: Peso para w2\n",
    "        b: Peso para b\n",
    "    Returns:\n",
    "        y_hat: (np.array) Predicciones del batch\n",
    "    \"\"\"\n",
    "    y_hat = w1*(X**3) + w2*(X**2) + w1*(X) + [b] * len(X)\n",
    "    return y_hat"
   ]
  },
  {
   "cell_type": "code",
   "execution_count": 10,
   "metadata": {},
   "outputs": [],
   "source": [
    "def calculate_loss_w1(err, X_batch):\n",
    "    \"\"\"\n",
    "    Función que calcula la derivada de la loss function respecto del peso w1\n",
    "\n",
    "    Parameters:\n",
    "        err: Error del batch\n",
    "        X_batch: Input batch del modelo\n",
    "\n",
    "    Returns:\n",
    "        loss_w1: Derivada de la loss function respecto de w1 para el batch\n",
    "    \"\"\"\n",
    "    loss = -2 * err * ( (X_batch**3) + (X_batch) )\n",
    "    return np.sum(loss) / len(X_batch)"
   ]
  },
  {
   "cell_type": "code",
   "execution_count": 11,
   "metadata": {},
   "outputs": [],
   "source": [
    "def calculate_loss_w2(err, X_batch):\n",
    "    \"\"\"\n",
    "    Función que calcula la derivada de la loss function respecto del peso w2\n",
    "\n",
    "    Parameters:\n",
    "        err: Error del batch\n",
    "        X_batch: Input batch del modelo\n",
    "\n",
    "    Returns:\n",
    "        loss_w2: Derivada de la loss function respecto de w2 para el batch\n",
    "    \"\"\"\n",
    "    loss = -2 * err * (X_batch**2)\n",
    "    return np.sum(loss) / len(X_batch)"
   ]
  },
  {
   "cell_type": "code",
   "execution_count": 12,
   "metadata": {},
   "outputs": [],
   "source": [
    "def calculate_loss_b(err, X_batch):\n",
    "    \"\"\"\n",
    "    Función que calcula la derivada de la loss function respecto del peso b\n",
    "\n",
    "    Parameters:\n",
    "        err: Error del batch\n",
    "        X_batch: Input batch del modelo\n",
    "\n",
    "    Returns:\n",
    "        loss_b: Derivada de la loss function respecto de b para el batch\n",
    "    \"\"\"\n",
    "    loss = -2 * err\n",
    "    return np.sum(loss) / len(X_batch)"
   ]
  },
  {
   "cell_type": "code",
   "execution_count": 30,
   "metadata": {},
   "outputs": [],
   "source": [
    "def create_mini_batches(dataset, batch_size):\n",
    "    \"\"\"\n",
    "    Función que genera batches a partir de un dataset y un tamaño de batch\n",
    "\n",
    "    Parameters:\n",
    "        dataset: Dataset\n",
    "        batch_size: tamaño del batch\n",
    "\n",
    "    Returns:\n",
    "        mini_batches: Lista de batches\n",
    "    \"\"\"\n",
    "    mini_batches = []\n",
    "    for i in range(0, dataset.shape[0], batch_size):\n",
    "        mini_batch = np.array(dataset[i: i + batch_size,])\n",
    "        mini_batches.append(mini_batch)\n",
    "    \n",
    "    return mini_batches"
   ]
  },
  {
   "cell_type": "code",
   "execution_count": 58,
   "metadata": {},
   "outputs": [
    {
     "name": "stdout",
     "output_type": "stream",
     "text": [
      "Training 1000\n"
     ]
    }
   ],
   "source": [
    "#batch_list = create_mini_batches(dataset[:8000,], batches)\n",
    "batch_list = create_mini_batches(dataset, batches)\n",
    "print(\"Training\", len(batch_list))\n",
    "#validation_batch = create_mini_batches(dataset[8001:,], batches)\n",
    "#print(\"Validation\", len(validation_batch))"
   ]
  },
  {
   "cell_type": "code",
   "execution_count": 59,
   "metadata": {},
   "outputs": [],
   "source": [
    "ecm = []\n",
    "val_ecm = []\n",
    "for e in range(n_epochs):\n",
    "    change_w1 = 0\n",
    "    change_w2 = 0\n",
    "    change_b = 0\n",
    "    mse_batch = 0\n",
    "    mse_val = 0\n",
    "\n",
    "    for batch in batch_list:\n",
    "        y_hat = calculate_y_hat(batch[:,0], w1, w2, b)\n",
    "        err = (batch[:,1] - y_hat)\n",
    "\n",
    "        loss_w1 = calculate_loss_w1(err, batch[:,0])\n",
    "        loss_w2 = calculate_loss_w2(err, batch[:,0])\n",
    "        loss_b = calculate_loss_b(err, batch[:,0])\n",
    "\n",
    "        new_change_w1 = ( alfa * loss_w1 + epsilon * change_w1 )\n",
    "        new_change_w2 = ( alfa * loss_w2 + epsilon * change_w2 )\n",
    "        new_change_b = ( alfa * loss_b + epsilon * change_b )\n",
    "\n",
    "        w1 = w1 - new_change_w1\n",
    "        w2 = w2 - new_change_w2\n",
    "        b = b - new_change_b\n",
    "\n",
    "        change_w1 = new_change_w1\n",
    "        change_w2 = new_change_w2\n",
    "        change_b = new_change_b\n",
    "\n",
    "        mse_batch += np.sum(err ** 2) / batch.shape[0]\n",
    "    ecm.append(mse_batch)\n",
    "\n",
    "    #for batch in validation_batch:\n",
    "    #    y_hat = calculate_y_hat(batch[:,0], w1, w2, b)\n",
    "    #    err = (batch[:,1] - y_hat)\n",
    "    #    mse_val += np.sum(err ** 2) / batch.shape[0]\n",
    "    #val_ecm.append(mse_val)"
   ]
  },
  {
   "cell_type": "code",
   "execution_count": 61,
   "metadata": {},
   "outputs": [
    {
     "data": {
      "text/plain": [
       "<matplotlib.legend.Legend at 0x115b2f5b0>"
      ]
     },
     "execution_count": 61,
     "metadata": {},
     "output_type": "execute_result"
    },
    {
     "data": {
      "image/png": "[encoded data removed]",
      "text/plain": [
       "<Figure size 432x288 with 1 Axes>"
      ]
     },
     "metadata": {
      "needs_background": "light"
     },
     "output_type": "display_data"
    }
   ],
   "source": [
    "plt.plot(range(n_epochs), ecm, label='training')\n",
    "plt.axhline(y=0, color='k')\n",
    "plt.legend()"
   ]
  },
  {
   "cell_type": "code",
   "execution_count": 306,
   "metadata": {},
   "outputs": [
    {
     "data": {
      "text/plain": [
       "<matplotlib.legend.Legend at 0x12cf58dc0>"
      ]
     },
     "execution_count": 306,
     "metadata": {},
     "output_type": "execute_result"
    },
    {
     "data": {
      "image/png": "[encoded data removed]",
      "text/plain": [
       "<Figure size 720x720 with 1 Axes>"
      ]
     },
     "metadata": {
      "needs_background": "light"
     },
     "output_type": "display_data"
    }
   ],
   "source": [
    "y_hat = calculate_y_hat(dataset[:,0], w1, w2, b)\n",
    "plt.figure(figsize=(10,10))\n",
    "plt.scatter(dataset[:,0], y_hat, label='funcion generada', c='blue', s=1)\n",
    "plt.scatter(dataset[:,0], dataset[:,1], label='datos reales', c='red', s=1)\n",
    "plt.legend()"
   ]
  },
  {
   "cell_type": "markdown",
   "metadata": {},
   "source": [
    "De los gráficos anteriores se puede ver que el modelo está haciendo underfitting. Esto es así porque el MSE queda estancado y no logra seguir descendiendo. Además cuando vemos el scatterplot del $y$ real vs el $\\hat{y}$; la función no tiene la flexibilidad necesaria para adaptarse a la curva."
   ]
  },
  {
   "cell_type": "markdown",
   "metadata": {},
   "source": [
    "#### Punto 2"
   ]
  },
  {
   "cell_type": "code",
   "execution_count": 81,
   "metadata": {},
   "outputs": [],
   "source": [
    "class MyDataset(Dataset):\n",
    "\n",
    "    def __init__(self, X, y):\n",
    "      super().__init__()\n",
    "      self.X = X\n",
    "      self.y = y\n",
    "\n",
    "    def __len__(self):\n",
    "      return self.X.shape[0]\n",
    "\n",
    "    def __getitem__(self, idx):\n",
    "      return self.X[idx], self.y[idx]"
   ]
  },
  {
   "cell_type": "code",
   "execution_count": 264,
   "metadata": {},
   "outputs": [],
   "source": [
    "train = MyDataset(np.expand_dims(dataset[:,0], axis=0).T, np.expand_dims(dataset[:,1], axis=0).T)\n",
    "#validation = MyDataset(np.expand_dims(dataset[8000:,0], axis=0).T, np.expand_dims(dataset[8000:,1], axis=0).T)"
   ]
  },
  {
   "cell_type": "code",
   "execution_count": 265,
   "metadata": {},
   "outputs": [
    {
     "name": "stdout",
     "output_type": "stream",
     "text": [
      "Train 10000\n"
     ]
    }
   ],
   "source": [
    "print(\"Train\", len(train))\n",
    "#print(\"Validation\", len(validation))"
   ]
  },
  {
   "cell_type": "code",
   "execution_count": 266,
   "metadata": {},
   "outputs": [],
   "source": [
    "train_dataloader = DataLoader(train, batch_size=64, shuffle=False)\n",
    "#valid_dataloader = DataLoader(validation, batch_size=64, shuffle=False)"
   ]
  },
  {
   "cell_type": "code",
   "execution_count": 267,
   "metadata": {},
   "outputs": [],
   "source": [
    "class NNet(torch.nn.Module):\n",
    "    \n",
    "    def __init__(self):\n",
    "        super().__init__()\n",
    "        self.linear_1 = torch.nn.Linear(in_features=1, out_features=20, bias=True)\n",
    "        self.relu_1 = torch.nn.ReLU()\n",
    "        self.linear_2 = torch.nn.Linear(in_features=20, out_features=20, bias=True)\n",
    "        self.relu_2 = torch.nn.ReLU()\n",
    "        self.linear_3 = torch.nn.Linear(in_features=20, out_features=20, bias=True)\n",
    "        self.relu_3 = torch.nn.ReLU()\n",
    "        self.linear_4 = torch.nn.Linear(in_features=20, out_features=20, bias=True)\n",
    "        self.relu_4 = torch.nn.ReLU()\n",
    "        self.linear_5 = torch.nn.Linear(in_features=20, out_features=20, bias=True)\n",
    "        self.relu_5 = torch.nn.ReLU()\n",
    "        self.linear_6 = torch.nn.Linear(in_features=20, out_features=20, bias=True)\n",
    "        self.relu_6 = torch.nn.ReLU()\n",
    "        self.linear_7 = torch.nn.Linear(in_features=20, out_features=20, bias=True)\n",
    "        self.relu_7 = torch.nn.ReLU()\n",
    "        self.linear_8 = torch.nn.Linear(in_features=20, out_features=20, bias=True)\n",
    "        self.relu_8 = torch.nn.ReLU()\n",
    "        self.linear_9 = torch.nn.Linear(in_features=20, out_features=20, bias=True)\n",
    "        self.relu_9 = torch.nn.ReLU()\n",
    "        self.linear_10 = torch.nn.Linear(in_features=20, out_features=20, bias=True)\n",
    "        self.relu_10 = torch.nn.ReLU()\n",
    "        self.output = torch.nn.Linear(in_features=20, out_features=1, bias=True)\n",
    "\n",
    "    def forward(self, x): # x.shape -> 64x1\n",
    "        x = self.linear_1(x) # 64x200\n",
    "        x = self.relu_1(x) # 64x200\n",
    "        x = self.linear_2(x) # 64x100\n",
    "        x = self.relu_2(x) # 64x100\n",
    "        x = self.linear_3(x) # 64x50\n",
    "        x = self.relu_3(x) # 64x50\n",
    "        x = self.linear_4(x) # 64x50\n",
    "        x = self.relu_4(x) # 64x50\n",
    "        x = self.linear_5(x) # 64x50\n",
    "        x = self.relu_5(x) # 64x50\n",
    "        x = self.linear_6(x) # 64x50\n",
    "        x = self.relu_6(x) # 64x50\n",
    "        x = self.linear_7(x) # 64x50\n",
    "        x = self.relu_7(x) # 64x50\n",
    "        x = self.linear_8(x) # 64x50\n",
    "        x = self.relu_8(x) # 64x50\n",
    "        x = self.linear_9(x) # 64x50\n",
    "        x = self.relu_9(x) # 64x50\n",
    "        x = self.linear_10(x) # 64x50\n",
    "        x = self.relu_10(x) # 64x50\n",
    "        x = self.output(x) # 64x1\n",
    "        return x"
   ]
  },
  {
   "cell_type": "code",
   "execution_count": 302,
   "metadata": {},
   "outputs": [],
   "source": [
    "nnet = NNet()\n",
    "optimizer = torch.optim.Adam(nnet.parameters(), lr=0.001)\n",
    "loss_function = torch.nn.MSELoss()"
   ]
  },
  {
   "cell_type": "code",
   "execution_count": 119,
   "metadata": {},
   "outputs": [],
   "source": [
    "device = \"\"\n",
    "if torch.cuda.is_available():\n",
    "  device = \"cuda:0\"\n",
    "else:\n",
    "  device = \"cpu\""
   ]
  },
  {
   "cell_type": "code",
   "execution_count": 120,
   "metadata": {},
   "outputs": [],
   "source": [
    "RANGE=100"
   ]
  },
  {
   "cell_type": "code",
   "execution_count": 303,
   "metadata": {},
   "outputs": [
    {
     "name": "stdout",
     "output_type": "stream",
     "text": [
      "Epoch 0 | Training loss: 826.8471979498863\n",
      "Epoch 1 | Training loss: 91.55461031198502\n",
      "Epoch 2 | Training loss: 80.23423650860786\n",
      "Epoch 3 | Training loss: 76.78788569569588\n",
      "Epoch 4 | Training loss: 65.82765436172485\n",
      "Epoch 5 | Training loss: 46.76093591749668\n",
      "Epoch 6 | Training loss: 43.37208506464958\n",
      "Epoch 7 | Training loss: 41.97687063366175\n",
      "Epoch 8 | Training loss: 39.94534566998482\n",
      "Epoch 9 | Training loss: 38.06306739151478\n",
      "Epoch 10 | Training loss: 35.92683035880327\n",
      "Epoch 11 | Training loss: 30.0580199547112\n",
      "Epoch 12 | Training loss: 11.64140777476132\n",
      "Epoch 13 | Training loss: 0.9802045291289687\n",
      "Epoch 14 | Training loss: 0.16737772143096663\n",
      "Epoch 15 | Training loss: 0.10269188793608919\n",
      "Epoch 16 | Training loss: 0.08321504821651615\n",
      "Epoch 17 | Training loss: 0.06910685170441866\n",
      "Epoch 18 | Training loss: 0.0596879591466859\n",
      "Epoch 19 | Training loss: 0.0524889978041756\n",
      "Epoch 20 | Training loss: 0.05195330006245058\n",
      "Epoch 21 | Training loss: 0.04968427868152503\n",
      "Epoch 22 | Training loss: 0.051685831014765427\n",
      "Epoch 23 | Training loss: 0.07167015879531391\n",
      "Epoch 24 | Training loss: 0.080009463839815\n",
      "Epoch 25 | Training loss: 0.06635518211260205\n",
      "Epoch 26 | Training loss: 0.08098975851316936\n",
      "Epoch 27 | Training loss: 0.07850755772233242\n",
      "Epoch 28 | Training loss: 0.07788901623280253\n",
      "Epoch 29 | Training loss: 0.20187656374037033\n",
      "Epoch 30 | Training loss: 0.08256521434668684\n",
      "Epoch 31 | Training loss: 0.428798657751031\n",
      "Epoch 32 | Training loss: 0.10225753856502706\n",
      "Epoch 33 | Training loss: 0.09638706035912037\n",
      "Epoch 34 | Training loss: 0.08280316296441015\n",
      "Epoch 35 | Training loss: 0.08130946184974164\n",
      "Epoch 36 | Training loss: 0.6218276507133851\n",
      "Epoch 37 | Training loss: 0.06457992768264376\n",
      "Epoch 38 | Training loss: 0.09223961798852542\n",
      "Epoch 39 | Training loss: 0.10431660178437596\n",
      "Epoch 40 | Training loss: 0.09090689855293022\n",
      "Epoch 41 | Training loss: 0.06280829879688099\n",
      "Epoch 42 | Training loss: 0.5510872986124014\n",
      "Epoch 43 | Training loss: 0.072732182481559\n",
      "Epoch 44 | Training loss: 0.09474932403099956\n",
      "Epoch 45 | Training loss: 0.08755559881683439\n",
      "Epoch 46 | Training loss: 0.06317633348953677\n",
      "Epoch 47 | Training loss: 0.083120224007871\n",
      "Epoch 48 | Training loss: 0.6898552730563097\n",
      "Epoch 49 | Training loss: 0.06709174355637515\n",
      "Epoch 50 | Training loss: 0.12659098108997568\n",
      "Epoch 51 | Training loss: 0.14195176176872337\n",
      "Epoch 52 | Training loss: 0.16616432457522023\n",
      "Epoch 53 | Training loss: 0.1700009085398051\n",
      "Epoch 54 | Training loss: 0.15973201598535525\n",
      "Epoch 55 | Training loss: 0.16667643137770938\n",
      "Epoch 56 | Training loss: 0.1438986212160671\n",
      "Epoch 57 | Training loss: 0.12096196271158988\n",
      "Epoch 58 | Training loss: 0.08699179800169077\n",
      "Epoch 59 | Training loss: 0.05619919509626925\n",
      "Epoch 60 | Training loss: 0.6659167015095591\n",
      "Epoch 61 | Training loss: 0.04127645577318617\n",
      "Epoch 62 | Training loss: 0.05362106259417487\n",
      "Epoch 63 | Training loss: 0.0765685706428485\n",
      "Epoch 64 | Training loss: 0.07004637771751732\n",
      "Epoch 65 | Training loss: 0.07084325292453286\n",
      "Epoch 66 | Training loss: 0.5836552844339167\n",
      "Epoch 67 | Training loss: 0.037083021550643025\n",
      "Epoch 68 | Training loss: 0.06861398703040322\n",
      "Epoch 69 | Training loss: 0.06633429148132564\n",
      "Epoch 70 | Training loss: 0.046950325966463424\n",
      "Epoch 71 | Training loss: 0.5240997254077229\n",
      "Epoch 72 | Training loss: 0.04460812940305914\n",
      "Epoch 73 | Training loss: 0.06469274880873854\n",
      "Epoch 74 | Training loss: 0.060471129705547355\n",
      "Epoch 75 | Training loss: 0.060796827587182634\n",
      "Epoch 76 | Training loss: 0.5626018586081045\n",
      "Epoch 77 | Training loss: 0.035143890941981226\n",
      "Epoch 78 | Training loss: 0.05689007010005298\n",
      "Epoch 79 | Training loss: 0.05190861294613569\n",
      "Epoch 80 | Training loss: 0.06426823294896167\n",
      "Epoch 81 | Training loss: 0.5695799793465994\n",
      "Epoch 82 | Training loss: 0.031120885694690514\n",
      "Epoch 83 | Training loss: 0.048803995283378754\n",
      "Epoch 84 | Training loss: 0.04653768123171176\n",
      "Epoch 85 | Training loss: 0.07020039628696395\n",
      "Epoch 86 | Training loss: 0.5916765890287934\n",
      "Epoch 87 | Training loss: 0.029661954555194825\n",
      "Epoch 88 | Training loss: 0.03812626408034703\n",
      "Epoch 89 | Training loss: 0.041180627627909416\n",
      "Epoch 90 | Training loss: 0.04494860171325854\n",
      "Epoch 91 | Training loss: 0.51583304804808\n",
      "Epoch 92 | Training loss: 0.026643813802365912\n",
      "Epoch 93 | Training loss: 0.038876955812156666\n",
      "Epoch 94 | Training loss: 0.04814952708329656\n",
      "Epoch 95 | Training loss: 0.042980113394150976\n",
      "Epoch 96 | Training loss: 0.406410927482284\n",
      "Epoch 97 | Training loss: 0.04559651770978235\n",
      "Epoch 98 | Training loss: 0.04455275291002181\n",
      "Epoch 99 | Training loss: 0.03862371490322403\n"
     ]
    }
   ],
   "source": [
    "nnet.to(device)\n",
    "\n",
    "loss_list = []\n",
    "validation_loss_list = []\n",
    "for epoch in range(RANGE):\n",
    "    running_loss = 0\n",
    "    running_y_score = []\n",
    "    running_validation_loss = 0\n",
    "    running_validation_y_score = []\n",
    "    y_label = []\n",
    "    \n",
    "    #### TRAINING ####\n",
    "    for i, data in enumerate(train_dataloader):\n",
    "        X_batch, y_batch = data #  Datos del batch\n",
    "        X_batch = X_batch.to(device).float()\n",
    "        Y_batch = y_batch.to(device).float()\n",
    "\n",
    "        # forward\n",
    "        optimizer.zero_grad()\n",
    "        y_batch_score = nnet(X_batch)\n",
    "\n",
    "        # backprop\n",
    "        loss = loss_function(y_batch_score, Y_batch)  # Calcula el loss\n",
    "        loss.backward()  # Hacer los gradientes del loss\n",
    "\n",
    "        # actualizacion de parametros\n",
    "        optimizer.step()\n",
    "\n",
    "        # metrics\n",
    "        running_loss += loss.item()\n",
    "        running_y_score += list(y_batch_score.detach().cpu().numpy())\n",
    "\n",
    "    # Metrics\n",
    "    loss_list.append(running_loss)\n",
    "    print(f\"Epoch {epoch} | Training loss: {running_loss}\")\n",
    "\n",
    "    ###### VALIDATION ####\n",
    "    #nnet.eval()\n",
    "    #with torch.no_grad():\n",
    "    #    for i, data in enumerate(valid_dataloader): \n",
    "    #        # Datos del batch\n",
    "    #        X_validation_batch, y_validation_batch = data\n",
    "    #        X_validation_batch = X_validation_batch.to(device).float()\n",
    "    #        Y_validation_batch = y_validation_batch.to(device).float()\n",
    "    #\n",
    "    #        # Forward\n",
    "    #        y_validation_batch_score = nnet(X_validation_batch)\n",
    "    #\n",
    "    #        validation_loss = loss_function(y_validation_batch_score, Y_validation_batch) #  Calcula el loss\n",
    "    #\n",
    "    #        # Acumular validation loss\n",
    "    #        running_validation_loss += validation_loss.item()\n",
    "    #\n",
    "    #        # Acumular metrics y_score and y\n",
    "    #        running_validation_y_score += list(y_validation_batch_score.detach().cpu().numpy())\n",
    "    #\n",
    "    ## Calcular las metricas\n",
    "    #validation_loss_list.append(running_validation_loss)\n",
    "    #print(f\"Epoch {epoch} | Validation loss: {running_validation_loss}\")"
   ]
  },
  {
   "cell_type": "code",
   "execution_count": 304,
   "metadata": {},
   "outputs": [
    {
     "data": {
      "text/plain": [
       "<matplotlib.legend.Legend at 0x12d5bf490>"
      ]
     },
     "execution_count": 304,
     "metadata": {},
     "output_type": "execute_result"
    },
    {
     "data": {
      "image/png": "[encoded data removed]",
      "text/plain": [
       "<Figure size 432x288 with 1 Axes>"
      ]
     },
     "metadata": {
      "needs_background": "light"
     },
     "output_type": "display_data"
    }
   ],
   "source": [
    "# Plot train loss and valid loss vs epochs\n",
    "fig, ax1 = plt.subplots(1,1)\n",
    "x = range(0, len(loss_list))\n",
    "ax1.plot(x, loss_list, color='b', label='train')\n",
    "#ax1.plot(x, validation_loss_list, color='r', label='valid')\n",
    "ax1.legend()"
   ]
  },
  {
   "cell_type": "code",
   "execution_count": 305,
   "metadata": {},
   "outputs": [
    {
     "data": {
      "text/plain": [
       "<matplotlib.legend.Legend at 0x12e004640>"
      ]
     },
     "execution_count": 305,
     "metadata": {},
     "output_type": "execute_result"
    },
    {
     "data": {
      "image/png": "[encoded data removed]",
      "text/plain": [
       "<Figure size 720x720 with 1 Axes>"
      ]
     },
     "metadata": {
      "needs_background": "light"
     },
     "output_type": "display_data"
    }
   ],
   "source": [
    "plt.figure(figsize=(10,10))\n",
    "plt.scatter(dataset[:,0], running_y_score, label='funcion generada', c='blue', s=1)\n",
    "plt.scatter(dataset[:,0], dataset[:,1], label='datos reales', c='red', s=1)\n",
    "plt.legend()"
   ]
  },
  {
   "cell_type": "markdown",
   "metadata": {},
   "source": [
    "De los gráficos anteriores podemos ver que la Red está haciendo overfitting, ya que se está aprendiendo de memoria la función dentro del intervalo 0,2."
   ]
  },
  {
   "cell_type": "markdown",
   "metadata": {},
   "source": [
    "Agrego Regularización L2"
   ]
  },
  {
   "cell_type": "code",
   "execution_count": 296,
   "metadata": {},
   "outputs": [],
   "source": [
    "nnet = NNet()\n",
    "optimizer = torch.optim.Adam(nnet.parameters(), lr=0.001, weight_decay=25e-3)"
   ]
  },
  {
   "cell_type": "code",
   "execution_count": 297,
   "metadata": {},
   "outputs": [
    {
     "name": "stdout",
     "output_type": "stream",
     "text": [
      "Epoch 0 | Training loss: 935.2953335642815\n",
      "Epoch 1 | Training loss: 85.27918720245361\n",
      "Epoch 2 | Training loss: 81.75405350327492\n",
      "Epoch 3 | Training loss: 81.61565592885017\n",
      "Epoch 4 | Training loss: 81.58612886071205\n",
      "Epoch 5 | Training loss: 81.56845504045486\n",
      "Epoch 6 | Training loss: 81.55111089348793\n",
      "Epoch 7 | Training loss: 81.54748266935349\n",
      "Epoch 8 | Training loss: 81.53663411736488\n",
      "Epoch 9 | Training loss: 81.52129945158958\n",
      "Epoch 10 | Training loss: 81.52173271775246\n",
      "Epoch 11 | Training loss: 81.47778964042664\n",
      "Epoch 12 | Training loss: 81.45994195342064\n",
      "Epoch 13 | Training loss: 81.44738608598709\n",
      "Epoch 14 | Training loss: 81.42913526296616\n",
      "Epoch 15 | Training loss: 81.4188024699688\n",
      "Epoch 16 | Training loss: 81.3962234556675\n",
      "Epoch 17 | Training loss: 81.38541132211685\n",
      "Epoch 18 | Training loss: 81.37401133775711\n",
      "Epoch 19 | Training loss: 81.36018109321594\n",
      "Epoch 20 | Training loss: 81.35624796152115\n",
      "Epoch 21 | Training loss: 81.34126818180084\n",
      "Epoch 22 | Training loss: 81.32580387592316\n",
      "Epoch 23 | Training loss: 81.30908957123756\n",
      "Epoch 24 | Training loss: 81.18014416098595\n",
      "Epoch 25 | Training loss: 80.33368867635727\n",
      "Epoch 26 | Training loss: 78.51195219159126\n",
      "Epoch 27 | Training loss: 75.7443100810051\n",
      "Epoch 28 | Training loss: 70.83600476384163\n",
      "Epoch 29 | Training loss: 59.40488010644913\n",
      "Epoch 30 | Training loss: 43.91352233290672\n",
      "Epoch 31 | Training loss: 33.66244700551033\n",
      "Epoch 32 | Training loss: 25.98883806914091\n",
      "Epoch 33 | Training loss: 20.189182370901108\n",
      "Epoch 34 | Training loss: 15.436780855059624\n",
      "Epoch 35 | Training loss: 11.404662979766726\n",
      "Epoch 36 | Training loss: 8.842613771557808\n",
      "Epoch 37 | Training loss: 7.31029986590147\n",
      "Epoch 38 | Training loss: 6.382663303986192\n",
      "Epoch 39 | Training loss: 5.755034998059273\n",
      "Epoch 40 | Training loss: 5.336962711066008\n",
      "Epoch 41 | Training loss: 4.997026983648539\n",
      "Epoch 42 | Training loss: 4.768978497944772\n",
      "Epoch 43 | Training loss: 4.5963705237954855\n",
      "Epoch 44 | Training loss: 4.437994823791087\n",
      "Epoch 45 | Training loss: 4.2906860541552305\n",
      "Epoch 46 | Training loss: 4.151280181482434\n",
      "Epoch 47 | Training loss: 4.011151543818414\n",
      "Epoch 48 | Training loss: 3.883872955106199\n",
      "Epoch 49 | Training loss: 3.7833547787740827\n",
      "Epoch 50 | Training loss: 3.690994174219668\n",
      "Epoch 51 | Training loss: 3.6176518611609936\n",
      "Epoch 52 | Training loss: 3.5665613375604153\n",
      "Epoch 53 | Training loss: 3.526195626705885\n",
      "Epoch 54 | Training loss: 3.487006071023643\n",
      "Epoch 55 | Training loss: 3.4496655743569136\n",
      "Epoch 56 | Training loss: 3.4139676075428724\n",
      "Epoch 57 | Training loss: 3.3654996771365404\n",
      "Epoch 58 | Training loss: 3.3441009279340506\n",
      "Epoch 59 | Training loss: 3.3062339276075363\n",
      "Epoch 60 | Training loss: 3.2867796206846833\n",
      "Epoch 61 | Training loss: 3.2494505122303963\n",
      "Epoch 62 | Training loss: 3.217120533809066\n",
      "Epoch 63 | Training loss: 3.1946184430271387\n",
      "Epoch 64 | Training loss: 3.173604417592287\n",
      "Epoch 65 | Training loss: 3.1519307754933834\n",
      "Epoch 66 | Training loss: 3.1291151642799377\n",
      "Epoch 67 | Training loss: 3.107041879557073\n",
      "Epoch 68 | Training loss: 3.0792236095294356\n",
      "Epoch 69 | Training loss: 3.0600371612235904\n",
      "Epoch 70 | Training loss: 3.059631104581058\n",
      "Epoch 71 | Training loss: 3.0335049964487553\n",
      "Epoch 72 | Training loss: 3.012430486269295\n",
      "Epoch 73 | Training loss: 3.0147507581859827\n",
      "Epoch 74 | Training loss: 3.0017065247520804\n",
      "Epoch 75 | Training loss: 2.988491063937545\n",
      "Epoch 76 | Training loss: 2.9825118156149983\n",
      "Epoch 77 | Training loss: 2.951388506218791\n",
      "Epoch 78 | Training loss: 2.952754138968885\n",
      "Epoch 79 | Training loss: 2.9594270223751664\n",
      "Epoch 80 | Training loss: 2.9369090078398585\n",
      "Epoch 81 | Training loss: 2.935224193148315\n",
      "Epoch 82 | Training loss: 2.924963427707553\n",
      "Epoch 83 | Training loss: 2.915293482132256\n",
      "Epoch 84 | Training loss: 2.913683040998876\n",
      "Epoch 85 | Training loss: 2.9081145459786057\n",
      "Epoch 86 | Training loss: 2.905862328596413\n",
      "Epoch 87 | Training loss: 2.8933667028322816\n",
      "Epoch 88 | Training loss: 2.889390427619219\n",
      "Epoch 89 | Training loss: 2.883144539780915\n",
      "Epoch 90 | Training loss: 2.8667067531496286\n",
      "Epoch 91 | Training loss: 2.880405738018453\n",
      "Epoch 92 | Training loss: 2.8644669130444527\n",
      "Epoch 93 | Training loss: 2.862428999505937\n",
      "Epoch 94 | Training loss: 2.863459898158908\n",
      "Epoch 95 | Training loss: 2.863037192262709\n",
      "Epoch 96 | Training loss: 2.8493357552215457\n",
      "Epoch 97 | Training loss: 2.845186347141862\n",
      "Epoch 98 | Training loss: 2.846280158497393\n",
      "Epoch 99 | Training loss: 2.843933681026101\n"
     ]
    }
   ],
   "source": [
    "nnet.to(device)\n",
    "\n",
    "loss_list = []\n",
    "validation_loss_list = []\n",
    "for epoch in range(RANGE):\n",
    "    running_loss = 0\n",
    "    running_y_score = []\n",
    "    running_validation_loss = 0\n",
    "    running_validation_y_score = []\n",
    "    y_label = []\n",
    "    \n",
    "    #### TRAINING ####\n",
    "    for i, data in enumerate(train_dataloader):\n",
    "        X_batch, y_batch = data #  Datos del batch\n",
    "        X_batch = X_batch.to(device).float()\n",
    "        Y_batch = y_batch.to(device).float()\n",
    "\n",
    "        # forward\n",
    "        optimizer.zero_grad()\n",
    "        y_batch_score = nnet(X_batch)\n",
    "\n",
    "        # backprop\n",
    "        loss = loss_function(y_batch_score, Y_batch)  # Calcula el loss\n",
    "        loss.backward()  # Hacer los gradientes del loss\n",
    "\n",
    "        # actualizacion de parametros\n",
    "        optimizer.step()\n",
    "\n",
    "        # metrics\n",
    "        running_loss += loss.item()\n",
    "        running_y_score += list(y_batch_score.detach().cpu().numpy())\n",
    "\n",
    "    # Metrics\n",
    "    loss_list.append(running_loss)\n",
    "    print(f\"Epoch {epoch} | Training loss: {running_loss}\")"
   ]
  },
  {
   "cell_type": "code",
   "execution_count": 299,
   "metadata": {},
   "outputs": [
    {
     "data": {
      "text/plain": [
       "<matplotlib.legend.Legend at 0x12c2d0760>"
      ]
     },
     "execution_count": 299,
     "metadata": {},
     "output_type": "execute_result"
    },
    {
     "data": {
      "image/png": "[encoded data removed]",
      "text/plain": [
       "<Figure size 720x720 with 1 Axes>"
      ]
     },
     "metadata": {
      "needs_background": "light"
     },
     "output_type": "display_data"
    }
   ],
   "source": [
    "plt.figure(figsize=(10,10))\n",
    "plt.scatter(dataset[:,0], running_y_score, label='funcion generada', c='blue', s=1)\n",
    "plt.scatter(dataset[:,0], dataset[:,1], label='datos reales', c='red', s=1)\n",
    "plt.legend()"
   ]
  },
  {
   "cell_type": "markdown",
   "metadata": {},
   "source": [
    "#### Punto 3 - A"
   ]
  },
  {
   "cell_type": "markdown",
   "metadata": {},
   "source": [
    "EDA"
   ]
  },
  {
   "cell_type": "code",
   "execution_count": 308,
   "metadata": {},
   "outputs": [],
   "source": [
    "df = pd.read_csv('./dataset_2.csv')"
   ]
  },
  {
   "cell_type": "code",
   "execution_count": 309,
   "metadata": {},
   "outputs": [
    {
     "name": "stdout",
     "output_type": "stream",
     "text": [
      "<class 'pandas.core.frame.DataFrame'>\n",
      "RangeIndex: 550068 entries, 0 to 550067\n",
      "Data columns (total 12 columns):\n",
      " #   Column                      Non-Null Count   Dtype  \n",
      "---  ------                      --------------   -----  \n",
      " 0   User_ID                     550068 non-null  int64  \n",
      " 1   Product_ID                  550068 non-null  object \n",
      " 2   Gender                      550068 non-null  object \n",
      " 3   Age                         550068 non-null  object \n",
      " 4   Occupation                  550068 non-null  int64  \n",
      " 5   City_Category               550068 non-null  object \n",
      " 6   Stay_In_Current_City_Years  550068 non-null  object \n",
      " 7   Marital_Status              550068 non-null  int64  \n",
      " 8   Product_Category_1          550068 non-null  int64  \n",
      " 9   Product_Category_2          376430 non-null  float64\n",
      " 10  Product_Category_3          166821 non-null  float64\n",
      " 11  Purchase                    550068 non-null  int64  \n",
      "dtypes: float64(2), int64(5), object(5)\n",
      "memory usage: 50.4+ MB\n"
     ]
    }
   ],
   "source": [
    "df.info()"
   ]
  },
  {
   "cell_type": "code",
   "execution_count": 311,
   "metadata": {},
   "outputs": [
    {
     "data": {
      "text/plain": [
       "count    550068.000000\n",
       "mean       9263.968713\n",
       "std        5023.065394\n",
       "min          12.000000\n",
       "25%        5823.000000\n",
       "50%        8047.000000\n",
       "75%       12054.000000\n",
       "max       23961.000000\n",
       "Name: Purchase, dtype: float64"
      ]
     },
     "execution_count": 311,
     "metadata": {},
     "output_type": "execute_result"
    }
   ],
   "source": [
    "df['Purchase'].describe()"
   ]
  },
  {
   "cell_type": "code",
   "execution_count": 314,
   "metadata": {},
   "outputs": [
    {
     "data": {
      "text/plain": [
       "User_ID                            0\n",
       "Product_ID                         0\n",
       "Gender                             0\n",
       "Age                                0\n",
       "Occupation                         0\n",
       "City_Category                      0\n",
       "Stay_In_Current_City_Years         0\n",
       "Marital_Status                     0\n",
       "Product_Category_1                 0\n",
       "Product_Category_2            173638\n",
       "Product_Category_3            383247\n",
       "Purchase                           0\n",
       "dtype: int64"
      ]
     },
     "execution_count": 314,
     "metadata": {},
     "output_type": "execute_result"
    }
   ],
   "source": [
    "df.isna().sum()"
   ]
  },
  {
   "cell_type": "markdown",
   "metadata": {},
   "source": [
    "Aca vemos que hay 2 columnas con muchos nulls, Product_Category_3 tiene aprox. 70% y Product_Category_2 tiene aprox. 30%. Ambas columnas son candidatas a ser ignoradas para el modelo."
   ]
  },
  {
   "cell_type": "code",
   "execution_count": null,
   "metadata": {},
   "outputs": [],
   "source": []
  }
 ],
 "metadata": {
  "kernelspec": {
   "display_name": "Python 3.10.4 64-bit",
   "language": "python",
   "name": "python3"
  },
  "language_info": {
   "codemirror_mode": {
    "name": "ipython",
    "version": 3
   },
   "file_extension": ".py",
   "mimetype": "text/x-python",
   "name": "python",
   "nbconvert_exporter": "python",
   "pygments_lexer": "ipython3",
   "version": "3.10.4"
  },
  "orig_nbformat": 4,
  "vscode": {
   "interpreter": {
    "hash": "aee8b7b246df8f9039afb4144a1f6fd8d2ca17a180786b69acc140d282b71a49"
   }
  }
 },
 "nbformat": 4,
 "nbformat_minor": 2
}
