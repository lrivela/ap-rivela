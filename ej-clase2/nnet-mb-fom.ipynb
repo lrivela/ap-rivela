{
 "cells": [
  {
   "cell_type": "markdown",
   "metadata": {},
   "source": [
    "### Ejercicio Clase 2: Mini Batch y First Order Momentum\n",
    "\n",
    "### Alumno: Lucas Rivela"
   ]
  },
  {
   "cell_type": "code",
   "execution_count": 1,
   "metadata": {},
   "outputs": [],
   "source": [
    "import matplotlib.pyplot as plt\n",
    "import numpy as np\n",
    "import random"
   ]
  },
  {
   "cell_type": "code",
   "execution_count": 262,
   "metadata": {},
   "outputs": [],
   "source": [
    "X = np.linspace(-7, 7, 1000)"
   ]
  },
  {
   "cell_type": "code",
   "execution_count": 263,
   "metadata": {},
   "outputs": [],
   "source": [
    "# Ecuacion Original\n",
    "y = -( X - 3)**2 + 2 + 0.1 * np.sin( 10*X *np.pi/180 )"
   ]
  },
  {
   "cell_type": "code",
   "execution_count": 273,
   "metadata": {},
   "outputs": [
    {
     "data": {
      "text/plain": [
       "<matplotlib.lines.Line2D at 0x111e95b40>"
      ]
     },
     "execution_count": 273,
     "metadata": {},
     "output_type": "execute_result"
    },
    {
     "data": {
      "image/png": "[encoded data removed]",
      "text/plain": [
       "<Figure size 432x288 with 1 Axes>"
      ]
     },
     "metadata": {
      "needs_background": "light"
     },
     "output_type": "display_data"
    }
   ],
   "source": [
    "plt.plot(X, y)\n",
    "plt.axhline(0, color='red')\n",
    "plt.axvline(0, color='red')"
   ]
  },
  {
   "cell_type": "code",
   "execution_count": 265,
   "metadata": {},
   "outputs": [],
   "source": [
    "# Hiperparametros\n",
    "n_epochs = 1000\n",
    "alfa = 0.001\n",
    "batches = 10"
   ]
  },
  {
   "cell_type": "code",
   "execution_count": 266,
   "metadata": {},
   "outputs": [
    {
     "name": "stdout",
     "output_type": "stream",
     "text": [
      "0.12355771956475925 0.008118434040653044 0.5134128550038914\n"
     ]
    }
   ],
   "source": [
    "w1 = random.uniform(0, 1)\n",
    "w2 = random.uniform(0, 1)\n",
    "b = random.uniform(0, 1)\n",
    "print(w1, w2, b)"
   ]
  },
  {
   "cell_type": "code",
   "execution_count": 137,
   "metadata": {},
   "outputs": [],
   "source": [
    "def create_mini_batches(X, y, batch_size):\n",
    "    mini_batches = []\n",
    "    data = np.vstack((X,y))\n",
    "    data = data.T\n",
    "    for i in range(0, data.shape[0], batch_size):\n",
    "        mini_batch = np.array(data[i: i + batch_size,])\n",
    "        mini_batches.append(mini_batch)\n",
    "    \n",
    "    return mini_batches"
   ]
  },
  {
   "cell_type": "code",
   "execution_count": 138,
   "metadata": {},
   "outputs": [],
   "source": [
    "def calculate_y_hat(X, w1, w2, b):\n",
    "    y_hat = w1*(X**2) + w2*(X) + [b] * len(X)\n",
    "    return y_hat"
   ]
  },
  {
   "cell_type": "code",
   "execution_count": 139,
   "metadata": {},
   "outputs": [],
   "source": [
    "def calculate_loss_w1(err, X_batch):\n",
    "    loss = -2 * err * (X_batch**2)\n",
    "    return np.sum(loss) / len(X_batch)\n"
   ]
  },
  {
   "cell_type": "code",
   "execution_count": 140,
   "metadata": {},
   "outputs": [],
   "source": [
    "def calculate_loss_w2(err, X_batch):\n",
    "    loss = -2 * err * X_batch\n",
    "    return np.sum(loss) / len(X_batch)"
   ]
  },
  {
   "cell_type": "code",
   "execution_count": 141,
   "metadata": {},
   "outputs": [],
   "source": [
    "def calculate_loss_b(err, X_batch):\n",
    "    loss = -2 * err\n",
    "    return np.sum(loss) / len(X_batch)"
   ]
  },
  {
   "cell_type": "markdown",
   "metadata": {},
   "source": [
    "#### Mini Batch"
   ]
  },
  {
   "cell_type": "code",
   "execution_count": 267,
   "metadata": {},
   "outputs": [],
   "source": [
    "batch_list = create_mini_batches(X, y, batches)\n",
    "ecm = []\n",
    "for e in range(n_epochs):\n",
    "    mse_batch = 0\n",
    "    for batch in batch_list:\n",
    "        y_hat = calculate_y_hat(batch[:,0], w1, w2, b)\n",
    "        err = (batch[:,1] - y_hat)\n",
    "        loss_w1 = calculate_loss_w1(err, batch[:,0])\n",
    "        loss_w2 = calculate_loss_w2(err, batch[:,0])\n",
    "        loss_b = calculate_loss_b(err, batch[:,0])\n",
    "        w1 = w1 - alfa * loss_w1\n",
    "        w2 = w2 - alfa * loss_w2\n",
    "        b = b - alfa * loss_b\n",
    "        mse_batch += np.sum(err ** 2) / batch.shape[0]\n",
    "    ecm.append(mse_batch)\n",
    "        "
   ]
  },
  {
   "cell_type": "code",
   "execution_count": 268,
   "metadata": {},
   "outputs": [
    {
     "name": "stdout",
     "output_type": "stream",
     "text": [
      "-1.0004247133176472 6.016397631003244 -7.000230804050299\n"
     ]
    }
   ],
   "source": [
    "print(w1, w2, b)"
   ]
  },
  {
   "cell_type": "code",
   "execution_count": 269,
   "metadata": {},
   "outputs": [
    {
     "data": {
      "text/plain": [
       "[<matplotlib.lines.Line2D at 0x111e26710>]"
      ]
     },
     "execution_count": 269,
     "metadata": {},
     "output_type": "execute_result"
    },
    {
     "data": {
      "image/png": "[encoded data removed]",
      "text/plain": [
       "<Figure size 432x288 with 1 Axes>"
      ]
     },
     "metadata": {
      "needs_background": "light"
     },
     "output_type": "display_data"
    }
   ],
   "source": [
    "plt.plot(range(n_epochs), ecm)"
   ]
  },
  {
   "cell_type": "code",
   "execution_count": 270,
   "metadata": {},
   "outputs": [
    {
     "name": "stdout",
     "output_type": "stream",
     "text": [
      "[-1.98263518  1.03420201]\n",
      "[-1.98425789  1.0308656 ]\n"
     ]
    }
   ],
   "source": [
    "y_ = -( np.array([1,2]) - 3)**2 + 2 + 0.1 * np.sin( 10*np.array([1,2]) *np.pi/180 )\n",
    "print(y_)\n",
    "\n",
    "y_hat = calculate_y_hat(np.array([1,2]), w1, w2, b)\n",
    "print(y_hat)"
   ]
  },
  {
   "cell_type": "markdown",
   "metadata": {},
   "source": [
    "#### First Order Momentum"
   ]
  },
  {
   "cell_type": "code",
   "execution_count": 303,
   "metadata": {},
   "outputs": [],
   "source": [
    "# Hiperparametros\n",
    "n_epochs = 150\n",
    "alfa = 0.001\n",
    "batches = 10\n",
    "epsilon = 0.1"
   ]
  },
  {
   "cell_type": "code",
   "execution_count": 304,
   "metadata": {},
   "outputs": [
    {
     "name": "stdout",
     "output_type": "stream",
     "text": [
      "0.6525993757124104 0.08033765398293724 0.6095831812374934\n"
     ]
    }
   ],
   "source": [
    "w1 = random.uniform(0, 1)\n",
    "w2 = random.uniform(0, 1)\n",
    "b = random.uniform(0, 1)\n",
    "print(w1, w2, b)"
   ]
  },
  {
   "cell_type": "code",
   "execution_count": 305,
   "metadata": {},
   "outputs": [],
   "source": [
    "batch_list = create_mini_batches(X, y, batches)\n",
    "ecm = []\n",
    "for e in range(n_epochs):\n",
    "    change_w1 = 0\n",
    "    change_w2 = 0\n",
    "    change_b = 0\n",
    "    mse_batch = 0\n",
    "    for batch in batch_list:\n",
    "        y_hat = calculate_y_hat(batch[:,0], w1, w2, b)\n",
    "        err = (batch[:,1] - y_hat)\n",
    "        loss_w1 = calculate_loss_w1(err, batch[:,0])\n",
    "        loss_w2 = calculate_loss_w2(err, batch[:,0])\n",
    "        loss_b = calculate_loss_b(err, batch[:,0])\n",
    "        \n",
    "        new_change_w1 = ( alfa * loss_w1 + epsilon * change_w1 )\n",
    "        new_change_w2 = ( alfa * loss_w2 + epsilon * change_w2 )\n",
    "        new_change_b = ( alfa * loss_b + epsilon * change_b )\n",
    "        \n",
    "        w1 = w1 - new_change_w1\n",
    "        w2 = w2 - new_change_w2\n",
    "        b = b - new_change_b\n",
    "\n",
    "        change_w1 = new_change_w1\n",
    "        change_w2 = new_change_w2\n",
    "        change_b = new_change_b\n",
    "\n",
    "        mse_batch += np.sum(err ** 2) / batch.shape[0]\n",
    "    ecm.append(mse_batch)"
   ]
  },
  {
   "cell_type": "code",
   "execution_count": 306,
   "metadata": {},
   "outputs": [
    {
     "name": "stdout",
     "output_type": "stream",
     "text": [
      "-1.0004505397180958 6.016528635425495 -6.999882755631922\n"
     ]
    }
   ],
   "source": [
    "print(w1, w2, b)"
   ]
  },
  {
   "cell_type": "code",
   "execution_count": 307,
   "metadata": {},
   "outputs": [
    {
     "data": {
      "text/plain": [
       "[<matplotlib.lines.Line2D at 0x11209efe0>]"
      ]
     },
     "execution_count": 307,
     "metadata": {},
     "output_type": "execute_result"
    },
    {
     "data": {
      "image/png": "[encoded data removed]",
      "text/plain": [
       "<Figure size 432x288 with 1 Axes>"
      ]
     },
     "metadata": {
      "needs_background": "light"
     },
     "output_type": "display_data"
    }
   ],
   "source": [
    "plt.plot(range(n_epochs), ecm)"
   ]
  },
  {
   "cell_type": "code",
   "execution_count": 308,
   "metadata": {},
   "outputs": [
    {
     "name": "stdout",
     "output_type": "stream",
     "text": [
      "[-1.98263518  1.03420201]\n",
      "[-1.98380466  1.03137236]\n"
     ]
    }
   ],
   "source": [
    "y_ = -( np.array([1,2]) - 3)**2 + 2 + 0.1 * np.sin( 10*np.array([1,2]) *np.pi/180 )\n",
    "print(y_)\n",
    "\n",
    "y_hat = calculate_y_hat(np.array([1,2]), w1, w2, b)\n",
    "print(y_hat)"
   ]
  },
  {
   "cell_type": "markdown",
   "metadata": {},
   "source": [
    "#### Conclusiones"
   ]
  },
  {
   "cell_type": "markdown",
   "metadata": {},
   "source": [
    "Mini batch con Momentum solo necesitó 150 epochs vs las 1000 que se necesitaron para entrenar el mini batch común."
   ]
  }
 ],
 "metadata": {
  "kernelspec": {
   "display_name": "Python 3.10.4 64-bit",
   "language": "python",
   "name": "python3"
  },
  "language_info": {
   "codemirror_mode": {
    "name": "ipython",
    "version": 3
   },
   "file_extension": ".py",
   "mimetype": "text/x-python",
   "name": "python",
   "nbconvert_exporter": "python",
   "pygments_lexer": "ipython3",
   "version": "3.10.4"
  },
  "orig_nbformat": 4,
  "vscode": {
   "interpreter": {
    "hash": "aee8b7b246df8f9039afb4144a1f6fd8d2ca17a180786b69acc140d282b71a49"
   }
  }
 },
 "nbformat": 4,
 "nbformat_minor": 2
}
