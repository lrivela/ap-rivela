{
 "cells": [
  {
   "cell_type": "markdown",
   "metadata": {},
   "source": [
    "### Ejercicio Clase 2: Mini Batch y First Order Momentum\n",
    "\n",
    "### Alumno: Lucas Rivela"
   ]
  },
  {
   "cell_type": "code",
   "execution_count": 1,
   "metadata": {},
   "outputs": [],
   "source": [
    "import math\n",
    "import matplotlib.pyplot as plt\n",
    "import numpy as np\n",
    "import random"
   ]
  },
  {
   "cell_type": "code",
   "execution_count": 2,
   "metadata": {},
   "outputs": [],
   "source": [
    "X = np.linspace(-50, 50, 150)"
   ]
  },
  {
   "cell_type": "code",
   "execution_count": 4,
   "metadata": {},
   "outputs": [],
   "source": [
    "# Ecuacion Original\n",
    "y = [- (x_ - 3)**2 + 2 + 0.1 * math.sin(10*x_) for x_ in X ] \n",
    "y = np.array(y)"
   ]
  },
  {
   "cell_type": "code",
   "execution_count": 5,
   "metadata": {},
   "outputs": [
    {
     "data": {
      "text/plain": [
       "[<matplotlib.lines.Line2D at 0x108980e80>]"
      ]
     },
     "execution_count": 5,
     "metadata": {},
     "output_type": "execute_result"
    },
    {
     "data": {
      "image/png": "[encoded data removed]",
      "text/plain": [
       "<Figure size 432x288 with 1 Axes>"
      ]
     },
     "metadata": {
      "needs_background": "light"
     },
     "output_type": "display_data"
    }
   ],
   "source": [
    "plt.plot(X, y)"
   ]
  },
  {
   "cell_type": "code",
   "execution_count": 6,
   "metadata": {},
   "outputs": [],
   "source": [
    "# Hiperparametros\n",
    "n_epochs = 150\n",
    "alfa = 0.01\n",
    "batches = 15"
   ]
  },
  {
   "cell_type": "code",
   "execution_count": 94,
   "metadata": {},
   "outputs": [],
   "source": [
    "w1 = random.uniform(0, 1)\n",
    "w2 = random.uniform(0, 1)\n",
    "b = random.uniform(0, 1)"
   ]
  },
  {
   "cell_type": "code",
   "execution_count": 21,
   "metadata": {},
   "outputs": [],
   "source": [
    "def create_mini_batches(X, y, batch_size):\n",
    "    mini_batches = []\n",
    "    data = np.vstack((X,y))\n",
    "    data = data.T\n",
    "    for i in range(0, data.shape[0], batch_size):\n",
    "        mini_batch = np.array(data[i: i + batch_size,])\n",
    "        mini_batches.append(mini_batch)\n",
    "    \n",
    "    return mini_batches"
   ]
  },
  {
   "cell_type": "code",
   "execution_count": 96,
   "metadata": {},
   "outputs": [],
   "source": [
    "def calculate_y_hat(X, w1, w2, b):\n",
    "    y_hat = w1*(X**2) + w2*(X) + [b] * len(X)\n",
    "    return y_hat"
   ]
  },
  {
   "cell_type": "code",
   "execution_count": 85,
   "metadata": {},
   "outputs": [],
   "source": [
    "def calculate_loss_w1(err, X_batch):\n",
    "    loss = -2 * err * np.sum(X_batch**2)\n",
    "    return np.sum(loss) / len(X_batch)\n"
   ]
  },
  {
   "cell_type": "code",
   "execution_count": 86,
   "metadata": {},
   "outputs": [],
   "source": [
    "def calculate_loss_w2(err, X_batch):\n",
    "    loss = -2 * err * np.sum(X_batch)\n",
    "    return np.sum(loss) / len(X_batch)"
   ]
  },
  {
   "cell_type": "code",
   "execution_count": 83,
   "metadata": {},
   "outputs": [],
   "source": [
    "def calculate_loss_b(err, X_batch):\n",
    "    loss = -2 * err\n",
    "    return np.sum(loss) / len(X_batch)"
   ]
  },
  {
   "cell_type": "code",
   "execution_count": 88,
   "metadata": {},
   "outputs": [],
   "source": [
    "batch_list = create_mini_batches(X, y, batches)\n",
    "ecm = []\n",
    "for e in range(n_epochs):\n",
    "    mse_batch = 0\n",
    "    for batch in batch_list:\n",
    "        y_hat = calculate_y_hat(batch[:,0], w1, w2, b)\n",
    "        #print(y_hat)\n",
    "        err = (batch[:,1] - y_hat)\n",
    "        loss_w1 = calculate_loss_w1(err, batch[:,0])\n",
    "        loss_w2 = calculate_loss_w2(err, batch[:,0])\n",
    "        loss_b = calculate_loss_b(err, batch[:,0])\n",
    "        w1 = w1 - alfa * loss_w1\n",
    "        w2 = w2 - alfa * loss_w2\n",
    "        b = b - alfa * loss_b\n",
    "        #print(w1, w2, b)\n",
    "        mse_batch += np.sum(err ** 2)\n",
    "    ecm.append(mse_batch)\n",
    "        "
   ]
  },
  {
   "cell_type": "code",
   "execution_count": 77,
   "metadata": {},
   "outputs": [
    {
     "data": {
      "text/plain": [
       "[<matplotlib.lines.Line2D at 0x112462680>]"
      ]
     },
     "execution_count": 77,
     "metadata": {},
     "output_type": "execute_result"
    },
    {
     "data": {
      "image/png": "[encoded data removed]",
      "text/plain": [
       "<Figure size 432x288 with 1 Axes>"
      ]
     },
     "metadata": {
      "needs_background": "light"
     },
     "output_type": "display_data"
    }
   ],
   "source": [
    "plt.plot(range(n_epochs), ecm)"
   ]
  },
  {
   "cell_type": "code",
   "execution_count": 95,
   "metadata": {},
   "outputs": [
    {
     "name": "stdout",
     "output_type": "stream",
     "text": [
      "-2.0544021110889368\n",
      "[1] 0.2900567544295609 0.7198681956993944 0.3953835692767428\n",
      "[1.40530852]\n"
     ]
    }
   ],
   "source": [
    "y = - (1 - 3)**2 + 2 + 0.1 * math.sin(10*1)\n",
    "print(y)\n",
    "\n",
    "print(calculate_y_hat(np.array([1]), w1, w2, b))"
   ]
  }
 ],
 "metadata": {
  "kernelspec": {
   "display_name": "Python 3.10.4 64-bit",
   "language": "python",
   "name": "python3"
  },
  "language_info": {
   "codemirror_mode": {
    "name": "ipython",
    "version": 3
   },
   "file_extension": ".py",
   "mimetype": "text/x-python",
   "name": "python",
   "nbconvert_exporter": "python",
   "pygments_lexer": "ipython3",
   "version": "3.10.4"
  },
  "orig_nbformat": 4,
  "vscode": {
   "interpreter": {
    "hash": "aee8b7b246df8f9039afb4144a1f6fd8d2ca17a180786b69acc140d282b71a49"
   }
  }
 },
 "nbformat": 4,
 "nbformat_minor": 2
}
