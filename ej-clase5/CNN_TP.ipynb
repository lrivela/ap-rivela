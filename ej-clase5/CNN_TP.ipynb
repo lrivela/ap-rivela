{
  "cells": [
    {
      "cell_type": "markdown",
      "metadata": {
        "id": "N9_1a5iymIvC"
      },
      "source": [
        "## 8. EJERCICIO\n",
        "\n",
        "Vamos a armar una pequeña competición en el curso.\n",
        "El objetivo es armar una arquitectura de CNN que identifique el dataset MNIST.\n",
        "Se van a usar capas de convolución, de activación y de pooling a elección. Cada alumno eligirá su modelo y los respectivos hiperparámetros, lo entrenará y presentará los siguientes resultados:\n",
        "\n",
        "*   `test_acc` (del test final)\n",
        "*   `n_parameter`\n",
        "*   `n_layers` (conv + activacion + pooling = 1 capa)\n",
        "\n",
        "\n",
        "\n",
        "El modelo se deberá ajustar a los siguientes parámetros:\n",
        "\n",
        "*   train: 80%, validation: 10%, test: 10% (los datos serán dados así todos usan el mismo set para cada grupo. Están en el github el curso).\n",
        "*   capa final de salida será una softmax de 10 elementos.\n",
        "*   coss_function será `CrossEntropyLoss`.\n",
        "\n",
        "El ganador de la competencia será aquel que consiga el mayor `score` empleando la siguietne fórmula:\n",
        "\n",
        "$$ score = \\frac{1}{log_{10}(n\\_parameter)} *test\\_acc*n\\_layers$$\n",
        "\n",
        "Deberan presentar su código colab funcionando y el score alcanzado (con los valores de cada variable que compone el score).\n",
        "\n",
        "Es una competencia fairplay y con fines didácticos, esta formula del ```score``` fué inventada.... no usar como referencia para definir qué modelo utilizar.\n",
        "\n",
        "\n",
        "\n",
        "\n",
        "\n"
      ]
    },
    {
      "cell_type": "markdown",
      "metadata": {
        "id": "_wIQ8hjDpdVi"
      },
      "source": [
        "#### Importar lo necesario"
      ]
    },
    {
      "cell_type": "code",
      "execution_count": 1,
      "metadata": {
        "id": "uHQUjDs12DLW"
      },
      "outputs": [],
      "source": [
        "import torch\n",
        "import torchvision\n",
        "import numpy as np\n",
        "import random\n",
        "import matplotlib.pyplot as plt\n",
        "import pickle\n",
        "from torch.utils.data import Dataset, DataLoader\n",
        "from tqdm import tqdm"
      ]
    },
    {
      "cell_type": "markdown",
      "metadata": {
        "id": "QeJy8fjPn4wi"
      },
      "source": [
        "#### configuramos el `device` acorde al device disponible\n",
        "\n",
        "\n"
      ]
    },
    {
      "cell_type": "code",
      "execution_count": 2,
      "metadata": {
        "id": "lOV9xybtn4I3"
      },
      "outputs": [],
      "source": [
        "device = \"cuda\" if torch.cuda.is_available() else \"cpu\""
      ]
    },
    {
      "cell_type": "markdown",
      "metadata": {
        "id": "1nQ-MLk6Do8e"
      },
      "source": [
        "1. Cargar base de datos"
      ]
    },
    {
      "cell_type": "code",
      "execution_count": 18,
      "metadata": {},
      "outputs": [
        {
          "name": "stdout",
          "output_type": "stream",
          "text": [
            "<class 'numpy.ndarray'>\n",
            "<class 'numpy.ndarray'>\n",
            "<class 'numpy.ndarray'>\n",
            "<class 'numpy.ndarray'>\n",
            "<class 'numpy.ndarray'>\n",
            "<class 'numpy.ndarray'>\n"
          ]
        }
      ],
      "source": [
        "with open('./train.pkl', 'rb') as pkl:\n",
        "    X_train = pickle.load(pkl)\n",
        "with open('./train_label.pkl', 'rb') as pkl:\n",
        "    y_train = pickle.load(pkl)\n",
        "\n",
        "with open('./val.pkl', 'rb') as pkl:\n",
        "    X_validation = pickle.load(pkl)\n",
        "with open('./val_label.pkl', 'rb') as pkl:  \n",
        "    y_validation = pickle.load(pkl)\n",
        "\n",
        "with open('./test.pkl', 'rb') as pkl:\n",
        "    X_test = pickle.load(pkl)\n",
        "with open('./test_label.pkl', 'rb') as pkl:\n",
        "    y_test = pickle.load(pkl)\n",
        "\n",
        "print(type(X_train))\n",
        "print(type(y_train))\n",
        "print(type(X_validation))\n",
        "print(type(y_validation))\n",
        "print(type(X_test))\n",
        "print(type(y_test))"
      ]
    },
    {
      "cell_type": "code",
      "execution_count": 19,
      "metadata": {},
      "outputs": [
        {
          "name": "stdout",
          "output_type": "stream",
          "text": [
            "(56000, 28, 28)\n"
          ]
        }
      ],
      "source": [
        "print(X_train.shape)"
      ]
    },
    {
      "cell_type": "code",
      "execution_count": 16,
      "metadata": {},
      "outputs": [],
      "source": [
        "adaptacion = torchvision.transforms.Compose([\n",
        "    torchvision.transforms.ToTensor()\n",
        "])"
      ]
    },
    {
      "cell_type": "code",
      "execution_count": 4,
      "metadata": {},
      "outputs": [],
      "source": [
        "class MyDataset(Dataset):\n",
        "\n",
        "    def __init__(self, X, y):\n",
        "        super().__init__()\n",
        "        self.X = X\n",
        "        self.y = y\n",
        "\n",
        "    def __len__(self):\n",
        "        return self.X.shape[0]\n",
        "\n",
        "    def __getitem__(self, idx):\n",
        "        return self.X[idx], self.y[idx]"
      ]
    },
    {
      "cell_type": "code",
      "execution_count": 21,
      "metadata": {},
      "outputs": [
        {
          "name": "stdout",
          "output_type": "stream",
          "text": [
            "56000\n",
            "7000\n",
            "7000\n"
          ]
        }
      ],
      "source": [
        "train = MyDataset(X_train, y_train)\n",
        "validation = MyDataset(X_validation, y_validation)\n",
        "test = MyDataset(X_test, y_test)\n",
        "\n",
        "print(len(train))\n",
        "print(len(validation))\n",
        "print(len(test))"
      ]
    },
    {
      "cell_type": "code",
      "execution_count": null,
      "metadata": {},
      "outputs": [],
      "source": []
    },
    {
      "cell_type": "code",
      "execution_count": 22,
      "metadata": {},
      "outputs": [],
      "source": [
        "dataloader = {\n",
        "    'train': DataLoader(train, batch_size=64, shuffle=True, pin_memory=True),\n",
        "    'validation': DataLoader(validation, batch_size=64, shuffle=True, pin_memory=True),\n",
        "    'test': DataLoader(test, batch_size=64, shuffle=True, pin_memory=True)\n",
        "}"
      ]
    },
    {
      "cell_type": "markdown",
      "metadata": {
        "id": "oikthAE4Dteb"
      },
      "source": [
        "2. Ver que la base de datos esté OK"
      ]
    },
    {
      "cell_type": "code",
      "execution_count": 7,
      "metadata": {
        "colab": {
          "base_uri": "https://localhost:8080/"
        },
        "id": "cyq2UFIl-Qjy",
        "outputId": "ed7a0a94-d5e7-4ae4-b111-118f9805fae3"
      },
      "outputs": [
        {
          "name": "stdout",
          "output_type": "stream",
          "text": [
            "<class 'dict'>\n",
            "<class 'torch.utils.data.dataloader.DataLoader'>\n"
          ]
        }
      ],
      "source": [
        "print(type(dataloader))\n",
        "print(type(dataloader['train']))"
      ]
    },
    {
      "cell_type": "code",
      "execution_count": 8,
      "metadata": {
        "colab": {
          "base_uri": "https://localhost:8080/",
          "height": 354
        },
        "id": "p2fs6Qdivs1H",
        "outputId": "6cfc7823-33d2-4c0d-b0e5-907d4727d227"
      },
      "outputs": [
        {
          "name": "stdout",
          "output_type": "stream",
          "text": [
            "Feature batch shape: torch.Size([64, 28, 28])\n",
            "Labels batch shape: torch.Size([64])\n",
            "tamaño de 1 imagen:  torch.Size([28, 28])\n",
            "tamaño 1 imagen DESPUES de squeeze:  torch.Size([28, 28])\n"
          ]
        },
        {
          "data": {
            "image/png": "[encoded data removed]",
            "text/plain": [
              "<Figure size 432x288 with 1 Axes>"
            ]
          },
          "metadata": {
            "needs_background": "light"
          },
          "output_type": "display_data"
        },
        {
          "name": "stdout",
          "output_type": "stream",
          "text": [
            "Label: 7\n"
          ]
        }
      ],
      "source": [
        "# Display image and label from dataloader (dataloader -> una herramienta para hacer batches de datasets)\n",
        "train_features, train_labels = next(iter(dataloader['train']))\n",
        "\n",
        "print(f\"Feature batch shape: {train_features.size()}\")\n",
        "print(f\"Labels batch shape: {train_labels.size()}\")\n",
        "\n",
        "img = train_features[0]\n",
        "print('tamaño de 1 imagen: ', img.shape)\n",
        "# le QUITO 1 dimension (la del tamaño del batch) para poder graficar\n",
        "img = train_features[0].squeeze()\n",
        "print('tamaño 1 imagen DESPUES de squeeze: ', img.shape)\n",
        "label = train_labels[0]\n",
        "plt.imshow(img, cmap=\"gray\")\n",
        "plt.show()\n",
        "print(f\"Label: {label}\")"
      ]
    },
    {
      "cell_type": "markdown",
      "metadata": {
        "id": "EY0TN4erDxRd"
      },
      "source": [
        "3. Construyo mi CNN"
      ]
    },
    {
      "cell_type": "code",
      "execution_count": 9,
      "metadata": {},
      "outputs": [],
      "source": [
        "def block(c_in, c_out, k=3, p=1, s=1, pk=3, ps=2, pp=1):\n",
        "    return torch.nn.Sequential(\n",
        "        torch.nn.Conv2d(c_in, c_out, k, padding=p, stride=s), # conv\n",
        "        torch.nn.ReLU(),                                      # activation\n",
        "        torch.nn.MaxPool2d(pk, stride=ps, padding=pp)         # pooling\n",
        "    )"
      ]
    },
    {
      "cell_type": "code",
      "execution_count": 104,
      "metadata": {},
      "outputs": [],
      "source": [
        "class CNN(torch.nn.Module):\n",
        "  def __init__(self, n_channels=1, n_outputs=10):\n",
        "    super().__init__()\n",
        "    self.conv1 = block(n_channels, 64)\n",
        "    self.conv1_out = None\n",
        "    self.conv2 = block(64, 128)\n",
        "    self.conv2_out = None\n",
        "    self.conv3 = block(128, 128)\n",
        "    self.conv3_out = None\n",
        "    self.conv4 = block(128, 128)\n",
        "    self.conv4_out = None\n",
        "    self.conv5 = block(128,256)\n",
        "    self.conv5_out = None\n",
        "    self.fc = torch.nn.Linear(128*2, n_outputs) # verificar la dim de la salida para calcular el tamaño de la fully conected!!\n",
        "\n",
        "  def validar_dim(self):\n",
        "    # es una funcion forward que imprime la dimension de cada paso\n",
        "    # la defino distinto de la forward standard para que cuando entrenemos\n",
        "    # no nos llene la pantalla de información inecesaria.\n",
        "\n",
        "    print(\"Validacion de dimensiones\")\n",
        "    tam = 28 #input(\"Ingrese tamaño de entrada: \")\n",
        "    x = torch.randn(1, 1, int(tam), int(tam))\n",
        "    print(\"Tamaño entrada: \", x.shape)\n",
        "    x = self.conv1(x)\n",
        "    print(\"Tamaño salida conv1: \", x.shape)\n",
        "    x = self.conv2(x)\n",
        "    print(\"Tamaño salida conv2: \", x.shape)\n",
        "    x = self.conv3(x)\n",
        "    print(\"Tamaño salida conv3: \", x.shape)\n",
        "    x = self.conv4(x)\n",
        "    print(\"Tamaño salida conv4: \", x.shape)\n",
        "    x = self.conv5(x)\n",
        "    print(\"Tamaño salida conv5: \", x.shape)\n",
        "\n",
        "    x = x.view(x.shape[0], -1)\n",
        "    print(\"Tamaño imagen vectorizada: \", x.shape)\n",
        "    x = self.fc(x)\n",
        "    print(\"Tamaño salida fc (nro clases): \", x.shape)\n",
        "\n",
        "  def forward(self, x):\n",
        "    self.conv1_out = self.conv1(x)\n",
        "    self.conv2_out = self.conv2(self.conv1_out)\n",
        "    self.conv3_out = self.conv3(self.conv2_out)\n",
        "    self.conv4_out = self.conv4(self.conv3_out)\n",
        "    self.conv5_out = self.conv5(self.conv4_out)\n",
        "    y = self.conv5_out.view(self.conv5_out.shape[0], -1)\n",
        "    y = self.fc(y)\n",
        "    # x = self.sm(x)\n",
        "    return y"
      ]
    },
    {
      "cell_type": "code",
      "execution_count": 105,
      "metadata": {},
      "outputs": [],
      "source": [
        "model = CNN()"
      ]
    },
    {
      "cell_type": "code",
      "execution_count": 106,
      "metadata": {},
      "outputs": [
        {
          "name": "stdout",
          "output_type": "stream",
          "text": [
            "Validacion de dimensiones\n",
            "Tamaño entrada:  torch.Size([1, 1, 28, 28])\n",
            "Tamaño salida conv1:  torch.Size([1, 64, 14, 14])\n",
            "Tamaño salida conv2:  torch.Size([1, 128, 7, 7])\n",
            "Tamaño salida conv3:  torch.Size([1, 128, 4, 4])\n",
            "Tamaño salida conv4:  torch.Size([1, 128, 2, 2])\n",
            "Tamaño salida conv5:  torch.Size([1, 256, 1, 1])\n",
            "Tamaño imagen vectorizada:  torch.Size([1, 256])\n",
            "Tamaño salida fc (nro clases):  torch.Size([1, 10])\n"
          ]
        }
      ],
      "source": [
        "model.validar_dim()"
      ]
    },
    {
      "cell_type": "code",
      "execution_count": 107,
      "metadata": {},
      "outputs": [],
      "source": [
        "def fit(model, dataloader, device, epochs=150):\n",
        "    model.to(device)\n",
        "    \n",
        "    optimizer = torch.optim.Adam(model.parameters(), lr=1e-4)\n",
        "    criterion = torch.nn.CrossEntropyLoss()\n",
        "\n",
        "    for epoch in range(1, epochs+1):\n",
        "        model.train()\n",
        "        train_loss, train_acc = [], []\n",
        "        for batch in dataloader['train']:\n",
        "            X, y = batch\n",
        "            X = torch.unsqueeze(X, dim=1)\n",
        "            X, y = X.to(device).float(), y.to(device)\n",
        "\n",
        "            # Forward\n",
        "            optimizer.zero_grad()\n",
        "            y_hat = model(X)\n",
        "\n",
        "            # Backprop\n",
        "            loss = criterion(y_hat, y)\n",
        "            loss.backward()\n",
        "            optimizer.step()\n",
        "            train_loss.append(loss.item())\n",
        "            acc = (y == torch.argmax(y_hat, axis=1)).sum().item() / len(y)\n",
        "            train_acc.append(acc)\n",
        "\n",
        "        val_loss, val_acc = [], []\n",
        "        model.eval()\n",
        "        with torch.no_grad():\n",
        "            for batch in dataloader['test']:\n",
        "                X, y = batch\n",
        "                X = torch.unsqueeze(X, dim=1)\n",
        "                X, y = X.to(device).float(), y.to(device)\n",
        "                y_hat = model(X)\n",
        "                loss = criterion(y_hat, y)\n",
        "                val_loss.append(loss.item())\n",
        "                acc = (y == torch.argmax(y_hat, axis=1)).sum().item() / len(y)\n",
        "                val_acc.append(acc)\n",
        "        print(f\"Epoch {epoch}/{epochs} loss {np.mean(train_loss):.5f} val_loss {np.mean(val_loss):.5f} acc {np.mean(train_acc):.5f} val_acc {np.mean(val_acc):.5f}\")"
      ]
    },
    {
      "cell_type": "code",
      "execution_count": 108,
      "metadata": {},
      "outputs": [
        {
          "name": "stdout",
          "output_type": "stream",
          "text": [
            "Epoch 1/6 loss 0.20388 val_loss 0.05855 acc 0.93839 val_acc 0.98144\n"
          ]
        },
        {
          "ename": "KeyboardInterrupt",
          "evalue": "",
          "output_type": "error",
          "traceback": [
            "\u001b[0;31m---------------------------------------------------------------------------\u001b[0m",
            "\u001b[0;31mKeyboardInterrupt\u001b[0m                         Traceback (most recent call last)",
            "\u001b[1;32m/Users/lucasrivela/Documents/especializacion en ia/6. Aprendizaje Profundo/ap-rivela/ej-clase5/CNN_TP.ipynb Celda 23\u001b[0m in \u001b[0;36m<cell line: 1>\u001b[0;34m()\u001b[0m\n\u001b[0;32m----> <a href='vscode-notebook-cell:/Users/lucasrivela/Documents/especializacion%20en%20ia/6.%20Aprendizaje%20Profundo/ap-rivela/ej-clase5/CNN_TP.ipynb#ch0000019?line=0'>1</a>\u001b[0m fit(model, dataloader, device, \u001b[39m6\u001b[39;49m)\n",
            "\u001b[1;32m/Users/lucasrivela/Documents/especializacion en ia/6. Aprendizaje Profundo/ap-rivela/ej-clase5/CNN_TP.ipynb Celda 23\u001b[0m in \u001b[0;36mfit\u001b[0;34m(model, dataloader, device, epochs)\u001b[0m\n\u001b[1;32m     <a href='vscode-notebook-cell:/Users/lucasrivela/Documents/especializacion%20en%20ia/6.%20Aprendizaje%20Profundo/ap-rivela/ej-clase5/CNN_TP.ipynb#ch0000019?line=14'>15</a>\u001b[0m \u001b[39m# Forward\u001b[39;00m\n\u001b[1;32m     <a href='vscode-notebook-cell:/Users/lucasrivela/Documents/especializacion%20en%20ia/6.%20Aprendizaje%20Profundo/ap-rivela/ej-clase5/CNN_TP.ipynb#ch0000019?line=15'>16</a>\u001b[0m optimizer\u001b[39m.\u001b[39mzero_grad()\n\u001b[0;32m---> <a href='vscode-notebook-cell:/Users/lucasrivela/Documents/especializacion%20en%20ia/6.%20Aprendizaje%20Profundo/ap-rivela/ej-clase5/CNN_TP.ipynb#ch0000019?line=16'>17</a>\u001b[0m y_hat \u001b[39m=\u001b[39m model(X)\n\u001b[1;32m     <a href='vscode-notebook-cell:/Users/lucasrivela/Documents/especializacion%20en%20ia/6.%20Aprendizaje%20Profundo/ap-rivela/ej-clase5/CNN_TP.ipynb#ch0000019?line=18'>19</a>\u001b[0m \u001b[39m# Backprop\u001b[39;00m\n\u001b[1;32m     <a href='vscode-notebook-cell:/Users/lucasrivela/Documents/especializacion%20en%20ia/6.%20Aprendizaje%20Profundo/ap-rivela/ej-clase5/CNN_TP.ipynb#ch0000019?line=19'>20</a>\u001b[0m loss \u001b[39m=\u001b[39m criterion(y_hat, y)\n",
            "File \u001b[0;32m/Library/Frameworks/Python.framework/Versions/3.10/lib/python3.10/site-packages/torch/nn/modules/module.py:1130\u001b[0m, in \u001b[0;36mModule._call_impl\u001b[0;34m(self, *input, **kwargs)\u001b[0m\n\u001b[1;32m   1126\u001b[0m \u001b[39m# If we don't have any hooks, we want to skip the rest of the logic in\u001b[39;00m\n\u001b[1;32m   1127\u001b[0m \u001b[39m# this function, and just call forward.\u001b[39;00m\n\u001b[1;32m   1128\u001b[0m \u001b[39mif\u001b[39;00m \u001b[39mnot\u001b[39;00m (\u001b[39mself\u001b[39m\u001b[39m.\u001b[39m_backward_hooks \u001b[39mor\u001b[39;00m \u001b[39mself\u001b[39m\u001b[39m.\u001b[39m_forward_hooks \u001b[39mor\u001b[39;00m \u001b[39mself\u001b[39m\u001b[39m.\u001b[39m_forward_pre_hooks \u001b[39mor\u001b[39;00m _global_backward_hooks\n\u001b[1;32m   1129\u001b[0m         \u001b[39mor\u001b[39;00m _global_forward_hooks \u001b[39mor\u001b[39;00m _global_forward_pre_hooks):\n\u001b[0;32m-> 1130\u001b[0m     \u001b[39mreturn\u001b[39;00m forward_call(\u001b[39m*\u001b[39;49m\u001b[39minput\u001b[39;49m, \u001b[39m*\u001b[39;49m\u001b[39m*\u001b[39;49mkwargs)\n\u001b[1;32m   1131\u001b[0m \u001b[39m# Do not call functions when jit is used\u001b[39;00m\n\u001b[1;32m   1132\u001b[0m full_backward_hooks, non_full_backward_hooks \u001b[39m=\u001b[39m [], []\n",
            "\u001b[1;32m/Users/lucasrivela/Documents/especializacion en ia/6. Aprendizaje Profundo/ap-rivela/ej-clase5/CNN_TP.ipynb Celda 23\u001b[0m in \u001b[0;36mCNN.forward\u001b[0;34m(self, x)\u001b[0m\n\u001b[1;32m     <a href='vscode-notebook-cell:/Users/lucasrivela/Documents/especializacion%20en%20ia/6.%20Aprendizaje%20Profundo/ap-rivela/ej-clase5/CNN_TP.ipynb#ch0000019?line=40'>41</a>\u001b[0m \u001b[39mdef\u001b[39;00m \u001b[39mforward\u001b[39m(\u001b[39mself\u001b[39m, x):\n\u001b[1;32m     <a href='vscode-notebook-cell:/Users/lucasrivela/Documents/especializacion%20en%20ia/6.%20Aprendizaje%20Profundo/ap-rivela/ej-clase5/CNN_TP.ipynb#ch0000019?line=41'>42</a>\u001b[0m   \u001b[39mself\u001b[39m\u001b[39m.\u001b[39mconv1_out \u001b[39m=\u001b[39m \u001b[39mself\u001b[39m\u001b[39m.\u001b[39mconv1(x)\n\u001b[0;32m---> <a href='vscode-notebook-cell:/Users/lucasrivela/Documents/especializacion%20en%20ia/6.%20Aprendizaje%20Profundo/ap-rivela/ej-clase5/CNN_TP.ipynb#ch0000019?line=42'>43</a>\u001b[0m   \u001b[39mself\u001b[39m\u001b[39m.\u001b[39mconv2_out \u001b[39m=\u001b[39m \u001b[39mself\u001b[39;49m\u001b[39m.\u001b[39;49mconv2(\u001b[39mself\u001b[39;49m\u001b[39m.\u001b[39;49mconv1_out)\n\u001b[1;32m     <a href='vscode-notebook-cell:/Users/lucasrivela/Documents/especializacion%20en%20ia/6.%20Aprendizaje%20Profundo/ap-rivela/ej-clase5/CNN_TP.ipynb#ch0000019?line=43'>44</a>\u001b[0m   \u001b[39mself\u001b[39m\u001b[39m.\u001b[39mconv3_out \u001b[39m=\u001b[39m \u001b[39mself\u001b[39m\u001b[39m.\u001b[39mconv3(\u001b[39mself\u001b[39m\u001b[39m.\u001b[39mconv2_out)\n\u001b[1;32m     <a href='vscode-notebook-cell:/Users/lucasrivela/Documents/especializacion%20en%20ia/6.%20Aprendizaje%20Profundo/ap-rivela/ej-clase5/CNN_TP.ipynb#ch0000019?line=44'>45</a>\u001b[0m   \u001b[39mself\u001b[39m\u001b[39m.\u001b[39mconv4_out \u001b[39m=\u001b[39m \u001b[39mself\u001b[39m\u001b[39m.\u001b[39mconv4(\u001b[39mself\u001b[39m\u001b[39m.\u001b[39mconv3_out)\n",
            "File \u001b[0;32m/Library/Frameworks/Python.framework/Versions/3.10/lib/python3.10/site-packages/torch/nn/modules/module.py:1130\u001b[0m, in \u001b[0;36mModule._call_impl\u001b[0;34m(self, *input, **kwargs)\u001b[0m\n\u001b[1;32m   1126\u001b[0m \u001b[39m# If we don't have any hooks, we want to skip the rest of the logic in\u001b[39;00m\n\u001b[1;32m   1127\u001b[0m \u001b[39m# this function, and just call forward.\u001b[39;00m\n\u001b[1;32m   1128\u001b[0m \u001b[39mif\u001b[39;00m \u001b[39mnot\u001b[39;00m (\u001b[39mself\u001b[39m\u001b[39m.\u001b[39m_backward_hooks \u001b[39mor\u001b[39;00m \u001b[39mself\u001b[39m\u001b[39m.\u001b[39m_forward_hooks \u001b[39mor\u001b[39;00m \u001b[39mself\u001b[39m\u001b[39m.\u001b[39m_forward_pre_hooks \u001b[39mor\u001b[39;00m _global_backward_hooks\n\u001b[1;32m   1129\u001b[0m         \u001b[39mor\u001b[39;00m _global_forward_hooks \u001b[39mor\u001b[39;00m _global_forward_pre_hooks):\n\u001b[0;32m-> 1130\u001b[0m     \u001b[39mreturn\u001b[39;00m forward_call(\u001b[39m*\u001b[39;49m\u001b[39minput\u001b[39;49m, \u001b[39m*\u001b[39;49m\u001b[39m*\u001b[39;49mkwargs)\n\u001b[1;32m   1131\u001b[0m \u001b[39m# Do not call functions when jit is used\u001b[39;00m\n\u001b[1;32m   1132\u001b[0m full_backward_hooks, non_full_backward_hooks \u001b[39m=\u001b[39m [], []\n",
            "File \u001b[0;32m/Library/Frameworks/Python.framework/Versions/3.10/lib/python3.10/site-packages/torch/nn/modules/container.py:139\u001b[0m, in \u001b[0;36mSequential.forward\u001b[0;34m(self, input)\u001b[0m\n\u001b[1;32m    137\u001b[0m \u001b[39mdef\u001b[39;00m \u001b[39mforward\u001b[39m(\u001b[39mself\u001b[39m, \u001b[39minput\u001b[39m):\n\u001b[1;32m    138\u001b[0m     \u001b[39mfor\u001b[39;00m module \u001b[39min\u001b[39;00m \u001b[39mself\u001b[39m:\n\u001b[0;32m--> 139\u001b[0m         \u001b[39minput\u001b[39m \u001b[39m=\u001b[39m module(\u001b[39minput\u001b[39;49m)\n\u001b[1;32m    140\u001b[0m     \u001b[39mreturn\u001b[39;00m \u001b[39minput\u001b[39m\n",
            "File \u001b[0;32m/Library/Frameworks/Python.framework/Versions/3.10/lib/python3.10/site-packages/torch/nn/modules/module.py:1130\u001b[0m, in \u001b[0;36mModule._call_impl\u001b[0;34m(self, *input, **kwargs)\u001b[0m\n\u001b[1;32m   1126\u001b[0m \u001b[39m# If we don't have any hooks, we want to skip the rest of the logic in\u001b[39;00m\n\u001b[1;32m   1127\u001b[0m \u001b[39m# this function, and just call forward.\u001b[39;00m\n\u001b[1;32m   1128\u001b[0m \u001b[39mif\u001b[39;00m \u001b[39mnot\u001b[39;00m (\u001b[39mself\u001b[39m\u001b[39m.\u001b[39m_backward_hooks \u001b[39mor\u001b[39;00m \u001b[39mself\u001b[39m\u001b[39m.\u001b[39m_forward_hooks \u001b[39mor\u001b[39;00m \u001b[39mself\u001b[39m\u001b[39m.\u001b[39m_forward_pre_hooks \u001b[39mor\u001b[39;00m _global_backward_hooks\n\u001b[1;32m   1129\u001b[0m         \u001b[39mor\u001b[39;00m _global_forward_hooks \u001b[39mor\u001b[39;00m _global_forward_pre_hooks):\n\u001b[0;32m-> 1130\u001b[0m     \u001b[39mreturn\u001b[39;00m forward_call(\u001b[39m*\u001b[39;49m\u001b[39minput\u001b[39;49m, \u001b[39m*\u001b[39;49m\u001b[39m*\u001b[39;49mkwargs)\n\u001b[1;32m   1131\u001b[0m \u001b[39m# Do not call functions when jit is used\u001b[39;00m\n\u001b[1;32m   1132\u001b[0m full_backward_hooks, non_full_backward_hooks \u001b[39m=\u001b[39m [], []\n",
            "File \u001b[0;32m/Library/Frameworks/Python.framework/Versions/3.10/lib/python3.10/site-packages/torch/nn/modules/conv.py:457\u001b[0m, in \u001b[0;36mConv2d.forward\u001b[0;34m(self, input)\u001b[0m\n\u001b[1;32m    456\u001b[0m \u001b[39mdef\u001b[39;00m \u001b[39mforward\u001b[39m(\u001b[39mself\u001b[39m, \u001b[39minput\u001b[39m: Tensor) \u001b[39m-\u001b[39m\u001b[39m>\u001b[39m Tensor:\n\u001b[0;32m--> 457\u001b[0m     \u001b[39mreturn\u001b[39;00m \u001b[39mself\u001b[39;49m\u001b[39m.\u001b[39;49m_conv_forward(\u001b[39minput\u001b[39;49m, \u001b[39mself\u001b[39;49m\u001b[39m.\u001b[39;49mweight, \u001b[39mself\u001b[39;49m\u001b[39m.\u001b[39;49mbias)\n",
            "File \u001b[0;32m/Library/Frameworks/Python.framework/Versions/3.10/lib/python3.10/site-packages/torch/nn/modules/conv.py:453\u001b[0m, in \u001b[0;36mConv2d._conv_forward\u001b[0;34m(self, input, weight, bias)\u001b[0m\n\u001b[1;32m    449\u001b[0m \u001b[39mif\u001b[39;00m \u001b[39mself\u001b[39m\u001b[39m.\u001b[39mpadding_mode \u001b[39m!=\u001b[39m \u001b[39m'\u001b[39m\u001b[39mzeros\u001b[39m\u001b[39m'\u001b[39m:\n\u001b[1;32m    450\u001b[0m     \u001b[39mreturn\u001b[39;00m F\u001b[39m.\u001b[39mconv2d(F\u001b[39m.\u001b[39mpad(\u001b[39minput\u001b[39m, \u001b[39mself\u001b[39m\u001b[39m.\u001b[39m_reversed_padding_repeated_twice, mode\u001b[39m=\u001b[39m\u001b[39mself\u001b[39m\u001b[39m.\u001b[39mpadding_mode),\n\u001b[1;32m    451\u001b[0m                     weight, bias, \u001b[39mself\u001b[39m\u001b[39m.\u001b[39mstride,\n\u001b[1;32m    452\u001b[0m                     _pair(\u001b[39m0\u001b[39m), \u001b[39mself\u001b[39m\u001b[39m.\u001b[39mdilation, \u001b[39mself\u001b[39m\u001b[39m.\u001b[39mgroups)\n\u001b[0;32m--> 453\u001b[0m \u001b[39mreturn\u001b[39;00m F\u001b[39m.\u001b[39;49mconv2d(\u001b[39minput\u001b[39;49m, weight, bias, \u001b[39mself\u001b[39;49m\u001b[39m.\u001b[39;49mstride,\n\u001b[1;32m    454\u001b[0m                 \u001b[39mself\u001b[39;49m\u001b[39m.\u001b[39;49mpadding, \u001b[39mself\u001b[39;49m\u001b[39m.\u001b[39;49mdilation, \u001b[39mself\u001b[39;49m\u001b[39m.\u001b[39;49mgroups)\n",
            "\u001b[0;31mKeyboardInterrupt\u001b[0m: "
          ]
        }
      ],
      "source": [
        "fit(model, dataloader, device, 6)"
      ]
    },
    {
      "cell_type": "markdown",
      "metadata": {
        "id": "1aQ5n86Kwk7B"
      },
      "source": [
        "# score final"
      ]
    }
  ],
  "metadata": {
    "accelerator": "GPU",
    "colab": {
      "collapsed_sections": [],
      "name": "CNN_TP.ipynb",
      "provenance": []
    },
    "kernelspec": {
      "display_name": "Python 3.10.4 64-bit",
      "language": "python",
      "name": "python3"
    },
    "language_info": {
      "codemirror_mode": {
        "name": "ipython",
        "version": 3
      },
      "file_extension": ".py",
      "mimetype": "text/x-python",
      "name": "python",
      "nbconvert_exporter": "python",
      "pygments_lexer": "ipython3",
      "version": "3.10.4"
    },
    "vscode": {
      "interpreter": {
        "hash": "aee8b7b246df8f9039afb4144a1f6fd8d2ca17a180786b69acc140d282b71a49"
      }
    }
  },
  "nbformat": 4,
  "nbformat_minor": 0
}
