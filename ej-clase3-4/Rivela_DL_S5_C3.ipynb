{
  "nbformat": 4,
  "nbformat_minor": 0,
  "metadata": {
    "colab": {
      "name": "Rivela - DL - S5 - C3.ipynb",
      "provenance": []
    },
    "kernelspec": {
      "name": "python3",
      "display_name": "Python 3"
    },
    "language_info": {
      "name": "python"
    },
    "accelerator": "GPU",
    "gpuClass": "standard"
  },
  "cells": [
    {
      "cell_type": "code",
      "execution_count": 1,
      "metadata": {
        "id": "GEeSXjnqAjup"
      },
      "outputs": [],
      "source": [
        "import matplotlib.pyplot as plt\n",
        "import numpy as np\n",
        "import pandas as pd\n",
        "from scipy import stats\n",
        "from sklearn import preprocessing\n",
        "import torch\n"
      ]
    },
    {
      "cell_type": "code",
      "source": [
        "from google.colab import drive\n",
        "drive.mount('/content/drive')"
      ],
      "metadata": {
        "colab": {
          "base_uri": "https://localhost:8080/"
        },
        "id": "B2lt68VxXwbp",
        "outputId": "15c46618-50bb-4f48-fb0e-6c60ab85fef4"
      },
      "execution_count": 2,
      "outputs": [
        {
          "output_type": "stream",
          "name": "stdout",
          "text": [
            "Drive already mounted at /content/drive; to attempt to forcibly remount, call drive.mount(\"/content/drive\", force_remount=True).\n"
          ]
        }
      ]
    },
    {
      "cell_type": "code",
      "source": [
        "df = pd.read_csv('/content/drive/MyDrive/2022/Especialización IA/dl/dataset_wine.csv')"
      ],
      "metadata": {
        "id": "YBIQZuFCBBNn"
      },
      "execution_count": 3,
      "outputs": []
    },
    {
      "cell_type": "code",
      "source": [
        "df.info()"
      ],
      "metadata": {
        "colab": {
          "base_uri": "https://localhost:8080/"
        },
        "id": "YgkqsnVnBOxI",
        "outputId": "dbc2d4da-9240-4659-eaf6-bd5c0cee2b68"
      },
      "execution_count": 4,
      "outputs": [
        {
          "output_type": "stream",
          "name": "stdout",
          "text": [
            "<class 'pandas.core.frame.DataFrame'>\n",
            "RangeIndex: 6497 entries, 0 to 6496\n",
            "Data columns (total 15 columns):\n",
            " #   Column                Non-Null Count  Dtype  \n",
            "---  ------                --------------  -----  \n",
            " 0   Unnamed: 0            6497 non-null   int64  \n",
            " 1   type                  6497 non-null   object \n",
            " 2   fixed acidity         6487 non-null   float64\n",
            " 3   volatile acidity      6489 non-null   float64\n",
            " 4   citric acid           6494 non-null   float64\n",
            " 5   residual sugar        6495 non-null   float64\n",
            " 6   chlorides             6495 non-null   float64\n",
            " 7   free sulfur dioxide   6497 non-null   float64\n",
            " 8   total sulfur dioxide  6497 non-null   float64\n",
            " 9   density               6497 non-null   float64\n",
            " 10  pH                    6488 non-null   float64\n",
            " 11  sulphates             6493 non-null   float64\n",
            " 12  alcohol               6497 non-null   float64\n",
            " 13  quality               6497 non-null   int64  \n",
            " 14  vendor_id             6497 non-null   int64  \n",
            "dtypes: float64(11), int64(3), object(1)\n",
            "memory usage: 761.5+ KB\n"
          ]
        }
      ]
    },
    {
      "cell_type": "code",
      "source": [
        "quality = df.quality.to_numpy()\n",
        "fix, ax1 = plt.subplots(1,1)\n",
        "ax1.hist(quality)"
      ],
      "metadata": {
        "colab": {
          "base_uri": "https://localhost:8080/",
          "height": 336
        },
        "id": "OrJESm5XBPrf",
        "outputId": "9f7018e8-fdd0-4e62-d394-8e99fa70213f"
      },
      "execution_count": 5,
      "outputs": [
        {
          "output_type": "execute_result",
          "data": {
            "text/plain": [
              "(array([  30.,  216.,    0., 2138.,    0., 2836., 1079.,    0.,  193.,\n",
              "           5.]),\n",
              " array([3. , 3.6, 4.2, 4.8, 5.4, 6. , 6.6, 7.2, 7.8, 8.4, 9. ]),\n",
              " <a list of 10 Patch objects>)"
            ]
          },
          "metadata": {},
          "execution_count": 5
        },
        {
          "output_type": "display_data",
          "data": {
            "text/plain": [
              "<Figure size 432x288 with 1 Axes>"
            ],
            "image/png": "[encoded data removed]"
          },
          "metadata": {
            "needs_background": "light"
          }
        }
      ]
    },
    {
      "cell_type": "code",
      "source": [
        "df[\"quality_label\"] = df.quality.apply(lambda label: 0 if label <= 6 else 1)\n",
        "print(len(df[df[\"quality_label\"] == 0]))\n",
        "print(len(df[df[\"quality_label\"] == 1]))"
      ],
      "metadata": {
        "colab": {
          "base_uri": "https://localhost:8080/"
        },
        "id": "ClplVeE2Ch2e",
        "outputId": "1c5b2bc0-3cd0-4262-b4d8-9e0da07baed1"
      },
      "execution_count": 6,
      "outputs": [
        {
          "output_type": "stream",
          "name": "stdout",
          "text": [
            "5220\n",
            "1277\n"
          ]
        }
      ]
    },
    {
      "cell_type": "code",
      "source": [
        "# clasif binaria, modelo tonto, devolver la clase mayoritaria\n",
        "# regresion, modelo tonto, devolver el promedio de tu salida"
      ],
      "metadata": {
        "id": "uKh3DTxIC9IN"
      },
      "execution_count": 7,
      "outputs": []
    },
    {
      "cell_type": "code",
      "source": [
        "# Variable tipo\n",
        "print(df[\"type\"].unique())\n",
        "\n",
        "type_dummies = pd.get_dummies(df[\"type\"], prefix=\"type\")\n",
        "type_dummies.info()"
      ],
      "metadata": {
        "colab": {
          "base_uri": "https://localhost:8080/"
        },
        "id": "c1o7SnWkDrjr",
        "outputId": "b797946f-747c-40d4-8d39-745a17c8c9a1"
      },
      "execution_count": 8,
      "outputs": [
        {
          "output_type": "stream",
          "name": "stdout",
          "text": [
            "['white' 'red']\n",
            "<class 'pandas.core.frame.DataFrame'>\n",
            "RangeIndex: 6497 entries, 0 to 6496\n",
            "Data columns (total 2 columns):\n",
            " #   Column      Non-Null Count  Dtype\n",
            "---  ------      --------------  -----\n",
            " 0   type_red    6497 non-null   uint8\n",
            " 1   type_white  6497 non-null   uint8\n",
            "dtypes: uint8(2)\n",
            "memory usage: 12.8 KB\n"
          ]
        }
      ]
    },
    {
      "cell_type": "code",
      "source": [
        "df = pd.concat([df, type_dummies], axis=1)\n",
        "df.info()"
      ],
      "metadata": {
        "colab": {
          "base_uri": "https://localhost:8080/"
        },
        "id": "PoCYJdeAEgiu",
        "outputId": "0e4daccc-7a30-4848-f4ef-d85aecdbe75f"
      },
      "execution_count": 9,
      "outputs": [
        {
          "output_type": "stream",
          "name": "stdout",
          "text": [
            "<class 'pandas.core.frame.DataFrame'>\n",
            "RangeIndex: 6497 entries, 0 to 6496\n",
            "Data columns (total 18 columns):\n",
            " #   Column                Non-Null Count  Dtype  \n",
            "---  ------                --------------  -----  \n",
            " 0   Unnamed: 0            6497 non-null   int64  \n",
            " 1   type                  6497 non-null   object \n",
            " 2   fixed acidity         6487 non-null   float64\n",
            " 3   volatile acidity      6489 non-null   float64\n",
            " 4   citric acid           6494 non-null   float64\n",
            " 5   residual sugar        6495 non-null   float64\n",
            " 6   chlorides             6495 non-null   float64\n",
            " 7   free sulfur dioxide   6497 non-null   float64\n",
            " 8   total sulfur dioxide  6497 non-null   float64\n",
            " 9   density               6497 non-null   float64\n",
            " 10  pH                    6488 non-null   float64\n",
            " 11  sulphates             6493 non-null   float64\n",
            " 12  alcohol               6497 non-null   float64\n",
            " 13  quality               6497 non-null   int64  \n",
            " 14  vendor_id             6497 non-null   int64  \n",
            " 15  quality_label         6497 non-null   int64  \n",
            " 16  type_red              6497 non-null   uint8  \n",
            " 17  type_white            6497 non-null   uint8  \n",
            "dtypes: float64(11), int64(4), object(1), uint8(2)\n",
            "memory usage: 824.9+ KB\n"
          ]
        }
      ]
    },
    {
      "cell_type": "code",
      "source": [
        "# Limpieza\n",
        "nans = df[df.isna().sum(axis=1) >= 1]\n",
        "print(nans.shape)"
      ],
      "metadata": {
        "colab": {
          "base_uri": "https://localhost:8080/"
        },
        "id": "2RHQ5yQTE4er",
        "outputId": "5340b2c2-84e1-44bc-b5a9-2d2ae896318c"
      },
      "execution_count": 10,
      "outputs": [
        {
          "output_type": "stream",
          "name": "stdout",
          "text": [
            "(34, 18)\n"
          ]
        }
      ]
    },
    {
      "cell_type": "code",
      "source": [
        "df = df[df.isna().sum(axis=1) == 0]\n",
        "print(df.shape)"
      ],
      "metadata": {
        "colab": {
          "base_uri": "https://localhost:8080/"
        },
        "id": "WJ3x5QxLHGKg",
        "outputId": "63df9194-eef1-42a8-b3cc-bd7ab8c7db7a"
      },
      "execution_count": 11,
      "outputs": [
        {
          "output_type": "stream",
          "name": "stdout",
          "text": [
            "(6463, 18)\n"
          ]
        }
      ]
    },
    {
      "cell_type": "code",
      "source": [
        "y = df[\"quality_label\"]\n",
        "X = df.drop([\"Unnamed: 0\", \"type\", \"quality\", \"quality_label\", \"vendor_id\"], axis=1)"
      ],
      "metadata": {
        "id": "5l0TAQ5WHizn"
      },
      "execution_count": 12,
      "outputs": []
    },
    {
      "cell_type": "code",
      "source": [
        "## Normalizacion\n",
        "X_norm = (X - np.min(X, axis=0)) / (np.max(X, axis=0) - np.min(X, axis=0))"
      ],
      "metadata": {
        "id": "vCcoxNn6Iyjq"
      },
      "execution_count": 13,
      "outputs": []
    },
    {
      "cell_type": "code",
      "source": [
        "X_norm.describe()"
      ],
      "metadata": {
        "colab": {
          "base_uri": "https://localhost:8080/",
          "height": 379
        },
        "id": "jNSNyJ-SOikN",
        "outputId": "b78f2127-48a6-4e2f-d836-f6db16e08954"
      },
      "execution_count": 14,
      "outputs": [
        {
          "output_type": "execute_result",
          "data": {
            "text/plain": [
              "       fixed acidity  volatile acidity  citric acid  residual sugar  \\\n",
              "count    6463.000000       6463.000000  6463.000000     6463.000000   \n",
              "mean        0.282459          0.173059     0.192023        0.074294   \n",
              "std         0.107266          0.109759     0.087501        0.072958   \n",
              "min         0.000000          0.000000     0.000000        0.000000   \n",
              "25%         0.214876          0.100000     0.150602        0.018405   \n",
              "50%         0.264463          0.140000     0.186747        0.036810   \n",
              "75%         0.322314          0.213333     0.234940        0.115031   \n",
              "max         1.000000          1.000000     1.000000        1.000000   \n",
              "\n",
              "         chlorides  free sulfur dioxide  total sulfur dioxide      density  \\\n",
              "count  6463.000000          6463.000000           6463.000000  6463.000000   \n",
              "mean      0.078166             0.102489              0.252752     0.146283   \n",
              "std       0.058265             0.061663              0.130246     0.057865   \n",
              "min       0.000000             0.000000              0.000000     0.000000   \n",
              "25%       0.048173             0.055556              0.163594     0.100636   \n",
              "50%       0.063123             0.097222              0.258065     0.149990   \n",
              "75%       0.093023             0.138889              0.345622     0.190669   \n",
              "max       1.000000             1.000000              1.000000     1.000000   \n",
              "\n",
              "                pH    sulphates      alcohol     type_red   type_white  \n",
              "count  6463.000000  6463.000000  6463.000000  6463.000000  6463.000000  \n",
              "mean      0.386304     0.174803     0.361279     0.246480     0.753520  \n",
              "std       0.124535     0.083659     0.172917     0.430995     0.430995  \n",
              "min       0.000000     0.000000     0.000000     0.000000     0.000000  \n",
              "25%       0.302326     0.117978     0.217391     0.000000     1.000000  \n",
              "50%       0.379845     0.162921     0.333333     0.000000     1.000000  \n",
              "75%       0.465116     0.213483     0.478261     0.000000     1.000000  \n",
              "max       1.000000     1.000000     1.000000     1.000000     1.000000  "
            ],
            "text/html": [
              "\n",
              "  <div id=\"df-d130beea-a312-4ac9-a104-7bfba937d3eb\">\n",
              "    <div class=\"colab-df-container\">\n",
              "      <div>\n",
              "<style scoped>\n",
              "    .dataframe tbody tr th:only-of-type {\n",
              "        vertical-align: middle;\n",
              "    }\n",
              "\n",
              "    .dataframe tbody tr th {\n",
              "        vertical-align: top;\n",
              "    }\n",
              "\n",
              "    .dataframe thead th {\n",
              "        text-align: right;\n",
              "    }\n",
              "</style>\n",
              "<table border=\"1\" class=\"dataframe\">\n",
              "  <thead>\n",
              "    <tr style=\"text-align: right;\">\n",
              "      <th></th>\n",
              "      <th>fixed acidity</th>\n",
              "      <th>volatile acidity</th>\n",
              "      <th>citric acid</th>\n",
              "      <th>residual sugar</th>\n",
              "      <th>chlorides</th>\n",
              "      <th>free sulfur dioxide</th>\n",
              "      <th>total sulfur dioxide</th>\n",
              "      <th>density</th>\n",
              "      <th>pH</th>\n",
              "      <th>sulphates</th>\n",
              "      <th>alcohol</th>\n",
              "      <th>type_red</th>\n",
              "      <th>type_white</th>\n",
              "    </tr>\n",
              "  </thead>\n",
              "  <tbody>\n",
              "    <tr>\n",
              "      <th>count</th>\n",
              "      <td>6463.000000</td>\n",
              "      <td>6463.000000</td>\n",
              "      <td>6463.000000</td>\n",
              "      <td>6463.000000</td>\n",
              "      <td>6463.000000</td>\n",
              "      <td>6463.000000</td>\n",
              "      <td>6463.000000</td>\n",
              "      <td>6463.000000</td>\n",
              "      <td>6463.000000</td>\n",
              "      <td>6463.000000</td>\n",
              "      <td>6463.000000</td>\n",
              "      <td>6463.000000</td>\n",
              "      <td>6463.000000</td>\n",
              "    </tr>\n",
              "    <tr>\n",
              "      <th>mean</th>\n",
              "      <td>0.282459</td>\n",
              "      <td>0.173059</td>\n",
              "      <td>0.192023</td>\n",
              "      <td>0.074294</td>\n",
              "      <td>0.078166</td>\n",
              "      <td>0.102489</td>\n",
              "      <td>0.252752</td>\n",
              "      <td>0.146283</td>\n",
              "      <td>0.386304</td>\n",
              "      <td>0.174803</td>\n",
              "      <td>0.361279</td>\n",
              "      <td>0.246480</td>\n",
              "      <td>0.753520</td>\n",
              "    </tr>\n",
              "    <tr>\n",
              "      <th>std</th>\n",
              "      <td>0.107266</td>\n",
              "      <td>0.109759</td>\n",
              "      <td>0.087501</td>\n",
              "      <td>0.072958</td>\n",
              "      <td>0.058265</td>\n",
              "      <td>0.061663</td>\n",
              "      <td>0.130246</td>\n",
              "      <td>0.057865</td>\n",
              "      <td>0.124535</td>\n",
              "      <td>0.083659</td>\n",
              "      <td>0.172917</td>\n",
              "      <td>0.430995</td>\n",
              "      <td>0.430995</td>\n",
              "    </tr>\n",
              "    <tr>\n",
              "      <th>min</th>\n",
              "      <td>0.000000</td>\n",
              "      <td>0.000000</td>\n",
              "      <td>0.000000</td>\n",
              "      <td>0.000000</td>\n",
              "      <td>0.000000</td>\n",
              "      <td>0.000000</td>\n",
              "      <td>0.000000</td>\n",
              "      <td>0.000000</td>\n",
              "      <td>0.000000</td>\n",
              "      <td>0.000000</td>\n",
              "      <td>0.000000</td>\n",
              "      <td>0.000000</td>\n",
              "      <td>0.000000</td>\n",
              "    </tr>\n",
              "    <tr>\n",
              "      <th>25%</th>\n",
              "      <td>0.214876</td>\n",
              "      <td>0.100000</td>\n",
              "      <td>0.150602</td>\n",
              "      <td>0.018405</td>\n",
              "      <td>0.048173</td>\n",
              "      <td>0.055556</td>\n",
              "      <td>0.163594</td>\n",
              "      <td>0.100636</td>\n",
              "      <td>0.302326</td>\n",
              "      <td>0.117978</td>\n",
              "      <td>0.217391</td>\n",
              "      <td>0.000000</td>\n",
              "      <td>1.000000</td>\n",
              "    </tr>\n",
              "    <tr>\n",
              "      <th>50%</th>\n",
              "      <td>0.264463</td>\n",
              "      <td>0.140000</td>\n",
              "      <td>0.186747</td>\n",
              "      <td>0.036810</td>\n",
              "      <td>0.063123</td>\n",
              "      <td>0.097222</td>\n",
              "      <td>0.258065</td>\n",
              "      <td>0.149990</td>\n",
              "      <td>0.379845</td>\n",
              "      <td>0.162921</td>\n",
              "      <td>0.333333</td>\n",
              "      <td>0.000000</td>\n",
              "      <td>1.000000</td>\n",
              "    </tr>\n",
              "    <tr>\n",
              "      <th>75%</th>\n",
              "      <td>0.322314</td>\n",
              "      <td>0.213333</td>\n",
              "      <td>0.234940</td>\n",
              "      <td>0.115031</td>\n",
              "      <td>0.093023</td>\n",
              "      <td>0.138889</td>\n",
              "      <td>0.345622</td>\n",
              "      <td>0.190669</td>\n",
              "      <td>0.465116</td>\n",
              "      <td>0.213483</td>\n",
              "      <td>0.478261</td>\n",
              "      <td>0.000000</td>\n",
              "      <td>1.000000</td>\n",
              "    </tr>\n",
              "    <tr>\n",
              "      <th>max</th>\n",
              "      <td>1.000000</td>\n",
              "      <td>1.000000</td>\n",
              "      <td>1.000000</td>\n",
              "      <td>1.000000</td>\n",
              "      <td>1.000000</td>\n",
              "      <td>1.000000</td>\n",
              "      <td>1.000000</td>\n",
              "      <td>1.000000</td>\n",
              "      <td>1.000000</td>\n",
              "      <td>1.000000</td>\n",
              "      <td>1.000000</td>\n",
              "      <td>1.000000</td>\n",
              "      <td>1.000000</td>\n",
              "    </tr>\n",
              "  </tbody>\n",
              "</table>\n",
              "</div>\n",
              "      <button class=\"colab-df-convert\" onclick=\"convertToInteractive('df-d130beea-a312-4ac9-a104-7bfba937d3eb')\"\n",
              "              title=\"Convert this dataframe to an interactive table.\"\n",
              "              style=\"display:none;\">\n",
              "        \n",
              "  <svg xmlns=\"http://www.w3.org/2000/svg\" height=\"24px\"viewBox=\"0 0 24 24\"\n",
              "       width=\"24px\">\n",
              "    <path d=\"M0 0h24v24H0V0z\" fill=\"none\"/>\n",
              "    <path d=\"M18.56 5.44l.94 2.06.94-2.06 2.06-.94-2.06-.94-.94-2.06-.94 2.06-2.06.94zm-11 1L8.5 8.5l.94-2.06 2.06-.94-2.06-.94L8.5 2.5l-.94 2.06-2.06.94zm10 10l.94 2.06.94-2.06 2.06-.94-2.06-.94-.94-2.06-.94 2.06-2.06.94z\"/><path d=\"M17.41 7.96l-1.37-1.37c-.4-.4-.92-.59-1.43-.59-.52 0-1.04.2-1.43.59L10.3 9.45l-7.72 7.72c-.78.78-.78 2.05 0 2.83L4 21.41c.39.39.9.59 1.41.59.51 0 1.02-.2 1.41-.59l7.78-7.78 2.81-2.81c.8-.78.8-2.07 0-2.86zM5.41 20L4 18.59l7.72-7.72 1.47 1.35L5.41 20z\"/>\n",
              "  </svg>\n",
              "      </button>\n",
              "      \n",
              "  <style>\n",
              "    .colab-df-container {\n",
              "      display:flex;\n",
              "      flex-wrap:wrap;\n",
              "      gap: 12px;\n",
              "    }\n",
              "\n",
              "    .colab-df-convert {\n",
              "      background-color: #E8F0FE;\n",
              "      border: none;\n",
              "      border-radius: 50%;\n",
              "      cursor: pointer;\n",
              "      display: none;\n",
              "      fill: #1967D2;\n",
              "      height: 32px;\n",
              "      padding: 0 0 0 0;\n",
              "      width: 32px;\n",
              "    }\n",
              "\n",
              "    .colab-df-convert:hover {\n",
              "      background-color: #E2EBFA;\n",
              "      box-shadow: 0px 1px 2px rgba(60, 64, 67, 0.3), 0px 1px 3px 1px rgba(60, 64, 67, 0.15);\n",
              "      fill: #174EA6;\n",
              "    }\n",
              "\n",
              "    [theme=dark] .colab-df-convert {\n",
              "      background-color: #3B4455;\n",
              "      fill: #D2E3FC;\n",
              "    }\n",
              "\n",
              "    [theme=dark] .colab-df-convert:hover {\n",
              "      background-color: #434B5C;\n",
              "      box-shadow: 0px 1px 3px 1px rgba(0, 0, 0, 0.15);\n",
              "      filter: drop-shadow(0px 1px 2px rgba(0, 0, 0, 0.3));\n",
              "      fill: #FFFFFF;\n",
              "    }\n",
              "  </style>\n",
              "\n",
              "      <script>\n",
              "        const buttonEl =\n",
              "          document.querySelector('#df-d130beea-a312-4ac9-a104-7bfba937d3eb button.colab-df-convert');\n",
              "        buttonEl.style.display =\n",
              "          google.colab.kernel.accessAllowed ? 'block' : 'none';\n",
              "\n",
              "        async function convertToInteractive(key) {\n",
              "          const element = document.querySelector('#df-d130beea-a312-4ac9-a104-7bfba937d3eb');\n",
              "          const dataTable =\n",
              "            await google.colab.kernel.invokeFunction('convertToInteractive',\n",
              "                                                     [key], {});\n",
              "          if (!dataTable) return;\n",
              "\n",
              "          const docLinkHtml = 'Like what you see? Visit the ' +\n",
              "            '<a target=\"_blank\" href=https://colab.research.google.com/notebooks/data_table.ipynb>data table notebook</a>'\n",
              "            + ' to learn more about interactive tables.';\n",
              "          element.innerHTML = '';\n",
              "          dataTable['output_type'] = 'display_data';\n",
              "          await google.colab.output.renderOutput(dataTable, element);\n",
              "          const docLink = document.createElement('div');\n",
              "          docLink.innerHTML = docLinkHtml;\n",
              "          element.appendChild(docLink);\n",
              "        }\n",
              "      </script>\n",
              "    </div>\n",
              "  </div>\n",
              "  "
            ]
          },
          "metadata": {},
          "execution_count": 14
        }
      ]
    },
    {
      "cell_type": "code",
      "source": [
        "print(X_norm.shape)"
      ],
      "metadata": {
        "colab": {
          "base_uri": "https://localhost:8080/"
        },
        "id": "2k3kurtVOrDW",
        "outputId": "d4f3a75c-86c4-4f8c-ea05-e866f8e21c17"
      },
      "execution_count": 15,
      "outputs": [
        {
          "output_type": "stream",
          "name": "stdout",
          "text": [
            "(6463, 13)\n"
          ]
        }
      ]
    },
    {
      "cell_type": "code",
      "source": [
        "n = X_norm.shape[0]\n",
        "idx = np.random.permutation(np.arange(0, n))\n",
        "train_idx = idx[0:int(0.85*n)]\n",
        "valid_idx = idx[int(0.85 * n):]\n",
        "print(len(train_idx))\n",
        "print(len(valid_idx))"
      ],
      "metadata": {
        "colab": {
          "base_uri": "https://localhost:8080/"
        },
        "id": "P9zVEvVJPP0O",
        "outputId": "91593b61-c16b-41fd-e04d-9873c9010ea2"
      },
      "execution_count": 16,
      "outputs": [
        {
          "output_type": "stream",
          "name": "stdout",
          "text": [
            "5493\n",
            "970\n"
          ]
        }
      ]
    },
    {
      "cell_type": "code",
      "source": [
        "y_ = y.to_numpy()"
      ],
      "metadata": {
        "id": "f3WyqQkbRaRj"
      },
      "execution_count": 17,
      "outputs": []
    },
    {
      "cell_type": "code",
      "source": [
        "X_norm_ = X_norm.to_numpy()\n",
        "X_train = X_norm_[train_idx,:]\n",
        "y_train = y_[train_idx]\n",
        "X_valid = X_norm_[valid_idx,:]\n",
        "y_valid = y_[valid_idx]\n",
        "\n",
        "print(X_train.shape)\n",
        "print(y_train.shape)\n",
        "print(X_valid.shape)\n",
        "print(y_valid.shape)"
      ],
      "metadata": {
        "colab": {
          "base_uri": "https://localhost:8080/"
        },
        "id": "XS0StzrCPwzM",
        "outputId": "e0d153f9-4150-4d25-80df-9429d20e2bd1"
      },
      "execution_count": 18,
      "outputs": [
        {
          "output_type": "stream",
          "name": "stdout",
          "text": [
            "(5493, 13)\n",
            "(5493,)\n",
            "(970, 13)\n",
            "(970,)\n"
          ]
        }
      ]
    },
    {
      "cell_type": "markdown",
      "source": [
        "## NNet sin embeddings"
      ],
      "metadata": {
        "id": "6O3w_q2jRLTT"
      }
    },
    {
      "cell_type": "code",
      "source": [
        "import torch\n",
        "from torch.utils.data import Dataset, DataLoader\n",
        "from sklearn import metrics"
      ],
      "metadata": {
        "id": "9VpF6uvoRM2R"
      },
      "execution_count": 19,
      "outputs": []
    },
    {
      "cell_type": "code",
      "source": [
        "class MyDataset(Dataset):\n",
        "\n",
        "    def __init__(self, X, y):\n",
        "      super().__init__()\n",
        "      self.X = X\n",
        "      self.y = y\n",
        "\n",
        "    def __len__(self):\n",
        "      return self.X.shape[0]\n",
        "\n",
        "    def __getitem__(self, idx):\n",
        "      return self.X[idx], self.y[idx]"
      ],
      "metadata": {
        "id": "ho5gT2KfRgyE"
      },
      "execution_count": 20,
      "outputs": []
    },
    {
      "cell_type": "code",
      "source": [
        "train = MyDataset(X_train, y_train)"
      ],
      "metadata": {
        "id": "XD0K0dOySLnT"
      },
      "execution_count": 21,
      "outputs": []
    },
    {
      "cell_type": "code",
      "source": [
        "len(train)"
      ],
      "metadata": {
        "colab": {
          "base_uri": "https://localhost:8080/"
        },
        "id": "RQ60XBreSduT",
        "outputId": "ce4e0691-79bd-4ecf-f595-126ae56f9266"
      },
      "execution_count": 22,
      "outputs": [
        {
          "output_type": "execute_result",
          "data": {
            "text/plain": [
              "5493"
            ]
          },
          "metadata": {},
          "execution_count": 22
        }
      ]
    },
    {
      "cell_type": "code",
      "source": [
        "X0, y0 = train[0]"
      ],
      "metadata": {
        "id": "99tLMAloSebE"
      },
      "execution_count": 23,
      "outputs": []
    },
    {
      "cell_type": "code",
      "source": [
        "X0.shape"
      ],
      "metadata": {
        "colab": {
          "base_uri": "https://localhost:8080/"
        },
        "id": "4eWJ33dRShgD",
        "outputId": "5d5a309d-ed32-42fb-fcc1-1df01c59f68c"
      },
      "execution_count": 24,
      "outputs": [
        {
          "output_type": "execute_result",
          "data": {
            "text/plain": [
              "(13,)"
            ]
          },
          "metadata": {},
          "execution_count": 24
        }
      ]
    },
    {
      "cell_type": "code",
      "source": [
        "X_train.shape"
      ],
      "metadata": {
        "colab": {
          "base_uri": "https://localhost:8080/"
        },
        "id": "0p3uVAWJSi4w",
        "outputId": "8b1cd80f-afeb-4f21-e3cb-51e5f853d5a9"
      },
      "execution_count": 25,
      "outputs": [
        {
          "output_type": "execute_result",
          "data": {
            "text/plain": [
              "(5493, 13)"
            ]
          },
          "metadata": {},
          "execution_count": 25
        }
      ]
    },
    {
      "cell_type": "code",
      "source": [
        "y0"
      ],
      "metadata": {
        "colab": {
          "base_uri": "https://localhost:8080/"
        },
        "id": "2G_to3aJSnTD",
        "outputId": "83f97b19-7ab7-4882-95eb-8d24c4e7724a"
      },
      "execution_count": 26,
      "outputs": [
        {
          "output_type": "execute_result",
          "data": {
            "text/plain": [
              "0"
            ]
          },
          "metadata": {},
          "execution_count": 26
        }
      ]
    },
    {
      "cell_type": "code",
      "source": [
        "valid = MyDataset(X_valid, y_valid)"
      ],
      "metadata": {
        "id": "C8grlYYrSsFr"
      },
      "execution_count": 27,
      "outputs": []
    },
    {
      "cell_type": "code",
      "source": [
        "len(valid)"
      ],
      "metadata": {
        "colab": {
          "base_uri": "https://localhost:8080/"
        },
        "id": "EqO1SVCASvqI",
        "outputId": "220517bd-bc1c-4af8-d82e-7a86916dad9c"
      },
      "execution_count": 28,
      "outputs": [
        {
          "output_type": "execute_result",
          "data": {
            "text/plain": [
              "970"
            ]
          },
          "metadata": {},
          "execution_count": 28
        }
      ]
    },
    {
      "cell_type": "code",
      "source": [
        "train_dataloader = DataLoader(train, batch_size=64, shuffle=True)\n",
        "valid_dataloder = DataLoader(valid, batch_size=64, shuffle=True)"
      ],
      "metadata": {
        "id": "VI6T9pXFSweX"
      },
      "execution_count": 29,
      "outputs": []
    },
    {
      "cell_type": "code",
      "source": [
        "batch_1 = next(iter(train_dataloader))"
      ],
      "metadata": {
        "id": "nGEGXn_WUE_n"
      },
      "execution_count": 30,
      "outputs": []
    },
    {
      "cell_type": "code",
      "source": [
        "type(batch_1)"
      ],
      "metadata": {
        "colab": {
          "base_uri": "https://localhost:8080/"
        },
        "id": "LO6bv2pOUXQ3",
        "outputId": "b3078847-1f2d-4e62-f462-e3f895040ed9"
      },
      "execution_count": 31,
      "outputs": [
        {
          "output_type": "execute_result",
          "data": {
            "text/plain": [
              "list"
            ]
          },
          "metadata": {},
          "execution_count": 31
        }
      ]
    },
    {
      "cell_type": "code",
      "source": [
        "len(batch_1)"
      ],
      "metadata": {
        "colab": {
          "base_uri": "https://localhost:8080/"
        },
        "id": "sSTazWW-UYTo",
        "outputId": "30111bc2-6435-4528-86a7-b208ebe45e0a"
      },
      "execution_count": 32,
      "outputs": [
        {
          "output_type": "execute_result",
          "data": {
            "text/plain": [
              "2"
            ]
          },
          "metadata": {},
          "execution_count": 32
        }
      ]
    },
    {
      "cell_type": "code",
      "source": [
        "type(batch_1[0])"
      ],
      "metadata": {
        "colab": {
          "base_uri": "https://localhost:8080/"
        },
        "id": "-RXEVDhAUZ4p",
        "outputId": "a1ff0790-0aec-4ef5-b37e-e123a1a06a45"
      },
      "execution_count": 33,
      "outputs": [
        {
          "output_type": "execute_result",
          "data": {
            "text/plain": [
              "torch.Tensor"
            ]
          },
          "metadata": {},
          "execution_count": 33
        }
      ]
    },
    {
      "cell_type": "code",
      "source": [
        "print(batch_1[0].shape)  # 64 filas de X_train (dataset entrenamiento)"
      ],
      "metadata": {
        "colab": {
          "base_uri": "https://localhost:8080/"
        },
        "id": "yJiNIggNUcv6",
        "outputId": "019acb4f-835d-487f-af3f-47451e71581b"
      },
      "execution_count": 34,
      "outputs": [
        {
          "output_type": "stream",
          "name": "stdout",
          "text": [
            "torch.Size([64, 13])\n"
          ]
        }
      ]
    },
    {
      "cell_type": "code",
      "source": [
        "print(batch_1[1].shape)  # 64 filas de y_train (label)"
      ],
      "metadata": {
        "colab": {
          "base_uri": "https://localhost:8080/"
        },
        "id": "N5ycTdMmUfSx",
        "outputId": "45f87735-18cc-420c-96c8-5c8706dda2df"
      },
      "execution_count": 35,
      "outputs": [
        {
          "output_type": "stream",
          "name": "stdout",
          "text": [
            "torch.Size([64])\n"
          ]
        }
      ]
    },
    {
      "cell_type": "code",
      "source": [
        "class NNet(torch.nn.Module):\n",
        "\n",
        "  def __init__(self):\n",
        "    super().__init__()\n",
        "    self.linear_1 = torch.nn.Linear(in_features=13, out_features=100, bias=True)\n",
        "    self.relu_1 = torch.nn.ReLU()\n",
        "    self.linear_2 = torch.nn.Linear(in_features=100, out_features=50, bias=True)\n",
        "    self.relu_2 = torch.nn.ReLU()\n",
        "    self.output = torch.nn.Linear(in_features=50, out_features=1, bias=True)\n",
        "\n",
        "  \n",
        "  def forward(self, x): # x.shape -> 64x13\n",
        "    x = self.linear_1(x) # 64x100\n",
        "    x = self.relu_1(x) # 64x100\n",
        "    x = self.linear_2(x) # 64x50\n",
        "    x = self.relu_2(x) # 64x50\n",
        "    x = self.output(x) # 64x1\n",
        "    return x"
      ],
      "metadata": {
        "id": "X7ICfva9Ut_4"
      },
      "execution_count": 36,
      "outputs": []
    },
    {
      "cell_type": "code",
      "source": [
        "nnet = NNet()"
      ],
      "metadata": {
        "id": "F6hi85kfWJV4"
      },
      "execution_count": 37,
      "outputs": []
    },
    {
      "cell_type": "code",
      "source": [
        "x_batch = next(iter(train_dataloader))[0]\n",
        "x_batch = x_batch.float()\n",
        "y_batch = nnet(x_batch)"
      ],
      "metadata": {
        "id": "gl6fyVDjaJ__"
      },
      "execution_count": 38,
      "outputs": []
    },
    {
      "cell_type": "code",
      "source": [
        "optimizer = torch.optim.Adam(nnet.parameters(), lr=0.001)\n",
        "loss_function = torch.nn.BCEWithLogitsLoss(reduction=\"sum\")"
      ],
      "metadata": {
        "id": "MPH9PHHlbnRy"
      },
      "execution_count": 39,
      "outputs": []
    },
    {
      "cell_type": "code",
      "source": [
        "device = \"\"\n",
        "if torch.cuda.is_available():\n",
        "  device = \"cuda:0\"\n",
        "else:\n",
        "  device = \"cpu\""
      ],
      "metadata": {
        "id": "qgM-MTc5b2am"
      },
      "execution_count": 40,
      "outputs": []
    },
    {
      "cell_type": "code",
      "source": [
        "print(device)"
      ],
      "metadata": {
        "colab": {
          "base_uri": "https://localhost:8080/"
        },
        "id": "4ymMjfhccAlf",
        "outputId": "6f68795a-dae7-41f0-f06d-5376710203a1"
      },
      "execution_count": 41,
      "outputs": [
        {
          "output_type": "stream",
          "name": "stdout",
          "text": [
            "cuda:0\n"
          ]
        }
      ]
    },
    {
      "cell_type": "code",
      "source": [
        "nnet.to(device)\n",
        "\n",
        "loss_list = []\n",
        "train_auc = []\n",
        "\n",
        "for epoch in range(100):\n",
        "\n",
        "  running_loss = 0\n",
        "  running_y_hat = []\n",
        "  running_y_label = []\n",
        "  running_y_score = []\n",
        "\n",
        "  for i, data in enumerate(train_dataloader):\n",
        "    X_batch, y_batch = data # datos del batch\n",
        "    X_batch = X_batch.to(device).float()\n",
        "    Y_batch = y_batch.to(device).float()\n",
        "\n",
        "    # forward\n",
        "    optimizer.zero_grad()\n",
        "    y_batch_score = nnet(X_batch).reshape(-1)\n",
        "    y_batch_hat = torch.sigmoid(y_batch_score).reshape(-1)\n",
        "\n",
        "    # backprop\n",
        "    loss = loss_function(y_batch_score, Y_batch) # calcula el loss\n",
        "    loss.backward() # hacer los gradientes del loss\n",
        "\n",
        "    # actualizacion de parametros\n",
        "    optimizer.step()\n",
        "\n",
        "    # metrics\n",
        "    running_loss += loss.item()\n",
        "    running_y_score += list(y_batch_score.detach().cpu().numpy())\n",
        "    running_y_label += list(Y_batch.detach().cpu().numpy())\n",
        "\n",
        "  # metrics\n",
        "  print(f\"Epoch {epoch} | Training loss: {running_loss}\")\n",
        "  loss_list.append(running_loss)\n",
        "  fpr, tpr, _ = metrics.roc_curve(running_y_label, running_y_score)\n",
        "  train_auc.append(metrics.auc(fpr, tpr))"
      ],
      "metadata": {
        "colab": {
          "base_uri": "https://localhost:8080/"
        },
        "id": "h3ibQEG5cF8T",
        "outputId": "6c8ea257-76dd-499e-8ce0-0edfe9ca14e7"
      },
      "execution_count": 42,
      "outputs": [
        {
          "output_type": "stream",
          "name": "stdout",
          "text": [
            "Epoch 0 | Training loss: 2854.226900100708\n",
            "Epoch 1 | Training loss: 2468.2760524749756\n",
            "Epoch 2 | Training loss: 2296.1567726135254\n",
            "Epoch 3 | Training loss: 2220.8442668914795\n",
            "Epoch 4 | Training loss: 2190.7340602874756\n",
            "Epoch 5 | Training loss: 2167.8132247924805\n",
            "Epoch 6 | Training loss: 2158.959707260132\n",
            "Epoch 7 | Training loss: 2146.286012649536\n",
            "Epoch 8 | Training loss: 2130.7265701293945\n",
            "Epoch 9 | Training loss: 2130.0012435913086\n",
            "Epoch 10 | Training loss: 2117.0030879974365\n",
            "Epoch 11 | Training loss: 2111.7748317718506\n",
            "Epoch 12 | Training loss: 2106.9556798934937\n",
            "Epoch 13 | Training loss: 2092.42689704895\n",
            "Epoch 14 | Training loss: 2086.2381324768066\n",
            "Epoch 15 | Training loss: 2087.418394088745\n",
            "Epoch 16 | Training loss: 2059.252773284912\n",
            "Epoch 17 | Training loss: 2052.503140449524\n",
            "Epoch 18 | Training loss: 2055.6768321990967\n",
            "Epoch 19 | Training loss: 2034.0648231506348\n",
            "Epoch 20 | Training loss: 2031.9238080978394\n",
            "Epoch 21 | Training loss: 2022.264024734497\n",
            "Epoch 22 | Training loss: 2011.730146408081\n",
            "Epoch 23 | Training loss: 1993.9518899917603\n",
            "Epoch 24 | Training loss: 2003.6614074707031\n",
            "Epoch 25 | Training loss: 1985.6436100006104\n",
            "Epoch 26 | Training loss: 1962.2513704299927\n",
            "Epoch 27 | Training loss: 1960.6671562194824\n",
            "Epoch 28 | Training loss: 1985.2554359436035\n",
            "Epoch 29 | Training loss: 1941.2080879211426\n",
            "Epoch 30 | Training loss: 1939.5268096923828\n",
            "Epoch 31 | Training loss: 1942.2243909835815\n",
            "Epoch 32 | Training loss: 1929.0181760787964\n",
            "Epoch 33 | Training loss: 1932.204013824463\n",
            "Epoch 34 | Training loss: 1932.1170291900635\n",
            "Epoch 35 | Training loss: 1918.3852014541626\n",
            "Epoch 36 | Training loss: 1926.485167503357\n",
            "Epoch 37 | Training loss: 1912.6477031707764\n",
            "Epoch 38 | Training loss: 1917.3030242919922\n",
            "Epoch 39 | Training loss: 1905.5694637298584\n",
            "Epoch 40 | Training loss: 1907.5288105010986\n",
            "Epoch 41 | Training loss: 1902.4065656661987\n",
            "Epoch 42 | Training loss: 1884.899408340454\n",
            "Epoch 43 | Training loss: 1883.9876890182495\n",
            "Epoch 44 | Training loss: 1885.3789682388306\n",
            "Epoch 45 | Training loss: 1877.4976873397827\n",
            "Epoch 46 | Training loss: 1872.8016023635864\n",
            "Epoch 47 | Training loss: 1874.5851306915283\n",
            "Epoch 48 | Training loss: 1865.951045036316\n",
            "Epoch 49 | Training loss: 1862.2238416671753\n",
            "Epoch 50 | Training loss: 1870.9570608139038\n",
            "Epoch 51 | Training loss: 1859.0264358520508\n",
            "Epoch 52 | Training loss: 1865.5713138580322\n",
            "Epoch 53 | Training loss: 1851.2137908935547\n",
            "Epoch 54 | Training loss: 1862.867154121399\n",
            "Epoch 55 | Training loss: 1854.0017910003662\n",
            "Epoch 56 | Training loss: 1858.798659324646\n",
            "Epoch 57 | Training loss: 1848.1748208999634\n",
            "Epoch 58 | Training loss: 1850.1375827789307\n",
            "Epoch 59 | Training loss: 1843.9847583770752\n",
            "Epoch 60 | Training loss: 1843.9961833953857\n",
            "Epoch 61 | Training loss: 1853.276288986206\n",
            "Epoch 62 | Training loss: 1841.4663076400757\n",
            "Epoch 63 | Training loss: 1834.5795221328735\n",
            "Epoch 64 | Training loss: 1830.4095544815063\n",
            "Epoch 65 | Training loss: 1848.4221591949463\n",
            "Epoch 66 | Training loss: 1841.487798690796\n",
            "Epoch 67 | Training loss: 1839.6608877182007\n",
            "Epoch 68 | Training loss: 1821.0106115341187\n",
            "Epoch 69 | Training loss: 1833.6086769104004\n",
            "Epoch 70 | Training loss: 1825.167311668396\n",
            "Epoch 71 | Training loss: 1822.7131214141846\n",
            "Epoch 72 | Training loss: 1821.6608839035034\n",
            "Epoch 73 | Training loss: 1819.7894582748413\n",
            "Epoch 74 | Training loss: 1820.6308164596558\n",
            "Epoch 75 | Training loss: 1821.5163745880127\n",
            "Epoch 76 | Training loss: 1820.057391166687\n",
            "Epoch 77 | Training loss: 1823.4355735778809\n",
            "Epoch 78 | Training loss: 1813.253116607666\n",
            "Epoch 79 | Training loss: 1816.1330060958862\n",
            "Epoch 80 | Training loss: 1826.7482824325562\n",
            "Epoch 81 | Training loss: 1822.4144735336304\n",
            "Epoch 82 | Training loss: 1802.6717510223389\n",
            "Epoch 83 | Training loss: 1798.9613571166992\n",
            "Epoch 84 | Training loss: 1809.6475038528442\n",
            "Epoch 85 | Training loss: 1804.8543825149536\n",
            "Epoch 86 | Training loss: 1805.3367366790771\n",
            "Epoch 87 | Training loss: 1802.760597229004\n",
            "Epoch 88 | Training loss: 1797.6052112579346\n",
            "Epoch 89 | Training loss: 1806.7287130355835\n",
            "Epoch 90 | Training loss: 1806.994595527649\n",
            "Epoch 91 | Training loss: 1798.2879343032837\n",
            "Epoch 92 | Training loss: 1791.945692062378\n",
            "Epoch 93 | Training loss: 1790.6866436004639\n",
            "Epoch 94 | Training loss: 1791.7691297531128\n",
            "Epoch 95 | Training loss: 1782.1961498260498\n",
            "Epoch 96 | Training loss: 1782.0367250442505\n",
            "Epoch 97 | Training loss: 1784.7299518585205\n",
            "Epoch 98 | Training loss: 1785.216534614563\n",
            "Epoch 99 | Training loss: 1784.3824672698975\n"
          ]
        }
      ]
    },
    {
      "cell_type": "code",
      "source": [
        "fig, ax1 = plt.subplots(1,1)\n",
        "x = range(0, len(loss_list))\n",
        "ax1.plot(x, loss_list)"
      ],
      "metadata": {
        "colab": {
          "base_uri": "https://localhost:8080/",
          "height": 283
        },
        "id": "KqqpoDhXfsxU",
        "outputId": "c354267a-8732-4d50-eab4-2501a88d0d2d"
      },
      "execution_count": 43,
      "outputs": [
        {
          "output_type": "execute_result",
          "data": {
            "text/plain": [
              "[<matplotlib.lines.Line2D at 0x7eff71f85410>]"
            ]
          },
          "metadata": {},
          "execution_count": 43
        },
        {
          "output_type": "display_data",
          "data": {
            "text/plain": [
              "<Figure size 432x288 with 1 Axes>"
            ],
            "image/png": "[encoded data removed]"
          },
          "metadata": {
            "needs_background": "light"
          }
        }
      ]
    },
    {
      "cell_type": "code",
      "source": [
        "fig, ax1 = plt.subplots(1,1)\n",
        "x = range(0, len(train_auc))\n",
        "ax1.plot(x, train_auc)"
      ],
      "metadata": {
        "colab": {
          "base_uri": "https://localhost:8080/",
          "height": 283
        },
        "id": "5_SG8nwgg0II",
        "outputId": "1a0f487f-b099-4596-9b0a-df3791be0f79"
      },
      "execution_count": 44,
      "outputs": [
        {
          "output_type": "execute_result",
          "data": {
            "text/plain": [
              "[<matplotlib.lines.Line2D at 0x7eff71ec68d0>]"
            ]
          },
          "metadata": {},
          "execution_count": 44
        },
        {
          "output_type": "display_data",
          "data": {
            "text/plain": [
              "<Figure size 432x288 with 1 Axes>"
            ],
            "image/png": "[encoded data removed]"
          },
          "metadata": {
            "needs_background": "light"
          }
        }
      ]
    },
    {
      "cell_type": "markdown",
      "source": [
        "## NNet with embeddings"
      ],
      "metadata": {
        "id": "NkO7z0hqYi7Q"
      }
    },
    {
      "cell_type": "code",
      "source": [
        "device = \"\"\n",
        "if torch.cuda.is_available():\n",
        "  device = \"cuda:0\"\n",
        "else:\n",
        "  device = \"cpu\""
      ],
      "metadata": {
        "id": "-sMag_nBWW2a"
      },
      "execution_count": 45,
      "outputs": []
    },
    {
      "cell_type": "code",
      "source": [
        "vendor_id = df[\"vendor_id\"]"
      ],
      "metadata": {
        "id": "y7ODhS9caeOR"
      },
      "execution_count": 46,
      "outputs": []
    },
    {
      "cell_type": "code",
      "source": [
        "unique = np.unique(vendor_id)\n",
        "index = np.arange(0, len(unique))\n",
        "vendor_id_to_index = {key: value for key, value in zip(unique, index)}"
      ],
      "metadata": {
        "id": "PKSZ8QQ0Z9OF"
      },
      "execution_count": 47,
      "outputs": []
    },
    {
      "cell_type": "code",
      "source": [
        "vendors_idx = np.array([vendor_id_to_index[vendor] for vendor in vendor_id])"
      ],
      "metadata": {
        "id": "tMXVeErWabmZ"
      },
      "execution_count": 48,
      "outputs": []
    },
    {
      "cell_type": "code",
      "source": [
        "print(max(vendors_idx))\n",
        "print(min(vendors_idx))"
      ],
      "metadata": {
        "colab": {
          "base_uri": "https://localhost:8080/"
        },
        "id": "s8QlpmXdalJ2",
        "outputId": "197b9521-bcae-47de-a678-48a9e29dc1dd"
      },
      "execution_count": 49,
      "outputs": [
        {
          "output_type": "stream",
          "name": "stdout",
          "text": [
            "499\n",
            "0\n"
          ]
        }
      ]
    },
    {
      "cell_type": "code",
      "source": [
        "class CustomDatasetWithEmb(Dataset):\n",
        "\n",
        "  def __init__(self, X, vendors_idx, y):\n",
        "    super().__init__()\n",
        "    self.X = X\n",
        "    self.vendors_idx = vendors_idx\n",
        "    self.y = y\n",
        "  \n",
        "  def __len__(self):\n",
        "    return self.X.shape[0]\n",
        "\n",
        "  def __getitem__(self, idx):\n",
        "      return self.X[idx], self.vendors_idx[idx], self.y[idx]"
      ],
      "metadata": {
        "id": "SGd7J6dyasdl"
      },
      "execution_count": 71,
      "outputs": []
    },
    {
      "cell_type": "code",
      "source": [
        "vendors_index_train = vendors_idx[train_idx]\n",
        "vendors_index_val = vendors_idx[valid_idx]\n",
        "train = CustomDatasetWithEmb(X_train, vendors_index_train, y_train)\n",
        "valid = CustomDatasetWithEmb(X_valid, vendors_index_val, y_valid)"
      ],
      "metadata": {
        "id": "O45RVHqca0nq"
      },
      "execution_count": 72,
      "outputs": []
    },
    {
      "cell_type": "code",
      "source": [
        "train_dataloader = DataLoader(train, batch_size=64, shuffle=True)\n",
        "valid_dataloader = DataLoader(valid, batch_size=64, shuffle=True)"
      ],
      "metadata": {
        "id": "tXtPxQqVbknO"
      },
      "execution_count": 73,
      "outputs": []
    },
    {
      "cell_type": "code",
      "source": [
        "class NNetWithEmbeddings(torch.nn.Module):\n",
        "\n",
        "  def __init__(self, number_of_vendors, d):\n",
        "    super().__init__()\n",
        "    self.embedding = torch.nn.Embedding(num_embeddings=number_of_vendors, embedding_dim=d)\n",
        "    self.linear_1 = torch.nn.Linear(in_features=(13+d), out_features=100, bias=True)\n",
        "    self.relu_1 = torch.nn.ReLU()\n",
        "    self.linear_2 = torch.nn.Linear(in_features=100, out_features=50, bias=True)\n",
        "    self.relu_2 = torch.nn.ReLU()\n",
        "    self.output = torch.nn.Linear(in_features=50, out_features=1, bias=True)\n",
        "\n",
        "  \n",
        "  def forward(self, x, vendor_idx):\n",
        "    vendor_emb = self.embedding(vendor_idx) # (64, d)\n",
        "\n",
        "    final_input = torch.cat([x, vendor_emb], dim=1) #. (64, 13+d)\n",
        "\n",
        "    x = self.linear_1(final_input) \n",
        "    x = self.relu_1(x) \n",
        "    x = self.linear_2(x)\n",
        "    x = self.relu_2(x)\n",
        "    x = self.output(x)\n",
        "    return x"
      ],
      "metadata": {
        "id": "JITCwAVMb1--"
      },
      "execution_count": 74,
      "outputs": []
    },
    {
      "cell_type": "code",
      "source": [
        "nnet2 = NNetWithEmbeddings(number_of_vendors=500, d=8)\n",
        "optimizer = torch.optim.Adam(nnet2.parameters(), lr=0.001)\n",
        "loss_function = torch.nn.BCEWithLogitsLoss(reduction=\"sum\")"
      ],
      "metadata": {
        "id": "6pnYIT8BdZKw"
      },
      "execution_count": 75,
      "outputs": []
    },
    {
      "cell_type": "code",
      "source": [
        "print(nnet2)"
      ],
      "metadata": {
        "colab": {
          "base_uri": "https://localhost:8080/"
        },
        "id": "SKK1qi17e3wq",
        "outputId": "94a6f168-1156-4cf4-b882-2fe6e815bf33"
      },
      "execution_count": 76,
      "outputs": [
        {
          "output_type": "stream",
          "name": "stdout",
          "text": [
            "NNetWithEmbeddings(\n",
            "  (embedding): Embedding(500, 8)\n",
            "  (linear_1): Linear(in_features=21, out_features=100, bias=True)\n",
            "  (relu_1): ReLU()\n",
            "  (linear_2): Linear(in_features=100, out_features=50, bias=True)\n",
            "  (relu_2): ReLU()\n",
            "  (output): Linear(in_features=50, out_features=1, bias=True)\n",
            ")\n"
          ]
        }
      ]
    },
    {
      "cell_type": "code",
      "source": [
        "nnet = nnet2\n",
        "\n",
        "nnet.to(device)\n",
        "\n",
        "loss_list = []\n",
        "train_auc = []\n",
        "validation_loss_list = []\n",
        "validation_auc = []\n",
        "for epoch in range(100):\n",
        "\n",
        "    running_loss = 0\n",
        "    running_y_score = []\n",
        "    running_y_label = []\n",
        "    running_validation_loss = 0\n",
        "    running_validation_y_score = []\n",
        "    running_validation_y_label = []\n",
        "\n",
        "    #### TRAINING ####\n",
        "    for i, data in enumerate(train_dataloader):\n",
        "\n",
        "        # datos del batch\n",
        "        X_batch, vendor_idx_batch, y_batch = data \n",
        "        X_batch = X_batch.to(device).float()\n",
        "        vendor_idx_batch = vendor_idx_batch.to(device)\n",
        "        Y_batch = y_batch.to(device).float()\n",
        "\n",
        "        # forward\n",
        "        optimizer.zero_grad()\n",
        "        y_batch_score = nnet(X_batch, vendor_idx_batch).reshape(-1)\n",
        "        y_batch_hat = torch.sigmoid(y_batch_score).reshape(-1)\n",
        "\n",
        "        # backpropagation\n",
        "        loss = loss_function(y_batch_score, Y_batch) # calcula el loss\n",
        "        loss.backward() # hacer los gradientes del loss\n",
        "\n",
        "        # actualización de parametros\n",
        "        optimizer.step() \n",
        "\n",
        "        running_loss += loss.item()\n",
        "        running_y_score += list(y_batch_score.detach().cpu().numpy())  \n",
        "        running_y_label += list(Y_batch.detach().cpu().numpy()) \n",
        "\n",
        "    # Metrics\n",
        "    loss_list.append(running_loss)\n",
        "    fpt, tpr, _ = metrics.roc_curve(running_y_label, running_y_score)\n",
        "    auc = metrics.auc(fpt, tpr)\n",
        "    train_auc.append(auc)\n",
        "    print(f\"Epoch {epoch} | Training loss: {running_loss} | AUC: {auc}\")\n",
        "\n",
        "    #### VALIDATION ####\n",
        "    nnet.eval()\n",
        "    with torch.no_grad():\n",
        "\n",
        "      for i, data in enumerate(valid_dataloader): \n",
        "        # Datos del batch\n",
        "        X_validation_batch, vendor_idx_validation_batch, y_validation_batch = data\n",
        "        X_validation_batch = X_validation_batch.to(device).float()\n",
        "        vendor_idx_validation_batch = vendor_idx_validation_batch.to(device)\n",
        "        Y_validation_batch = y_validation_batch.to(device).float()\n",
        "\n",
        "        # Forward\n",
        "        y_validation_batch_score = nnet(X_validation_batch, vendor_idx_validation_batch).reshape(-1)\n",
        "        y_validation_batch_hat = torch.sigmoid(y_validation_batch_score).reshape(-1)\n",
        "\n",
        "        validation_loss = loss_function(y_validation_batch_score, Y_validation_batch) #  Calcula el loss\n",
        "\n",
        "        # Acumular validation loss\n",
        "        running_validation_loss += validation_loss.item()\n",
        "\n",
        "        # Acumular metrics y_score and y\n",
        "        running_validation_y_score += list(y_validation_batch_score.detach().cpu().numpy())\n",
        "        running_validation_y_label += list(Y_validation_batch.detach().cpu().numpy())\n",
        "\n",
        "      \n",
        "      # Calcular las metricas (AUC)\n",
        "      validation_loss_list.append(running_validation_loss)\n",
        "      fpt_v, tpr_v, _ = metrics.roc_curve(running_validation_y_label, running_validation_y_score)\n",
        "      auc_v = metrics.auc(fpt_v, tpr_v)\n",
        "      validation_auc.append(auc_v)\n",
        "      print(f\"Epoch {epoch} | Validation loss: {running_validation_loss} | AUC: {auc_v}\")\n"
      ],
      "metadata": {
        "colab": {
          "base_uri": "https://localhost:8080/"
        },
        "id": "j-Dg1FiPeAdc",
        "outputId": "f66f684f-30a0-4e1a-cef2-1996073f5797"
      },
      "execution_count": 77,
      "outputs": [
        {
          "output_type": "stream",
          "name": "stdout",
          "text": [
            "Epoch 0 | Training loss: 2811.3524990081787 | AUC: 0.5558529014645195\n",
            "Epoch 0 | Validation loss: 461.3027572631836 | AUC: 0.71115812355647\n",
            "Epoch 1 | Training loss: 2431.6047859191895 | AUC: 0.7407884866912762\n",
            "Epoch 1 | Validation loss: 403.7809479236603 | AUC: 0.8081762837308903\n",
            "Epoch 2 | Training loss: 2072.8498210906982 | AUC: 0.8292134783977552\n",
            "Epoch 2 | Validation loss: 330.0421953201294 | AUC: 0.878779056602553\n",
            "Epoch 3 | Training loss: 1656.2799663543701 | AUC: 0.8977699408994191\n",
            "Epoch 3 | Validation loss: 262.6110135912895 | AUC: 0.9211937710666434\n",
            "Epoch 4 | Training loss: 1321.083197593689 | AUC: 0.9373278169973862\n",
            "Epoch 4 | Validation loss: 215.1540446281433 | AUC: 0.9468586844710131\n",
            "Epoch 5 | Training loss: 1042.8324227333069 | AUC: 0.9604315589072414\n",
            "Epoch 5 | Validation loss: 176.40310525894165 | AUC: 0.9622498689905478\n",
            "Epoch 6 | Training loss: 806.8664281368256 | AUC: 0.9757907370351667\n",
            "Epoch 6 | Validation loss: 138.42588782310486 | AUC: 0.9761012880978722\n",
            "Epoch 7 | Training loss: 626.675154209137 | AUC: 0.984343734218539\n",
            "Epoch 7 | Validation loss: 114.7036919593811 | AUC: 0.9834378174148762\n",
            "Epoch 8 | Training loss: 492.3201608657837 | AUC: 0.9899085282750956\n",
            "Epoch 8 | Validation loss: 94.91793939471245 | AUC: 0.9882706105363946\n",
            "Epoch 9 | Training loss: 392.1198953986168 | AUC: 0.9931490234775314\n",
            "Epoch 9 | Validation loss: 77.66766202449799 | AUC: 0.9924758522083988\n",
            "Epoch 10 | Training loss: 308.54692554473877 | AUC: 0.9950226196538484\n",
            "Epoch 10 | Validation loss: 65.52644003927708 | AUC: 0.9952771901222108\n",
            "Epoch 11 | Training loss: 251.37946850061417 | AUC: 0.9970111629734966\n",
            "Epoch 11 | Validation loss: 53.95641271118075 | AUC: 0.9972180708939049\n",
            "Epoch 12 | Training loss: 203.04582911729813 | AUC: 0.9982157836796187\n",
            "Epoch 12 | Validation loss: 44.65025070309639 | AUC: 0.9978844399588533\n",
            "Epoch 13 | Training loss: 164.0812540948391 | AUC: 0.9987590357117955\n",
            "Epoch 13 | Validation loss: 41.01629680395126 | AUC: 0.9984278865749278\n",
            "Epoch 14 | Training loss: 132.706179484725 | AUC: 0.9994047681934493\n",
            "Epoch 14 | Validation loss: 34.57176977396011 | AUC: 0.9987190186906819\n",
            "Epoch 15 | Training loss: 109.57568557560444 | AUC: 0.9995915573013622\n",
            "Epoch 15 | Validation loss: 31.418804302811623 | AUC: 0.9990554380244422\n",
            "Epoch 16 | Training loss: 88.42878460139036 | AUC: 0.9997491870236508\n",
            "Epoch 16 | Validation loss: 27.227505087852478 | AUC: 0.9990813164347314\n",
            "Epoch 17 | Training loss: 70.18026577681303 | AUC: 0.9999076619455227\n",
            "Epoch 17 | Validation loss: 28.09980195388198 | AUC: 0.9993465701401963\n",
            "Epoch 18 | Training loss: 59.28573989868164 | AUC: 0.99991336704271\n",
            "Epoch 18 | Validation loss: 24.507436081767082 | AUC: 0.9994306749736364\n",
            "Epoch 19 | Training loss: 48.04225159436464 | AUC: 0.9999617547188548\n",
            "Epoch 19 | Validation loss: 21.64003447443247 | AUC: 0.9994824317942148\n",
            "Epoch 20 | Training loss: 38.60959756746888 | AUC: 0.9999907028045836\n",
            "Epoch 20 | Validation loss: 22.063226227648556 | AUC: 0.9995277190122211\n",
            "Epoch 21 | Training loss: 30.94696730747819 | AUC: 0.9999911254043751\n",
            "Epoch 21 | Validation loss: 19.125818371772766 | AUC: 0.9995730062302273\n",
            "Epoch 22 | Training loss: 24.547837018966675 | AUC: 0.9999964079017709\n",
            "Epoch 22 | Validation loss: 19.514248229563236 | AUC: 0.9995600670250827\n",
            "Epoch 23 | Training loss: 20.081125382333994 | AUC: 0.9999991548004167\n",
            "Epoch 23 | Validation loss: 19.76103677600622 | AUC: 0.9995794758327996\n",
            "Epoch 24 | Training loss: 16.72296068444848 | AUC: 0.9999997887001042\n",
            "Epoch 24 | Validation loss: 19.773482114076614 | AUC: 0.9996765198713843\n",
            "Epoch 25 | Training loss: 13.282072199508548 | AUC: 0.9999997887001042\n",
            "Epoch 25 | Validation loss: 17.93585554836318 | AUC: 0.999631232653378\n",
            "Epoch 26 | Training loss: 10.835668254643679 | AUC: 1.0\n",
            "Epoch 26 | Validation loss: 18.08971058949828 | AUC: 0.9996635806662396\n",
            "Epoch 27 | Training loss: 9.024383053183556 | AUC: 1.0\n",
            "Epoch 27 | Validation loss: 17.115163321606815 | AUC: 0.9996829894739566\n",
            "Epoch 28 | Training loss: 7.94692231528461 | AUC: 1.0\n",
            "Epoch 28 | Validation loss: 17.097212873399258 | AUC: 0.999689459076529\n",
            "Epoch 29 | Training loss: 6.850390707142651 | AUC: 1.0\n",
            "Epoch 29 | Validation loss: 17.500971146277152 | AUC: 0.999670050268812\n",
            "Epoch 30 | Training loss: 5.885800962336361 | AUC: 1.0\n",
            "Epoch 30 | Validation loss: 16.254310474847443 | AUC: 0.9997023982816736\n",
            "Epoch 31 | Training loss: 5.020668585784733 | AUC: 1.0\n",
            "Epoch 31 | Validation loss: 17.26183570548892 | AUC: 0.9997023982816735\n",
            "Epoch 32 | Training loss: 4.5893566883169115 | AUC: 1.0\n",
            "Epoch 32 | Validation loss: 16.854813146870583 | AUC: 0.9997153374868182\n",
            "Epoch 33 | Training loss: 3.8298839195631444 | AUC: 1.0\n",
            "Epoch 33 | Validation loss: 16.700490516610444 | AUC: 0.9997088678842458\n",
            "Epoch 34 | Training loss: 3.4047656068578362 | AUC: 1.0\n",
            "Epoch 34 | Validation loss: 16.33698974008439 | AUC: 0.9997412158971074\n",
            "Epoch 35 | Training loss: 2.969647160731256 | AUC: 1.0\n",
            "Epoch 35 | Validation loss: 15.92243283893913 | AUC: 0.9997476854996797\n",
            "Epoch 36 | Training loss: 2.6950269266963005 | AUC: 1.0\n",
            "Epoch 36 | Validation loss: 16.224792901426554 | AUC: 0.9997282766919628\n",
            "Epoch 37 | Training loss: 2.4012544804718345 | AUC: 1.0\n",
            "Epoch 37 | Validation loss: 16.339249282726087 | AUC: 0.9997282766919627\n",
            "Epoch 38 | Training loss: 2.159468613099307 | AUC: 1.0\n",
            "Epoch 38 | Validation loss: 15.804466585163027 | AUC: 0.9997541551022521\n",
            "Epoch 39 | Training loss: 1.9675648021511734 | AUC: 1.0\n",
            "Epoch 39 | Validation loss: 15.916272565489635 | AUC: 0.9997541551022521\n",
            "Epoch 40 | Training loss: 1.7970876868348569 | AUC: 1.0\n",
            "Epoch 40 | Validation loss: 16.08289622463053 | AUC: 0.9997541551022521\n",
            "Epoch 41 | Training loss: 1.6037584922742099 | AUC: 1.0\n",
            "Epoch 41 | Validation loss: 15.891746276349295 | AUC: 0.9997606247048243\n",
            "Epoch 42 | Training loss: 1.467775997123681 | AUC: 1.0\n",
            "Epoch 42 | Validation loss: 16.33692474104464 | AUC: 0.9997606247048243\n",
            "Epoch 43 | Training loss: 1.3588154092431068 | AUC: 1.0\n",
            "Epoch 43 | Validation loss: 16.296860412119713 | AUC: 0.9997670943073966\n",
            "Epoch 44 | Training loss: 1.2092018087860197 | AUC: 1.0\n",
            "Epoch 44 | Validation loss: 16.11651096949754 | AUC: 0.999773563909969\n",
            "Epoch 45 | Training loss: 1.1120508630992845 | AUC: 1.0\n",
            "Epoch 45 | Validation loss: 16.25719857623335 | AUC: 0.999773563909969\n",
            "Epoch 46 | Training loss: 1.0296208504587412 | AUC: 1.0\n",
            "Epoch 46 | Validation loss: 16.10351152513249 | AUC: 0.999773563909969\n",
            "Epoch 47 | Training loss: 0.9404705467168242 | AUC: 1.0\n",
            "Epoch 47 | Validation loss: 16.053340433631092 | AUC: 0.999773563909969\n",
            "Epoch 48 | Training loss: 0.8721161598805338 | AUC: 1.0\n",
            "Epoch 48 | Validation loss: 16.051513905986212 | AUC: 0.9997800335125413\n",
            "Epoch 49 | Training loss: 0.8053026240086183 | AUC: 1.0\n",
            "Epoch 49 | Validation loss: 16.15370461868588 | AUC: 0.9997865031151136\n",
            "Epoch 50 | Training loss: 0.7499358243949246 | AUC: 1.0\n",
            "Epoch 50 | Validation loss: 16.273160010081483 | AUC: 0.999773563909969\n",
            "Epoch 51 | Training loss: 0.7069704104214907 | AUC: 1.0\n",
            "Epoch 51 | Validation loss: 16.24003240908496 | AUC: 0.9997800335125414\n",
            "Epoch 52 | Training loss: 0.6376010972599033 | AUC: 1.0\n",
            "Epoch 52 | Validation loss: 16.16961221129168 | AUC: 0.999792972717686\n",
            "Epoch 53 | Training loss: 0.5826891501201317 | AUC: 1.0\n",
            "Epoch 53 | Validation loss: 16.26877049007453 | AUC: 0.999792972717686\n",
            "Epoch 54 | Training loss: 0.5486529130721465 | AUC: 1.0\n",
            "Epoch 54 | Validation loss: 16.375270579865173 | AUC: 0.9997865031151136\n",
            "Epoch 55 | Training loss: 0.5068463545612758 | AUC: 1.0\n",
            "Epoch 55 | Validation loss: 16.304880223236978 | AUC: 0.9998059119228306\n",
            "Epoch 56 | Training loss: 0.4823342387098819 | AUC: 1.0\n",
            "Epoch 56 | Validation loss: 16.366300664260052 | AUC: 0.9998059119228306\n",
            "Epoch 57 | Training loss: 0.43510695482837036 | AUC: 1.0\n",
            "Epoch 57 | Validation loss: 16.247188252717024 | AUC: 0.9998059119228306\n",
            "Epoch 58 | Training loss: 0.4140393436246086 | AUC: 1.0\n",
            "Epoch 58 | Validation loss: 16.451488686958328 | AUC: 0.9998059119228306\n",
            "Epoch 59 | Training loss: 0.3813928235322237 | AUC: 1.0\n",
            "Epoch 59 | Validation loss: 16.54505553682975 | AUC: 0.9997994423202583\n",
            "Epoch 60 | Training loss: 0.3562320180644747 | AUC: 1.0\n",
            "Epoch 60 | Validation loss: 16.525447111402173 | AUC: 0.9998059119228306\n",
            "Epoch 61 | Training loss: 0.34272747571230866 | AUC: 1.0\n",
            "Epoch 61 | Validation loss: 16.515394654124975 | AUC: 0.9998059119228306\n",
            "Epoch 62 | Training loss: 0.3063490613712929 | AUC: 1.0\n",
            "Epoch 62 | Validation loss: 16.63907972031302 | AUC: 0.9997994423202583\n",
            "Epoch 63 | Training loss: 0.2908375043189153 | AUC: 1.0\n",
            "Epoch 63 | Validation loss: 16.721423511742614 | AUC: 0.9997994423202583\n",
            "Epoch 64 | Training loss: 0.2699988085369114 | AUC: 1.0\n",
            "Epoch 64 | Validation loss: 16.52950127677468 | AUC: 0.9998059119228306\n",
            "Epoch 65 | Training loss: 0.2557596725819167 | AUC: 1.0\n",
            "Epoch 65 | Validation loss: 16.560754733051 | AUC: 0.9998059119228306\n",
            "Epoch 66 | Training loss: 0.23550351438461803 | AUC: 1.0\n",
            "Epoch 66 | Validation loss: 16.537582212957204 | AUC: 0.9998059119228306\n",
            "Epoch 67 | Training loss: 0.22404463584825862 | AUC: 1.0\n",
            "Epoch 67 | Validation loss: 16.726179253542796 | AUC: 0.9998059119228306\n",
            "Epoch 68 | Training loss: 0.2093595389596885 | AUC: 1.0\n",
            "Epoch 68 | Validation loss: 16.55589406578838 | AUC: 0.999812381525403\n",
            "Epoch 69 | Training loss: 0.19721141294576228 | AUC: 1.0\n",
            "Epoch 69 | Validation loss: 16.559471548365764 | AUC: 0.999812381525403\n",
            "Epoch 70 | Training loss: 0.1841928580106469 | AUC: 1.0\n",
            "Epoch 70 | Validation loss: 16.611605333126136 | AUC: 0.9998188511279752\n",
            "Epoch 71 | Training loss: 0.1723090276864241 | AUC: 1.0\n",
            "Epoch 71 | Validation loss: 16.693901385675417 | AUC: 0.9998188511279752\n",
            "Epoch 72 | Training loss: 0.16345567640382797 | AUC: 1.0\n",
            "Epoch 72 | Validation loss: 16.738624400197295 | AUC: 0.999812381525403\n",
            "Epoch 73 | Training loss: 0.1517223602568265 | AUC: 1.0\n",
            "Epoch 73 | Validation loss: 16.788609919705777 | AUC: 0.999812381525403\n",
            "Epoch 74 | Training loss: 0.1431659394002054 | AUC: 1.0\n",
            "Epoch 74 | Validation loss: 16.844394387793727 | AUC: 0.9998188511279752\n",
            "Epoch 75 | Training loss: 0.13420320981822442 | AUC: 1.0\n",
            "Epoch 75 | Validation loss: 16.846322349367256 | AUC: 0.9998188511279752\n",
            "Epoch 76 | Training loss: 0.1265108715815586 | AUC: 1.0\n",
            "Epoch 76 | Validation loss: 16.765461719827726 | AUC: 0.9998188511279751\n",
            "Epoch 77 | Training loss: 0.11825978369961376 | AUC: 1.0\n",
            "Epoch 77 | Validation loss: 16.93210842256667 | AUC: 0.9998253207305475\n",
            "Epoch 78 | Training loss: 0.11182686557731358 | AUC: 1.0\n",
            "Epoch 78 | Validation loss: 16.77329805959016 | AUC: 0.9998188511279752\n",
            "Epoch 79 | Training loss: 0.1069093654077733 | AUC: 1.0\n",
            "Epoch 79 | Validation loss: 16.994137671579665 | AUC: 0.9998382599356921\n",
            "Epoch 80 | Training loss: 0.09942950229742564 | AUC: 1.0\n",
            "Epoch 80 | Validation loss: 16.85016196012475 | AUC: 0.9998317903331198\n",
            "Epoch 81 | Training loss: 0.09344659379348741 | AUC: 1.0\n",
            "Epoch 81 | Validation loss: 16.68736558467208 | AUC: 0.9998382599356921\n",
            "Epoch 82 | Training loss: 0.0887539796422061 | AUC: 1.0\n",
            "Epoch 82 | Validation loss: 16.78504785129917 | AUC: 0.9998317903331199\n",
            "Epoch 83 | Training loss: 0.08321128709212644 | AUC: 1.0\n",
            "Epoch 83 | Validation loss: 16.91739111359493 | AUC: 0.9998382599356921\n",
            "Epoch 84 | Training loss: 0.07818897011384252 | AUC: 1.0\n",
            "Epoch 84 | Validation loss: 16.91198657591849 | AUC: 0.9998382599356921\n",
            "Epoch 85 | Training loss: 0.0735545559800812 | AUC: 1.0\n",
            "Epoch 85 | Validation loss: 17.170335567119764 | AUC: 0.9998382599356921\n",
            "Epoch 86 | Training loss: 0.07004652143223211 | AUC: 1.0\n",
            "Epoch 86 | Validation loss: 17.01755771660646 | AUC: 0.9998382599356921\n",
            "Epoch 87 | Training loss: 0.06590345288350363 | AUC: 1.0\n",
            "Epoch 87 | Validation loss: 16.9704666553298 | AUC: 0.9998382599356921\n",
            "Epoch 88 | Training loss: 0.061857008757215226 | AUC: 1.0\n",
            "Epoch 88 | Validation loss: 17.0381755696435 | AUC: 0.9998382599356921\n",
            "Epoch 89 | Training loss: 0.05841038809012389 | AUC: 1.0\n",
            "Epoch 89 | Validation loss: 17.122966220529634 | AUC: 0.9998382599356921\n",
            "Epoch 90 | Training loss: 0.05483684352657292 | AUC: 1.0\n",
            "Epoch 90 | Validation loss: 17.27252039350151 | AUC: 0.9998382599356921\n",
            "Epoch 91 | Training loss: 0.052236679366615135 | AUC: 1.0\n",
            "Epoch 91 | Validation loss: 17.24432007075393 | AUC: 0.9998382599356921\n",
            "Epoch 92 | Training loss: 0.0489961184830463 | AUC: 1.0\n",
            "Epoch 92 | Validation loss: 17.36760155470256 | AUC: 0.9998382599356921\n",
            "Epoch 93 | Training loss: 0.046394749744649744 | AUC: 1.0\n",
            "Epoch 93 | Validation loss: 17.284446066410965 | AUC: 0.9998447295382644\n",
            "Epoch 94 | Training loss: 0.04384718483197503 | AUC: 1.0\n",
            "Epoch 94 | Validation loss: 17.262406839329742 | AUC: 0.9998576687434091\n",
            "Epoch 95 | Training loss: 0.041549366898834705 | AUC: 1.0\n",
            "Epoch 95 | Validation loss: 17.32257192735665 | AUC: 0.9998576687434091\n",
            "Epoch 96 | Training loss: 0.039322698321484495 | AUC: 1.0\n",
            "Epoch 96 | Validation loss: 17.376412489261156 | AUC: 0.9998576687434091\n",
            "Epoch 97 | Training loss: 0.03731648712710012 | AUC: 1.0\n",
            "Epoch 97 | Validation loss: 17.493268616366535 | AUC: 0.9998511991408368\n",
            "Epoch 98 | Training loss: 0.035249298674898455 | AUC: 1.0\n",
            "Epoch 98 | Validation loss: 17.57241095669451 | AUC: 0.9998511991408369\n",
            "Epoch 99 | Training loss: 0.03332452128051955 | AUC: 1.0\n",
            "Epoch 99 | Validation loss: 17.647190956003215 | AUC: 0.9998511991408368\n"
          ]
        }
      ]
    },
    {
      "cell_type": "code",
      "source": [
        "# Plot train loss and valid loss vs epochs\n",
        "\n",
        "fig, ax1 = plt.subplots(1,1)\n",
        "x = range(0, len(loss_list))\n",
        "ax1.plot(x, loss_list)\n",
        "ax1.plot(x, validation_loss_list, color='r')"
      ],
      "metadata": {
        "id": "WnH8LLtCesm5",
        "colab": {
          "base_uri": "https://localhost:8080/",
          "height": 283
        },
        "outputId": "f8e806ec-724d-4571-bc4e-e3aee040e249"
      },
      "execution_count": 78,
      "outputs": [
        {
          "output_type": "execute_result",
          "data": {
            "text/plain": [
              "[<matplotlib.lines.Line2D at 0x7eff719a3490>]"
            ]
          },
          "metadata": {},
          "execution_count": 78
        },
        {
          "output_type": "display_data",
          "data": {
            "text/plain": [
              "<Figure size 432x288 with 1 Axes>"
            ],
            "image/png": "[encoded data removed]"
          },
          "metadata": {
            "needs_background": "light"
          }
        }
      ]
    },
    {
      "cell_type": "code",
      "source": [
        "# Plot train auc y valid auc vs num epochs\n",
        "\n",
        "fig, ax1 = plt.subplots(1,1)\n",
        "x = range(0, len(train_auc))\n",
        "ax1.plot(x, train_auc)\n",
        "ax1.plot(x, validation_auc)"
      ],
      "metadata": {
        "colab": {
          "base_uri": "https://localhost:8080/",
          "height": 283
        },
        "id": "KhdlN2jgmp-H",
        "outputId": "36fc9580-8f4b-4ac4-9554-3cde3a225e31"
      },
      "execution_count": 79,
      "outputs": [
        {
          "output_type": "execute_result",
          "data": {
            "text/plain": [
              "[<matplotlib.lines.Line2D at 0x7eff7190d510>]"
            ]
          },
          "metadata": {},
          "execution_count": 79
        },
        {
          "output_type": "display_data",
          "data": {
            "text/plain": [
              "<Figure size 432x288 with 1 Axes>"
            ],
            "image/png": "[encoded data removed]"
          },
          "metadata": {
            "needs_background": "light"
          }
        }
      ]
    },
    {
      "cell_type": "code",
      "source": [
        ""
      ],
      "metadata": {
        "id": "fGvu2y7zpAxA"
      },
      "execution_count": 57,
      "outputs": []
    }
  ]
}