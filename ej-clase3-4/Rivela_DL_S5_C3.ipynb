{
  "nbformat": 4,
  "nbformat_minor": 0,
  "metadata": {
    "colab": {
      "name": "Rivela - DL - S5 - C3.ipynb",
      "provenance": []
    },
    "kernelspec": {
      "name": "python3",
      "display_name": "Python 3"
    },
    "language_info": {
      "name": "python"
    },
    "accelerator": "GPU",
    "gpuClass": "standard"
  },
  "cells": [
    {
      "cell_type": "code",
      "execution_count": 1,
      "metadata": {
        "id": "GEeSXjnqAjup"
      },
      "outputs": [],
      "source": [
        "import matplotlib.pyplot as plt\n",
        "import numpy as np\n",
        "import pandas as pd\n",
        "from scipy import stats\n",
        "from sklearn import preprocessing\n",
        "import torch\n"
      ]
    },
    {
      "cell_type": "code",
      "source": [
        "from google.colab import drive\n",
        "drive.mount('/content/drive')"
      ],
      "metadata": {
        "colab": {
          "base_uri": "https://localhost:8080/"
        },
        "id": "B2lt68VxXwbp",
        "outputId": "a7e69124-c074-431d-ebb2-74d5d7e55240"
      },
      "execution_count": 3,
      "outputs": [
        {
          "output_type": "stream",
          "name": "stdout",
          "text": [
            "Drive already mounted at /content/drive; to attempt to forcibly remount, call drive.mount(\"/content/drive\", force_remount=True).\n"
          ]
        }
      ]
    },
    {
      "cell_type": "code",
      "source": [
        "df = pd.read_csv('/content/drive/MyDrive/2022/Especialización IA/dl/dataset_wine.csv')"
      ],
      "metadata": {
        "id": "YBIQZuFCBBNn"
      },
      "execution_count": 2,
      "outputs": []
    },
    {
      "cell_type": "code",
      "source": [
        "df.info()"
      ],
      "metadata": {
        "colab": {
          "base_uri": "https://localhost:8080/"
        },
        "id": "YgkqsnVnBOxI",
        "outputId": "d047849e-49ac-4918-f909-5b57fbdfb4b0"
      },
      "execution_count": 3,
      "outputs": [
        {
          "output_type": "stream",
          "name": "stdout",
          "text": [
            "<class 'pandas.core.frame.DataFrame'>\n",
            "RangeIndex: 6497 entries, 0 to 6496\n",
            "Data columns (total 15 columns):\n",
            " #   Column                Non-Null Count  Dtype  \n",
            "---  ------                --------------  -----  \n",
            " 0   Unnamed: 0            6497 non-null   int64  \n",
            " 1   type                  6497 non-null   object \n",
            " 2   fixed acidity         6487 non-null   float64\n",
            " 3   volatile acidity      6489 non-null   float64\n",
            " 4   citric acid           6494 non-null   float64\n",
            " 5   residual sugar        6495 non-null   float64\n",
            " 6   chlorides             6495 non-null   float64\n",
            " 7   free sulfur dioxide   6497 non-null   float64\n",
            " 8   total sulfur dioxide  6497 non-null   float64\n",
            " 9   density               6497 non-null   float64\n",
            " 10  pH                    6488 non-null   float64\n",
            " 11  sulphates             6493 non-null   float64\n",
            " 12  alcohol               6497 non-null   float64\n",
            " 13  quality               6497 non-null   int64  \n",
            " 14  vendor_id             6497 non-null   int64  \n",
            "dtypes: float64(11), int64(3), object(1)\n",
            "memory usage: 761.5+ KB\n"
          ]
        }
      ]
    },
    {
      "cell_type": "code",
      "source": [
        "quality = df.quality.to_numpy()\n",
        "fix, ax1 = plt.subplots(1,1)\n",
        "ax1.hist(quality)"
      ],
      "metadata": {
        "colab": {
          "base_uri": "https://localhost:8080/",
          "height": 334
        },
        "id": "OrJESm5XBPrf",
        "outputId": "c4190445-9657-40b8-e100-4b0a45cac179"
      },
      "execution_count": 4,
      "outputs": [
        {
          "output_type": "execute_result",
          "data": {
            "text/plain": [
              "(array([  30.,  216.,    0., 2138.,    0., 2836., 1079.,    0.,  193.,\n",
              "           5.]),\n",
              " array([3. , 3.6, 4.2, 4.8, 5.4, 6. , 6.6, 7.2, 7.8, 8.4, 9. ]),\n",
              " <a list of 10 Patch objects>)"
            ]
          },
          "metadata": {},
          "execution_count": 4
        },
        {
          "output_type": "display_data",
          "data": {
            "text/plain": [
              "<Figure size 432x288 with 1 Axes>"
            ],
            "image/png": "[encoded data removed]"
          },
          "metadata": {
            "needs_background": "light"
          }
        }
      ]
    },
    {
      "cell_type": "code",
      "source": [
        "df[\"quality_label\"] = df.quality.apply(lambda label: 0 if label <= 6 else 1)\n",
        "print(len(df[df[\"quality_label\"] == 0]))\n",
        "print(len(df[df[\"quality_label\"] == 1]))"
      ],
      "metadata": {
        "colab": {
          "base_uri": "https://localhost:8080/"
        },
        "id": "ClplVeE2Ch2e",
        "outputId": "05026cd8-0f8d-4029-dedf-baab3f9b5a82"
      },
      "execution_count": 5,
      "outputs": [
        {
          "output_type": "stream",
          "name": "stdout",
          "text": [
            "5220\n",
            "1277\n"
          ]
        }
      ]
    },
    {
      "cell_type": "code",
      "source": [
        "# clasif binaria, modelo tonto, devolver la clase mayoritaria\n",
        "# regresion, modelo tonto, devolver el promedio de tu salida"
      ],
      "metadata": {
        "id": "uKh3DTxIC9IN"
      },
      "execution_count": 6,
      "outputs": []
    },
    {
      "cell_type": "code",
      "source": [
        "# Variable tipo\n",
        "print(df[\"type\"].unique())\n",
        "\n",
        "type_dummies = pd.get_dummies(df[\"type\"], prefix=\"type\")\n",
        "type_dummies.info()"
      ],
      "metadata": {
        "colab": {
          "base_uri": "https://localhost:8080/"
        },
        "id": "c1o7SnWkDrjr",
        "outputId": "0b517bd4-abae-4ae5-d835-1f392570d0f3"
      },
      "execution_count": 7,
      "outputs": [
        {
          "output_type": "stream",
          "name": "stdout",
          "text": [
            "['white' 'red']\n",
            "<class 'pandas.core.frame.DataFrame'>\n",
            "RangeIndex: 6497 entries, 0 to 6496\n",
            "Data columns (total 2 columns):\n",
            " #   Column      Non-Null Count  Dtype\n",
            "---  ------      --------------  -----\n",
            " 0   type_red    6497 non-null   uint8\n",
            " 1   type_white  6497 non-null   uint8\n",
            "dtypes: uint8(2)\n",
            "memory usage: 12.8 KB\n"
          ]
        }
      ]
    },
    {
      "cell_type": "code",
      "source": [
        "df = pd.concat([df, type_dummies], axis=1)\n",
        "df.info()"
      ],
      "metadata": {
        "colab": {
          "base_uri": "https://localhost:8080/"
        },
        "id": "PoCYJdeAEgiu",
        "outputId": "078d2c32-e645-4f3f-ebba-971081244805"
      },
      "execution_count": 8,
      "outputs": [
        {
          "output_type": "stream",
          "name": "stdout",
          "text": [
            "<class 'pandas.core.frame.DataFrame'>\n",
            "RangeIndex: 6497 entries, 0 to 6496\n",
            "Data columns (total 18 columns):\n",
            " #   Column                Non-Null Count  Dtype  \n",
            "---  ------                --------------  -----  \n",
            " 0   Unnamed: 0            6497 non-null   int64  \n",
            " 1   type                  6497 non-null   object \n",
            " 2   fixed acidity         6487 non-null   float64\n",
            " 3   volatile acidity      6489 non-null   float64\n",
            " 4   citric acid           6494 non-null   float64\n",
            " 5   residual sugar        6495 non-null   float64\n",
            " 6   chlorides             6495 non-null   float64\n",
            " 7   free sulfur dioxide   6497 non-null   float64\n",
            " 8   total sulfur dioxide  6497 non-null   float64\n",
            " 9   density               6497 non-null   float64\n",
            " 10  pH                    6488 non-null   float64\n",
            " 11  sulphates             6493 non-null   float64\n",
            " 12  alcohol               6497 non-null   float64\n",
            " 13  quality               6497 non-null   int64  \n",
            " 14  vendor_id             6497 non-null   int64  \n",
            " 15  quality_label         6497 non-null   int64  \n",
            " 16  type_red              6497 non-null   uint8  \n",
            " 17  type_white            6497 non-null   uint8  \n",
            "dtypes: float64(11), int64(4), object(1), uint8(2)\n",
            "memory usage: 824.9+ KB\n"
          ]
        }
      ]
    },
    {
      "cell_type": "code",
      "source": [
        "# Limpieza\n",
        "nans = df[df.isna().sum(axis=1) >= 1]\n",
        "print(nans.shape)"
      ],
      "metadata": {
        "colab": {
          "base_uri": "https://localhost:8080/"
        },
        "id": "2RHQ5yQTE4er",
        "outputId": "c62c414a-2bed-48cf-dddd-1c8bdb99a138"
      },
      "execution_count": 9,
      "outputs": [
        {
          "output_type": "stream",
          "name": "stdout",
          "text": [
            "(34, 18)\n"
          ]
        }
      ]
    },
    {
      "cell_type": "code",
      "source": [
        "df = df[df.isna().sum(axis=1) == 0]\n",
        "print(df.shape)"
      ],
      "metadata": {
        "colab": {
          "base_uri": "https://localhost:8080/"
        },
        "id": "WJ3x5QxLHGKg",
        "outputId": "0a53b59f-9ab1-421b-a507-5de121206b9d"
      },
      "execution_count": 10,
      "outputs": [
        {
          "output_type": "stream",
          "name": "stdout",
          "text": [
            "(6463, 18)\n"
          ]
        }
      ]
    },
    {
      "cell_type": "code",
      "source": [
        "y = df[\"quality_label\"]\n",
        "X = df.drop([\"Unnamed: 0\", \"type\", \"quality\", \"quality_label\", \"vendor_id\"], axis=1)"
      ],
      "metadata": {
        "id": "5l0TAQ5WHizn"
      },
      "execution_count": 11,
      "outputs": []
    },
    {
      "cell_type": "code",
      "source": [
        "## Normalizacion\n",
        "X_norm = (X - np.min(X, axis=0)) / (np.max(X, axis=0) - np.min(X, axis=0))"
      ],
      "metadata": {
        "id": "vCcoxNn6Iyjq"
      },
      "execution_count": 12,
      "outputs": []
    },
    {
      "cell_type": "code",
      "source": [
        "X_norm.describe()"
      ],
      "metadata": {
        "colab": {
          "base_uri": "https://localhost:8080/",
          "height": 300
        },
        "id": "jNSNyJ-SOikN",
        "outputId": "5be6f49a-f1f4-46a2-8654-7bfa4bca44d2"
      },
      "execution_count": 13,
      "outputs": [
        {
          "output_type": "execute_result",
          "data": {
            "text/plain": [
              "       fixed acidity  volatile acidity  citric acid  residual sugar  \\\n",
              "count    6463.000000       6463.000000  6463.000000     6463.000000   \n",
              "mean        0.282459          0.173059     0.192023        0.074294   \n",
              "std         0.107266          0.109759     0.087501        0.072958   \n",
              "min         0.000000          0.000000     0.000000        0.000000   \n",
              "25%         0.214876          0.100000     0.150602        0.018405   \n",
              "50%         0.264463          0.140000     0.186747        0.036810   \n",
              "75%         0.322314          0.213333     0.234940        0.115031   \n",
              "max         1.000000          1.000000     1.000000        1.000000   \n",
              "\n",
              "         chlorides  free sulfur dioxide  total sulfur dioxide      density  \\\n",
              "count  6463.000000          6463.000000           6463.000000  6463.000000   \n",
              "mean      0.078166             0.102489              0.252752     0.146283   \n",
              "std       0.058265             0.061663              0.130246     0.057865   \n",
              "min       0.000000             0.000000              0.000000     0.000000   \n",
              "25%       0.048173             0.055556              0.163594     0.100636   \n",
              "50%       0.063123             0.097222              0.258065     0.149990   \n",
              "75%       0.093023             0.138889              0.345622     0.190669   \n",
              "max       1.000000             1.000000              1.000000     1.000000   \n",
              "\n",
              "                pH    sulphates      alcohol     type_red   type_white  \n",
              "count  6463.000000  6463.000000  6463.000000  6463.000000  6463.000000  \n",
              "mean      0.386304     0.174803     0.361279     0.246480     0.753520  \n",
              "std       0.124535     0.083659     0.172917     0.430995     0.430995  \n",
              "min       0.000000     0.000000     0.000000     0.000000     0.000000  \n",
              "25%       0.302326     0.117978     0.217391     0.000000     1.000000  \n",
              "50%       0.379845     0.162921     0.333333     0.000000     1.000000  \n",
              "75%       0.465116     0.213483     0.478261     0.000000     1.000000  \n",
              "max       1.000000     1.000000     1.000000     1.000000     1.000000  "
            ],
            "text/html": [
              "\n",
              "  <div id=\"df-03953fc0-666c-4f31-815f-4a64be871639\">\n",
              "    <div class=\"colab-df-container\">\n",
              "      <div>\n",
              "<style scoped>\n",
              "    .dataframe tbody tr th:only-of-type {\n",
              "        vertical-align: middle;\n",
              "    }\n",
              "\n",
              "    .dataframe tbody tr th {\n",
              "        vertical-align: top;\n",
              "    }\n",
              "\n",
              "    .dataframe thead th {\n",
              "        text-align: right;\n",
              "    }\n",
              "</style>\n",
              "<table border=\"1\" class=\"dataframe\">\n",
              "  <thead>\n",
              "    <tr style=\"text-align: right;\">\n",
              "      <th></th>\n",
              "      <th>fixed acidity</th>\n",
              "      <th>volatile acidity</th>\n",
              "      <th>citric acid</th>\n",
              "      <th>residual sugar</th>\n",
              "      <th>chlorides</th>\n",
              "      <th>free sulfur dioxide</th>\n",
              "      <th>total sulfur dioxide</th>\n",
              "      <th>density</th>\n",
              "      <th>pH</th>\n",
              "      <th>sulphates</th>\n",
              "      <th>alcohol</th>\n",
              "      <th>type_red</th>\n",
              "      <th>type_white</th>\n",
              "    </tr>\n",
              "  </thead>\n",
              "  <tbody>\n",
              "    <tr>\n",
              "      <th>count</th>\n",
              "      <td>6463.000000</td>\n",
              "      <td>6463.000000</td>\n",
              "      <td>6463.000000</td>\n",
              "      <td>6463.000000</td>\n",
              "      <td>6463.000000</td>\n",
              "      <td>6463.000000</td>\n",
              "      <td>6463.000000</td>\n",
              "      <td>6463.000000</td>\n",
              "      <td>6463.000000</td>\n",
              "      <td>6463.000000</td>\n",
              "      <td>6463.000000</td>\n",
              "      <td>6463.000000</td>\n",
              "      <td>6463.000000</td>\n",
              "    </tr>\n",
              "    <tr>\n",
              "      <th>mean</th>\n",
              "      <td>0.282459</td>\n",
              "      <td>0.173059</td>\n",
              "      <td>0.192023</td>\n",
              "      <td>0.074294</td>\n",
              "      <td>0.078166</td>\n",
              "      <td>0.102489</td>\n",
              "      <td>0.252752</td>\n",
              "      <td>0.146283</td>\n",
              "      <td>0.386304</td>\n",
              "      <td>0.174803</td>\n",
              "      <td>0.361279</td>\n",
              "      <td>0.246480</td>\n",
              "      <td>0.753520</td>\n",
              "    </tr>\n",
              "    <tr>\n",
              "      <th>std</th>\n",
              "      <td>0.107266</td>\n",
              "      <td>0.109759</td>\n",
              "      <td>0.087501</td>\n",
              "      <td>0.072958</td>\n",
              "      <td>0.058265</td>\n",
              "      <td>0.061663</td>\n",
              "      <td>0.130246</td>\n",
              "      <td>0.057865</td>\n",
              "      <td>0.124535</td>\n",
              "      <td>0.083659</td>\n",
              "      <td>0.172917</td>\n",
              "      <td>0.430995</td>\n",
              "      <td>0.430995</td>\n",
              "    </tr>\n",
              "    <tr>\n",
              "      <th>min</th>\n",
              "      <td>0.000000</td>\n",
              "      <td>0.000000</td>\n",
              "      <td>0.000000</td>\n",
              "      <td>0.000000</td>\n",
              "      <td>0.000000</td>\n",
              "      <td>0.000000</td>\n",
              "      <td>0.000000</td>\n",
              "      <td>0.000000</td>\n",
              "      <td>0.000000</td>\n",
              "      <td>0.000000</td>\n",
              "      <td>0.000000</td>\n",
              "      <td>0.000000</td>\n",
              "      <td>0.000000</td>\n",
              "    </tr>\n",
              "    <tr>\n",
              "      <th>25%</th>\n",
              "      <td>0.214876</td>\n",
              "      <td>0.100000</td>\n",
              "      <td>0.150602</td>\n",
              "      <td>0.018405</td>\n",
              "      <td>0.048173</td>\n",
              "      <td>0.055556</td>\n",
              "      <td>0.163594</td>\n",
              "      <td>0.100636</td>\n",
              "      <td>0.302326</td>\n",
              "      <td>0.117978</td>\n",
              "      <td>0.217391</td>\n",
              "      <td>0.000000</td>\n",
              "      <td>1.000000</td>\n",
              "    </tr>\n",
              "    <tr>\n",
              "      <th>50%</th>\n",
              "      <td>0.264463</td>\n",
              "      <td>0.140000</td>\n",
              "      <td>0.186747</td>\n",
              "      <td>0.036810</td>\n",
              "      <td>0.063123</td>\n",
              "      <td>0.097222</td>\n",
              "      <td>0.258065</td>\n",
              "      <td>0.149990</td>\n",
              "      <td>0.379845</td>\n",
              "      <td>0.162921</td>\n",
              "      <td>0.333333</td>\n",
              "      <td>0.000000</td>\n",
              "      <td>1.000000</td>\n",
              "    </tr>\n",
              "    <tr>\n",
              "      <th>75%</th>\n",
              "      <td>0.322314</td>\n",
              "      <td>0.213333</td>\n",
              "      <td>0.234940</td>\n",
              "      <td>0.115031</td>\n",
              "      <td>0.093023</td>\n",
              "      <td>0.138889</td>\n",
              "      <td>0.345622</td>\n",
              "      <td>0.190669</td>\n",
              "      <td>0.465116</td>\n",
              "      <td>0.213483</td>\n",
              "      <td>0.478261</td>\n",
              "      <td>0.000000</td>\n",
              "      <td>1.000000</td>\n",
              "    </tr>\n",
              "    <tr>\n",
              "      <th>max</th>\n",
              "      <td>1.000000</td>\n",
              "      <td>1.000000</td>\n",
              "      <td>1.000000</td>\n",
              "      <td>1.000000</td>\n",
              "      <td>1.000000</td>\n",
              "      <td>1.000000</td>\n",
              "      <td>1.000000</td>\n",
              "      <td>1.000000</td>\n",
              "      <td>1.000000</td>\n",
              "      <td>1.000000</td>\n",
              "      <td>1.000000</td>\n",
              "      <td>1.000000</td>\n",
              "      <td>1.000000</td>\n",
              "    </tr>\n",
              "  </tbody>\n",
              "</table>\n",
              "</div>\n",
              "      <button class=\"colab-df-convert\" onclick=\"convertToInteractive('df-03953fc0-666c-4f31-815f-4a64be871639')\"\n",
              "              title=\"Convert this dataframe to an interactive table.\"\n",
              "              style=\"display:none;\">\n",
              "        \n",
              "  <svg xmlns=\"http://www.w3.org/2000/svg\" height=\"24px\"viewBox=\"0 0 24 24\"\n",
              "       width=\"24px\">\n",
              "    <path d=\"M0 0h24v24H0V0z\" fill=\"none\"/>\n",
              "    <path d=\"M18.56 5.44l.94 2.06.94-2.06 2.06-.94-2.06-.94-.94-2.06-.94 2.06-2.06.94zm-11 1L8.5 8.5l.94-2.06 2.06-.94-2.06-.94L8.5 2.5l-.94 2.06-2.06.94zm10 10l.94 2.06.94-2.06 2.06-.94-2.06-.94-.94-2.06-.94 2.06-2.06.94z\"/><path d=\"M17.41 7.96l-1.37-1.37c-.4-.4-.92-.59-1.43-.59-.52 0-1.04.2-1.43.59L10.3 9.45l-7.72 7.72c-.78.78-.78 2.05 0 2.83L4 21.41c.39.39.9.59 1.41.59.51 0 1.02-.2 1.41-.59l7.78-7.78 2.81-2.81c.8-.78.8-2.07 0-2.86zM5.41 20L4 18.59l7.72-7.72 1.47 1.35L5.41 20z\"/>\n",
              "  </svg>\n",
              "      </button>\n",
              "      \n",
              "  <style>\n",
              "    .colab-df-container {\n",
              "      display:flex;\n",
              "      flex-wrap:wrap;\n",
              "      gap: 12px;\n",
              "    }\n",
              "\n",
              "    .colab-df-convert {\n",
              "      background-color: #E8F0FE;\n",
              "      border: none;\n",
              "      border-radius: 50%;\n",
              "      cursor: pointer;\n",
              "      display: none;\n",
              "      fill: #1967D2;\n",
              "      height: 32px;\n",
              "      padding: 0 0 0 0;\n",
              "      width: 32px;\n",
              "    }\n",
              "\n",
              "    .colab-df-convert:hover {\n",
              "      background-color: #E2EBFA;\n",
              "      box-shadow: 0px 1px 2px rgba(60, 64, 67, 0.3), 0px 1px 3px 1px rgba(60, 64, 67, 0.15);\n",
              "      fill: #174EA6;\n",
              "    }\n",
              "\n",
              "    [theme=dark] .colab-df-convert {\n",
              "      background-color: #3B4455;\n",
              "      fill: #D2E3FC;\n",
              "    }\n",
              "\n",
              "    [theme=dark] .colab-df-convert:hover {\n",
              "      background-color: #434B5C;\n",
              "      box-shadow: 0px 1px 3px 1px rgba(0, 0, 0, 0.15);\n",
              "      filter: drop-shadow(0px 1px 2px rgba(0, 0, 0, 0.3));\n",
              "      fill: #FFFFFF;\n",
              "    }\n",
              "  </style>\n",
              "\n",
              "      <script>\n",
              "        const buttonEl =\n",
              "          document.querySelector('#df-03953fc0-666c-4f31-815f-4a64be871639 button.colab-df-convert');\n",
              "        buttonEl.style.display =\n",
              "          google.colab.kernel.accessAllowed ? 'block' : 'none';\n",
              "\n",
              "        async function convertToInteractive(key) {\n",
              "          const element = document.querySelector('#df-03953fc0-666c-4f31-815f-4a64be871639');\n",
              "          const dataTable =\n",
              "            await google.colab.kernel.invokeFunction('convertToInteractive',\n",
              "                                                     [key], {});\n",
              "          if (!dataTable) return;\n",
              "\n",
              "          const docLinkHtml = 'Like what you see? Visit the ' +\n",
              "            '<a target=\"_blank\" href=https://colab.research.google.com/notebooks/data_table.ipynb>data table notebook</a>'\n",
              "            + ' to learn more about interactive tables.';\n",
              "          element.innerHTML = '';\n",
              "          dataTable['output_type'] = 'display_data';\n",
              "          await google.colab.output.renderOutput(dataTable, element);\n",
              "          const docLink = document.createElement('div');\n",
              "          docLink.innerHTML = docLinkHtml;\n",
              "          element.appendChild(docLink);\n",
              "        }\n",
              "      </script>\n",
              "    </div>\n",
              "  </div>\n",
              "  "
            ]
          },
          "metadata": {},
          "execution_count": 13
        }
      ]
    },
    {
      "cell_type": "code",
      "source": [
        "print(X_norm.shape)"
      ],
      "metadata": {
        "colab": {
          "base_uri": "https://localhost:8080/"
        },
        "id": "2k3kurtVOrDW",
        "outputId": "bd734e71-2dcf-473c-b495-df0af55cf0fe"
      },
      "execution_count": 14,
      "outputs": [
        {
          "output_type": "stream",
          "name": "stdout",
          "text": [
            "(6463, 13)\n"
          ]
        }
      ]
    },
    {
      "cell_type": "code",
      "source": [
        "n = X_norm.shape[0]\n",
        "idx = np.random.permutation(np.arange(0, n))\n",
        "train_idx = idx[0:int(0.85*n)]\n",
        "valid_idx = idx[int(0.85 * n):]\n",
        "print(len(train_idx))\n",
        "print(len(valid_idx))"
      ],
      "metadata": {
        "colab": {
          "base_uri": "https://localhost:8080/"
        },
        "id": "P9zVEvVJPP0O",
        "outputId": "bf5fd43b-5b0d-48d3-b40b-27cf166478a6"
      },
      "execution_count": 15,
      "outputs": [
        {
          "output_type": "stream",
          "name": "stdout",
          "text": [
            "5493\n",
            "970\n"
          ]
        }
      ]
    },
    {
      "cell_type": "code",
      "source": [
        "y_ = y.to_numpy()"
      ],
      "metadata": {
        "id": "f3WyqQkbRaRj"
      },
      "execution_count": 16,
      "outputs": []
    },
    {
      "cell_type": "code",
      "source": [
        "X_norm_ = X_norm.to_numpy()\n",
        "X_train = X_norm_[train_idx,:]\n",
        "y_train = y_[train_idx]\n",
        "X_valid = X_norm_[valid_idx,:]\n",
        "y_valid = y_[valid_idx]\n",
        "\n",
        "print(X_train.shape)\n",
        "print(y_train.shape)\n",
        "print(X_valid.shape)\n",
        "print(y_valid.shape)"
      ],
      "metadata": {
        "colab": {
          "base_uri": "https://localhost:8080/"
        },
        "id": "XS0StzrCPwzM",
        "outputId": "c63b56cb-c9f7-4ce9-d239-3e2e85a60e1b"
      },
      "execution_count": 17,
      "outputs": [
        {
          "output_type": "stream",
          "name": "stdout",
          "text": [
            "(5493, 13)\n",
            "(5493,)\n",
            "(970, 13)\n",
            "(970,)\n"
          ]
        }
      ]
    },
    {
      "cell_type": "markdown",
      "source": [
        "## NNet sin embeddings"
      ],
      "metadata": {
        "id": "6O3w_q2jRLTT"
      }
    },
    {
      "cell_type": "code",
      "source": [
        "import torch\n",
        "from torch.utils.data import Dataset, DataLoader\n",
        "from sklearn import metrics"
      ],
      "metadata": {
        "id": "9VpF6uvoRM2R"
      },
      "execution_count": 25,
      "outputs": []
    },
    {
      "cell_type": "code",
      "source": [
        "class MyDataset(Dataset):\n",
        "\n",
        "    def __init__(self, X, y):\n",
        "      super().__init__()\n",
        "      self.X = X\n",
        "      self.y = y\n",
        "\n",
        "    def __len__(self):\n",
        "      return self.X.shape[0]\n",
        "\n",
        "    def __getitem__(self, idx):\n",
        "      return self.X[idx], self.y[idx]"
      ],
      "metadata": {
        "id": "ho5gT2KfRgyE"
      },
      "execution_count": 26,
      "outputs": []
    },
    {
      "cell_type": "code",
      "source": [
        "train = MyDataset(X_train, y_train)"
      ],
      "metadata": {
        "id": "XD0K0dOySLnT"
      },
      "execution_count": 27,
      "outputs": []
    },
    {
      "cell_type": "code",
      "source": [
        "len(train)"
      ],
      "metadata": {
        "colab": {
          "base_uri": "https://localhost:8080/"
        },
        "id": "RQ60XBreSduT",
        "outputId": "68d38ede-e530-47c7-ffb9-725fdbbf0983"
      },
      "execution_count": 28,
      "outputs": [
        {
          "output_type": "execute_result",
          "data": {
            "text/plain": [
              "5493"
            ]
          },
          "metadata": {},
          "execution_count": 28
        }
      ]
    },
    {
      "cell_type": "code",
      "source": [
        "X0, y0 = train[0]"
      ],
      "metadata": {
        "id": "99tLMAloSebE"
      },
      "execution_count": 29,
      "outputs": []
    },
    {
      "cell_type": "code",
      "source": [
        "X0.shape"
      ],
      "metadata": {
        "colab": {
          "base_uri": "https://localhost:8080/"
        },
        "id": "4eWJ33dRShgD",
        "outputId": "adb0de67-46c6-4925-c6f6-e5a0769ac326"
      },
      "execution_count": 30,
      "outputs": [
        {
          "output_type": "execute_result",
          "data": {
            "text/plain": [
              "(13,)"
            ]
          },
          "metadata": {},
          "execution_count": 30
        }
      ]
    },
    {
      "cell_type": "code",
      "source": [
        "X_train.shape"
      ],
      "metadata": {
        "colab": {
          "base_uri": "https://localhost:8080/"
        },
        "id": "0p3uVAWJSi4w",
        "outputId": "471a57dc-7a33-4563-b3bd-98a6f31fbd90"
      },
      "execution_count": 31,
      "outputs": [
        {
          "output_type": "execute_result",
          "data": {
            "text/plain": [
              "(5493, 13)"
            ]
          },
          "metadata": {},
          "execution_count": 31
        }
      ]
    },
    {
      "cell_type": "code",
      "source": [
        "y0"
      ],
      "metadata": {
        "colab": {
          "base_uri": "https://localhost:8080/"
        },
        "id": "2G_to3aJSnTD",
        "outputId": "e8a0abfa-38ab-49e7-fd80-22f5280b13b6"
      },
      "execution_count": 32,
      "outputs": [
        {
          "output_type": "execute_result",
          "data": {
            "text/plain": [
              "0"
            ]
          },
          "metadata": {},
          "execution_count": 32
        }
      ]
    },
    {
      "cell_type": "code",
      "source": [
        "valid = MyDataset(X_valid, y_valid)"
      ],
      "metadata": {
        "id": "C8grlYYrSsFr"
      },
      "execution_count": 33,
      "outputs": []
    },
    {
      "cell_type": "code",
      "source": [
        "len(valid)"
      ],
      "metadata": {
        "colab": {
          "base_uri": "https://localhost:8080/"
        },
        "id": "EqO1SVCASvqI",
        "outputId": "db183a27-8458-4356-a037-2f65536fdc9f"
      },
      "execution_count": 34,
      "outputs": [
        {
          "output_type": "execute_result",
          "data": {
            "text/plain": [
              "970"
            ]
          },
          "metadata": {},
          "execution_count": 34
        }
      ]
    },
    {
      "cell_type": "code",
      "source": [
        "train_dataloader = DataLoader(train, batch_size=64, shuffle=True)\n",
        "valid_dataloder = DataLoader(valid, batch_size=64, shuffle=True)"
      ],
      "metadata": {
        "id": "VI6T9pXFSweX"
      },
      "execution_count": 35,
      "outputs": []
    },
    {
      "cell_type": "code",
      "source": [
        "batch_1 = next(iter(train_dataloader))"
      ],
      "metadata": {
        "id": "nGEGXn_WUE_n"
      },
      "execution_count": 36,
      "outputs": []
    },
    {
      "cell_type": "code",
      "source": [
        "type(batch_1)"
      ],
      "metadata": {
        "colab": {
          "base_uri": "https://localhost:8080/"
        },
        "id": "LO6bv2pOUXQ3",
        "outputId": "7bf81b8f-0241-4d77-ffd1-bd4b7e42d2e0"
      },
      "execution_count": 37,
      "outputs": [
        {
          "output_type": "execute_result",
          "data": {
            "text/plain": [
              "list"
            ]
          },
          "metadata": {},
          "execution_count": 37
        }
      ]
    },
    {
      "cell_type": "code",
      "source": [
        "len(batch_1)"
      ],
      "metadata": {
        "colab": {
          "base_uri": "https://localhost:8080/"
        },
        "id": "sSTazWW-UYTo",
        "outputId": "2b728b30-21b9-4735-e8c9-837210838281"
      },
      "execution_count": 38,
      "outputs": [
        {
          "output_type": "execute_result",
          "data": {
            "text/plain": [
              "2"
            ]
          },
          "metadata": {},
          "execution_count": 38
        }
      ]
    },
    {
      "cell_type": "code",
      "source": [
        "type(batch_1[0])"
      ],
      "metadata": {
        "colab": {
          "base_uri": "https://localhost:8080/"
        },
        "id": "-RXEVDhAUZ4p",
        "outputId": "a700ac20-89ad-4b53-95d4-0a51d6384ccd"
      },
      "execution_count": 39,
      "outputs": [
        {
          "output_type": "execute_result",
          "data": {
            "text/plain": [
              "torch.Tensor"
            ]
          },
          "metadata": {},
          "execution_count": 39
        }
      ]
    },
    {
      "cell_type": "code",
      "source": [
        "print(batch_1[0].shape)  # 64 filas de X_train (dataset entrenamiento)"
      ],
      "metadata": {
        "colab": {
          "base_uri": "https://localhost:8080/"
        },
        "id": "yJiNIggNUcv6",
        "outputId": "dd0412e5-e224-4f9a-a3ba-7ee0bcd61c6e"
      },
      "execution_count": 40,
      "outputs": [
        {
          "output_type": "stream",
          "name": "stdout",
          "text": [
            "torch.Size([64, 13])\n"
          ]
        }
      ]
    },
    {
      "cell_type": "code",
      "source": [
        "print(batch_1[1].shape)  # 64 filas de y_train (label)"
      ],
      "metadata": {
        "colab": {
          "base_uri": "https://localhost:8080/"
        },
        "id": "N5ycTdMmUfSx",
        "outputId": "441196cd-1628-4b29-9bc2-3eb38461a38b"
      },
      "execution_count": 41,
      "outputs": [
        {
          "output_type": "stream",
          "name": "stdout",
          "text": [
            "torch.Size([64])\n"
          ]
        }
      ]
    },
    {
      "cell_type": "code",
      "source": [
        "class NNet(torch.nn.Module):\n",
        "\n",
        "  def __init__(self):\n",
        "    super().__init__()\n",
        "    self.linear_1 = torch.nn.Linear(in_features=13, out_features=100, bias=True)\n",
        "    self.relu_1 = torch.nn.ReLU()\n",
        "    self.linear_2 = torch.nn.Linear(in_features=100, out_features=50, bias=True)\n",
        "    self.relu_2 = torch.nn.ReLU()\n",
        "    self.output = torch.nn.Linear(in_features=50, out_features=1, bias=True)\n",
        "\n",
        "  \n",
        "  def forward(self, x): # x.shape -> 64x13\n",
        "    x = self.linear_1(x) # 64x100\n",
        "    x = self.relu_1(x) # 64x100\n",
        "    x = self.linear_2(x) # 64x50\n",
        "    x = self.relu_2(x) # 64x50\n",
        "    x = self.output(x) # 64x1\n",
        "    return x"
      ],
      "metadata": {
        "id": "X7ICfva9Ut_4"
      },
      "execution_count": 42,
      "outputs": []
    },
    {
      "cell_type": "code",
      "source": [
        "nnet = NNet()"
      ],
      "metadata": {
        "id": "F6hi85kfWJV4"
      },
      "execution_count": 43,
      "outputs": []
    },
    {
      "cell_type": "code",
      "source": [
        "x_batch = next(iter(train_dataloader))[0]\n",
        "x_batch = x_batch.float()\n",
        "y_batch = nnet(x_batch)"
      ],
      "metadata": {
        "id": "gl6fyVDjaJ__"
      },
      "execution_count": 44,
      "outputs": []
    },
    {
      "cell_type": "code",
      "source": [
        "optimizer = torch.optim.Adam(nnet.parameters(), lr=0.001)\n",
        "loss_function = torch.nn.BCEWithLogitsLoss(reduction=\"sum\")"
      ],
      "metadata": {
        "id": "MPH9PHHlbnRy"
      },
      "execution_count": 45,
      "outputs": []
    },
    {
      "cell_type": "code",
      "source": [
        "device = \"\"\n",
        "if torch.cuda.is_available():\n",
        "  device = \"cuda:0\"\n",
        "else:\n",
        "  device = \"cpu\""
      ],
      "metadata": {
        "id": "qgM-MTc5b2am"
      },
      "execution_count": 46,
      "outputs": []
    },
    {
      "cell_type": "code",
      "source": [
        "print(device)"
      ],
      "metadata": {
        "colab": {
          "base_uri": "https://localhost:8080/"
        },
        "id": "4ymMjfhccAlf",
        "outputId": "7c902f5f-2354-46de-cb2f-0f754c8061ca"
      },
      "execution_count": 47,
      "outputs": [
        {
          "output_type": "stream",
          "name": "stdout",
          "text": [
            "cuda:0\n"
          ]
        }
      ]
    },
    {
      "cell_type": "code",
      "source": [
        "nnet.to(device)\n",
        "\n",
        "loss_list = []\n",
        "train_auc = []\n",
        "\n",
        "for epoch in range(100):\n",
        "\n",
        "  running_loss = 0\n",
        "  running_y_hat = []\n",
        "  running_y_label = []\n",
        "  running_y_score = []\n",
        "\n",
        "  for i, data in enumerate(train_dataloader):\n",
        "    X_batch, y_batch = data # datos del batch\n",
        "    X_batch = X_batch.to(device).float()\n",
        "    Y_batch = y_batch.to(device).float()\n",
        "\n",
        "    # forward\n",
        "    optimizer.zero_grad()\n",
        "    y_batch_score = nnet(X_batch).reshape(-1)\n",
        "    y_batch_hat = torch.sigmoid(y_batch_score).reshape(-1)\n",
        "\n",
        "    # backprop\n",
        "    loss = loss_function(y_batch_score, Y_batch) # calcula el loss\n",
        "    loss.backward() # hacer los gradientes del loss\n",
        "\n",
        "    # actualizacion de parametros\n",
        "    optimizer.step()\n",
        "\n",
        "    # metrics\n",
        "    running_loss += loss.item()\n",
        "    running_y_score += list(y_batch_score.detach().cpu().numpy())\n",
        "    running_y_label += list(Y_batch.detach().cpu().numpy())\n",
        "\n",
        "  # metrics\n",
        "  print(f\"Epoch {epoch} | Training loss: {running_loss}\")\n",
        "  loss_list.append(running_loss)\n",
        "  fpr, tpr, _ = metrics.roc_curve(running_y_label, running_y_score)\n",
        "  train_auc.append(metrics.auc(fpr, tpr))"
      ],
      "metadata": {
        "colab": {
          "base_uri": "https://localhost:8080/"
        },
        "id": "h3ibQEG5cF8T",
        "outputId": "55cd98ed-eb95-479f-8315-ee608f5902fb"
      },
      "execution_count": 48,
      "outputs": [
        {
          "output_type": "stream",
          "name": "stdout",
          "text": [
            "Epoch 0 | Training loss: 2863.554454803467\n",
            "Epoch 1 | Training loss: 2533.2337493896484\n",
            "Epoch 2 | Training loss: 2347.5042304992676\n",
            "Epoch 3 | Training loss: 2255.5998001098633\n",
            "Epoch 4 | Training loss: 2226.648561477661\n",
            "Epoch 5 | Training loss: 2187.053747177124\n",
            "Epoch 6 | Training loss: 2177.1876153945923\n",
            "Epoch 7 | Training loss: 2155.581606864929\n",
            "Epoch 8 | Training loss: 2161.871156692505\n",
            "Epoch 9 | Training loss: 2138.943347930908\n",
            "Epoch 10 | Training loss: 2137.8770141601562\n",
            "Epoch 11 | Training loss: 2128.637369155884\n",
            "Epoch 12 | Training loss: 2123.5082244873047\n",
            "Epoch 13 | Training loss: 2121.8885202407837\n",
            "Epoch 14 | Training loss: 2114.2859840393066\n",
            "Epoch 15 | Training loss: 2102.8714542388916\n",
            "Epoch 16 | Training loss: 2086.716417312622\n",
            "Epoch 17 | Training loss: 2085.4828157424927\n",
            "Epoch 18 | Training loss: 2079.690860748291\n",
            "Epoch 19 | Training loss: 2072.7680988311768\n",
            "Epoch 20 | Training loss: 2063.6528749465942\n",
            "Epoch 21 | Training loss: 2053.983709335327\n",
            "Epoch 22 | Training loss: 2071.0753030776978\n",
            "Epoch 23 | Training loss: 2038.5174388885498\n",
            "Epoch 24 | Training loss: 2037.5689134597778\n",
            "Epoch 25 | Training loss: 2030.812518119812\n",
            "Epoch 26 | Training loss: 2034.6499309539795\n",
            "Epoch 27 | Training loss: 2016.8346166610718\n",
            "Epoch 28 | Training loss: 2011.095350265503\n",
            "Epoch 29 | Training loss: 1990.443902015686\n",
            "Epoch 30 | Training loss: 1992.2806386947632\n",
            "Epoch 31 | Training loss: 1981.0543594360352\n",
            "Epoch 32 | Training loss: 1972.4960222244263\n",
            "Epoch 33 | Training loss: 1970.3915100097656\n",
            "Epoch 34 | Training loss: 1969.359709739685\n",
            "Epoch 35 | Training loss: 1962.4212808609009\n",
            "Epoch 36 | Training loss: 1951.007731437683\n",
            "Epoch 37 | Training loss: 1963.482265472412\n",
            "Epoch 38 | Training loss: 1946.2594652175903\n",
            "Epoch 39 | Training loss: 1944.1585693359375\n",
            "Epoch 40 | Training loss: 1937.601863861084\n",
            "Epoch 41 | Training loss: 1938.3925580978394\n",
            "Epoch 42 | Training loss: 1935.8261766433716\n",
            "Epoch 43 | Training loss: 1923.201057434082\n",
            "Epoch 44 | Training loss: 1920.868272781372\n",
            "Epoch 45 | Training loss: 1927.074725151062\n",
            "Epoch 46 | Training loss: 1906.8990087509155\n",
            "Epoch 47 | Training loss: 1908.52179813385\n",
            "Epoch 48 | Training loss: 1919.529372215271\n",
            "Epoch 49 | Training loss: 1909.1398544311523\n",
            "Epoch 50 | Training loss: 1898.810401916504\n",
            "Epoch 51 | Training loss: 1910.9608936309814\n",
            "Epoch 52 | Training loss: 1905.3923263549805\n",
            "Epoch 53 | Training loss: 1903.8700323104858\n",
            "Epoch 54 | Training loss: 1886.996467590332\n",
            "Epoch 55 | Training loss: 1908.4946842193604\n",
            "Epoch 56 | Training loss: 1881.5338249206543\n",
            "Epoch 57 | Training loss: 1880.7372016906738\n",
            "Epoch 58 | Training loss: 1879.584955215454\n",
            "Epoch 59 | Training loss: 1874.334532737732\n",
            "Epoch 60 | Training loss: 1879.335428237915\n",
            "Epoch 61 | Training loss: 1871.9758987426758\n",
            "Epoch 62 | Training loss: 1864.9496803283691\n",
            "Epoch 63 | Training loss: 1869.6351432800293\n",
            "Epoch 64 | Training loss: 1878.4851474761963\n",
            "Epoch 65 | Training loss: 1870.1833152770996\n",
            "Epoch 66 | Training loss: 1859.8014240264893\n",
            "Epoch 67 | Training loss: 1857.5420560836792\n",
            "Epoch 68 | Training loss: 1845.5658512115479\n",
            "Epoch 69 | Training loss: 1848.9973106384277\n",
            "Epoch 70 | Training loss: 1863.7654294967651\n",
            "Epoch 71 | Training loss: 1855.4083213806152\n",
            "Epoch 72 | Training loss: 1850.2801809310913\n",
            "Epoch 73 | Training loss: 1845.9109334945679\n",
            "Epoch 74 | Training loss: 1844.993245124817\n",
            "Epoch 75 | Training loss: 1847.5001745224\n",
            "Epoch 76 | Training loss: 1844.8356981277466\n",
            "Epoch 77 | Training loss: 1834.3011798858643\n",
            "Epoch 78 | Training loss: 1854.0708656311035\n",
            "Epoch 79 | Training loss: 1834.3221607208252\n",
            "Epoch 80 | Training loss: 1839.1105012893677\n",
            "Epoch 81 | Training loss: 1840.0383644104004\n",
            "Epoch 82 | Training loss: 1863.2446241378784\n",
            "Epoch 83 | Training loss: 1841.654772758484\n",
            "Epoch 84 | Training loss: 1832.7740964889526\n",
            "Epoch 85 | Training loss: 1827.4210290908813\n",
            "Epoch 86 | Training loss: 1847.1886730194092\n",
            "Epoch 87 | Training loss: 1832.6038131713867\n",
            "Epoch 88 | Training loss: 1825.3369512557983\n",
            "Epoch 89 | Training loss: 1824.6483182907104\n",
            "Epoch 90 | Training loss: 1832.3571786880493\n",
            "Epoch 91 | Training loss: 1833.1909160614014\n",
            "Epoch 92 | Training loss: 1823.1173448562622\n",
            "Epoch 93 | Training loss: 1830.0502490997314\n",
            "Epoch 94 | Training loss: 1816.3025455474854\n",
            "Epoch 95 | Training loss: 1818.232840538025\n",
            "Epoch 96 | Training loss: 1815.9400415420532\n",
            "Epoch 97 | Training loss: 1803.7648458480835\n",
            "Epoch 98 | Training loss: 1816.5444402694702\n",
            "Epoch 99 | Training loss: 1811.4995784759521\n"
          ]
        }
      ]
    },
    {
      "cell_type": "code",
      "source": [
        "fig, ax1 = plt.subplots(1,1)\n",
        "x = range(0, len(loss_list))\n",
        "ax1.plot(x, loss_list)"
      ],
      "metadata": {
        "colab": {
          "base_uri": "https://localhost:8080/",
          "height": 282
        },
        "id": "KqqpoDhXfsxU",
        "outputId": "d0e3492c-9144-45c4-91a8-33fac4bef07f"
      },
      "execution_count": 49,
      "outputs": [
        {
          "output_type": "execute_result",
          "data": {
            "text/plain": [
              "[<matplotlib.lines.Line2D at 0x7fa2442d2c90>]"
            ]
          },
          "metadata": {},
          "execution_count": 49
        },
        {
          "output_type": "display_data",
          "data": {
            "text/plain": [
              "<Figure size 432x288 with 1 Axes>"
            ],
            "image/png": "[encoded data removed]"
          },
          "metadata": {
            "needs_background": "light"
          }
        }
      ]
    },
    {
      "cell_type": "code",
      "source": [
        "fig, ax1 = plt.subplots(1,1)\n",
        "x = range(0, len(train_auc))\n",
        "ax1.plot(x, train_auc)"
      ],
      "metadata": {
        "colab": {
          "base_uri": "https://localhost:8080/",
          "height": 282
        },
        "id": "5_SG8nwgg0II",
        "outputId": "32e0e5e2-092f-4884-f16d-5eae41d461a6"
      },
      "execution_count": 50,
      "outputs": [
        {
          "output_type": "execute_result",
          "data": {
            "text/plain": [
              "[<matplotlib.lines.Line2D at 0x7fa244280e50>]"
            ]
          },
          "metadata": {},
          "execution_count": 50
        },
        {
          "output_type": "display_data",
          "data": {
            "text/plain": [
              "<Figure size 432x288 with 1 Axes>"
            ],
            "image/png": "[encoded data removed]"
          },
          "metadata": {
            "needs_background": "light"
          }
        }
      ]
    },
    {
      "cell_type": "markdown",
      "source": [
        "## NNet with embeddings"
      ],
      "metadata": {
        "id": "NkO7z0hqYi7Q"
      }
    },
    {
      "cell_type": "code",
      "source": [
        "device = \"\"\n",
        "if torch.cuda.is_available():\n",
        "  device = \"cuda:0\"\n",
        "else:\n",
        "  device = \"cpu\""
      ],
      "metadata": {
        "id": "-sMag_nBWW2a"
      },
      "execution_count": 18,
      "outputs": []
    },
    {
      "cell_type": "code",
      "source": [
        "vendor_id = df[\"vendor_id\"]"
      ],
      "metadata": {
        "id": "y7ODhS9caeOR"
      },
      "execution_count": 19,
      "outputs": []
    },
    {
      "cell_type": "code",
      "source": [
        "unique = np.unique(vendor_id)\n",
        "index = np.arange(0, len(unique))\n",
        "vendor_id_to_index = {key: value for key, value in zip(unique, index)}"
      ],
      "metadata": {
        "id": "PKSZ8QQ0Z9OF"
      },
      "execution_count": 20,
      "outputs": []
    },
    {
      "cell_type": "code",
      "source": [
        "vendors_idx = np.array([vendor_id_to_index[vendor] for vendor in vendor_id])"
      ],
      "metadata": {
        "id": "tMXVeErWabmZ"
      },
      "execution_count": 21,
      "outputs": []
    },
    {
      "cell_type": "code",
      "source": [
        "print(max(vendors_idx))\n",
        "print(min(vendors_idx))"
      ],
      "metadata": {
        "colab": {
          "base_uri": "https://localhost:8080/"
        },
        "id": "s8QlpmXdalJ2",
        "outputId": "910ad99b-f3fe-4ca4-fff3-f04d936952ce"
      },
      "execution_count": 22,
      "outputs": [
        {
          "output_type": "stream",
          "name": "stdout",
          "text": [
            "499\n",
            "0\n"
          ]
        }
      ]
    },
    {
      "cell_type": "code",
      "source": [
        "class CustomDatasetWithEmb(Dataset):\n",
        "\n",
        "  def __init__(self, X, vendor_idx, y):\n",
        "    super().__init__()\n",
        "    self.X = X\n",
        "    self.vendors_idx = vendors_idx\n",
        "    self.y = y\n",
        "  \n",
        "  def __len__(self):\n",
        "    return self.X.shape[0]\n",
        "\n",
        "  def __getitem__(self, idx):\n",
        "      return self.X[idx], self.vendors_idx[idx], self.y[idx]"
      ],
      "metadata": {
        "id": "SGd7J6dyasdl"
      },
      "execution_count": 51,
      "outputs": []
    },
    {
      "cell_type": "code",
      "source": [
        "vendors_index_train = vendors_idx[train_idx]\n",
        "vendors_index_val = vendors_idx[valid_idx]\n",
        "train = CustomDatasetWithEmb(X_train, vendors_index_train, y_train)\n",
        "valid = CustomDatasetWithEmb(X_valid, vendors_index_val, y_valid)"
      ],
      "metadata": {
        "id": "O45RVHqca0nq"
      },
      "execution_count": 52,
      "outputs": []
    },
    {
      "cell_type": "code",
      "source": [
        "train_dataloader = DataLoader(train, batch_size=64, shuffle=True)\n",
        "valid_dataloader = DataLoader(valid, batch_size=64, shuffle=True)"
      ],
      "metadata": {
        "id": "tXtPxQqVbknO"
      },
      "execution_count": 53,
      "outputs": []
    },
    {
      "cell_type": "code",
      "source": [
        "class NNetWithEmbeddings(torch.nn.Module):\n",
        "\n",
        "  def __init__(self, number_of_vendors, d):\n",
        "    super().__init__()\n",
        "    self.embedding = torch.nn.Embedding(num_embeddings=number_of_vendors, embedding_dim=d)\n",
        "    self.linear_1 = torch.nn.Linear(in_features=(13+d), out_features=100, bias=True)\n",
        "    self.relu_1 = torch.nn.ReLU()\n",
        "    self.linear_2 = torch.nn.Linear(in_features=100, out_features=50, bias=True)\n",
        "    self.relu_2 = torch.nn.ReLU()\n",
        "    self.output = torch.nn.Linear(in_features=50, out_features=1, bias=True)\n",
        "\n",
        "  \n",
        "  def forward(self, x, vendor_idx):\n",
        "    vendor_emb = self.embedding(vendor_idx) # (64, d)\n",
        "\n",
        "    final_input = torch.cat([x, vendor_emb], dim=1) #. (64, 13+d)\n",
        "\n",
        "    x = self.linear_1(final_input) \n",
        "    x = self.relu_1(x) \n",
        "    x = self.linear_2(x)\n",
        "    x = self.relu_2(x)\n",
        "    x = self.output(x)\n",
        "    return x"
      ],
      "metadata": {
        "id": "JITCwAVMb1--"
      },
      "execution_count": 54,
      "outputs": []
    },
    {
      "cell_type": "code",
      "source": [
        "nnet2 = NNetWithEmbeddings(number_of_vendors=500, d=8)\n",
        "optimizer = torch.optim.Adam(nnet2.parameters(), lr=0.001)\n",
        "loss_function = torch.nn.BCEWithLogitsLoss(reduction=\"sum\")"
      ],
      "metadata": {
        "id": "6pnYIT8BdZKw"
      },
      "execution_count": 68,
      "outputs": []
    },
    {
      "cell_type": "code",
      "source": [
        "nnet = nnet2\n",
        "\n",
        "nnet.to(device)\n",
        "\n",
        "loss_list = []\n",
        "train_auc = []\n",
        "validation_loss_list = []\n",
        "validation_auc = []\n",
        "for epoch in range(100):\n",
        "\n",
        "    running_loss = 0\n",
        "    running_y_score = []\n",
        "    running_y_label = []\n",
        "\n",
        "    #### TRAINING ####\n",
        "    for i, data in enumerate(train_dataloader):\n",
        "\n",
        "        # datos del batch\n",
        "        X_batch, vendor_idx_batch, y_batch = data \n",
        "        X_batch = X_batch.to(device).float()\n",
        "        vendor_idx_batch = vendor_idx_batch.to(device)\n",
        "        Y_batch = y_batch.to(device).float()\n",
        "\n",
        "        # forward\n",
        "        optimizer.zero_grad()\n",
        "        y_batch_score = nnet(X_batch, vendor_idx_batch).reshape(-1)\n",
        "        y_batch_hat = torch.sigmoid(y_batch_score).reshape(-1)\n",
        "\n",
        "        # backpropagation\n",
        "        loss = loss_function(y_batch_score, Y_batch) # calcula el loss\n",
        "        loss.backward() # hacer los gradientes del loss\n",
        "\n",
        "        # actualización de parametros\n",
        "        optimizer.step() \n",
        "\n",
        "        running_loss += loss.item()\n",
        "        running_y_score += list(y_batch_score.detach().cpu().numpy())  \n",
        "        running_y_label += list(Y_batch.detach().cpu().numpy()) \n",
        "\n",
        "    # Metrics\n",
        "    loss_list.append(running_loss)\n",
        "    fpt, tpr, _ = metrics.roc_curve(running_y_label, running_y_score)\n",
        "    auc = metrics.auc(fpt, tpr)\n",
        "    train_auc.append(auc)\n",
        "    print(f\"Epoch {epoch} | Training loss: {running_loss} | AUC: {auc}\")\n",
        "\n",
        "    #### VALIDATION ####\n",
        "    nnet.eval()\n",
        "    with torch.no_grad():\n",
        "\n",
        "      running_validation_loss = 0\n",
        "      running_validation_y_score = []\n",
        "      running_validation_y_label = []\n",
        "\n",
        "      for i, data in enumerate(valid_dataloader): \n",
        "        # Datos del batch\n",
        "        X_validation_batch, vendor_idx_validation_batch, y_validation_batch = data\n",
        "        X_validation_batch = X_validation_batch.to(device).float()\n",
        "        vendor_idx_validation_batch = vendor_idx_validation_batch.to(device)\n",
        "        Y_validation_batch = y_validation_batch.to(device).float()\n",
        "\n",
        "        # Forward\n",
        "        y_validation_batch_score = nnet(X_validation_batch, vendor_idx_validation_batch).reshape(-1)\n",
        "        y_validation_batch_hat = torch.sigmoid(y_validation_batch_score).reshape(-1)\n",
        "\n",
        "        validation_loss = loss_function(y_validation_batch_score, Y_validation_batch) #  Calcula el loss\n",
        "\n",
        "        # Acumular validation loss\n",
        "        running_validation_loss += loss.item()\n",
        "\n",
        "        # Acumular metrics y_score and y\n",
        "        running_validation_y_score += list(y_validation_batch_score.detach().cpu().numpy())\n",
        "        running_validation_y_label += list(Y_validation_batch.detach().cpu().numpy())\n",
        "\n",
        "      \n",
        "      # Calcular las metricas (AUC)\n",
        "      validation_loss_list.append(running_validation_loss)\n",
        "      fpt_v, tpr_v, _ = metrics.roc_curve(running_validation_y_label, running_validation_y_score)\n",
        "      auc_v = metrics.auc(fpt_v, tpr_v)\n",
        "      validation_auc.append(auc_v)\n",
        "      print(f\"Epoch {epoch} | Validation loss: {running_validation_loss} | AUC: {auc_v}\")\n"
      ],
      "metadata": {
        "colab": {
          "base_uri": "https://localhost:8080/"
        },
        "id": "j-Dg1FiPeAdc",
        "outputId": "cc200f6a-b295-43cb-ca3f-3048171df181"
      },
      "execution_count": 69,
      "outputs": [
        {
          "output_type": "stream",
          "name": "stdout",
          "text": [
            "Epoch 0 | Training loss: 2844.103136062622 | AUC: 0.5154356577962192\n",
            "Epoch 0 | Validation loss: 355.5496826171875 | AUC: 0.6050570372750643\n",
            "Epoch 1 | Training loss: 2628.3460693359375 | AUC: 0.6374769931211375\n",
            "Epoch 1 | Validation loss: 429.4400634765625 | AUC: 0.6798682519280206\n",
            "Epoch 2 | Training loss: 2509.290853500366 | AUC: 0.7127068099521575\n",
            "Epoch 2 | Validation loss: 357.4423828125 | AUC: 0.7420469151670952\n",
            "Epoch 3 | Training loss: 2370.2718868255615 | AUC: 0.7615576103164883\n",
            "Epoch 3 | Validation loss: 343.80926513671875 | AUC: 0.7694074014567267\n",
            "Epoch 4 | Training loss: 2269.3487129211426 | AUC: 0.7834413881520295\n",
            "Epoch 4 | Validation loss: 242.9267578125 | AUC: 0.7848784275921166\n",
            "Epoch 5 | Training loss: 2204.308009147644 | AUC: 0.7975974162587403\n",
            "Epoch 5 | Validation loss: 168.7073516845703 | AUC: 0.7825889031705225\n",
            "Epoch 6 | Training loss: 2172.539333343506 | AUC: 0.8053843760248902\n",
            "Epoch 6 | Validation loss: 310.9739074707031 | AUC: 0.7893637532133677\n",
            "Epoch 7 | Training loss: 2137.4606857299805 | AUC: 0.813763436164231\n",
            "Epoch 7 | Validation loss: 263.63397216796875 | AUC: 0.7887813303341904\n",
            "Epoch 8 | Training loss: 2125.0806579589844 | AUC: 0.8164570729329084\n",
            "Epoch 8 | Validation loss: 430.4828796386719 | AUC: 0.7877637639245929\n",
            "Epoch 9 | Training loss: 2092.615828514099 | AUC: 0.8234896296349177\n",
            "Epoch 9 | Validation loss: 325.2809143066406 | AUC: 0.7871077013710369\n",
            "Epoch 10 | Training loss: 2078.6082458496094 | AUC: 0.8270308937818123\n",
            "Epoch 10 | Validation loss: 357.7259216308594 | AUC: 0.7871411739502999\n",
            "Epoch 11 | Training loss: 2051.338861465454 | AUC: 0.8324948044242076\n",
            "Epoch 11 | Validation loss: 318.812744140625 | AUC: 0.7891026670951157\n",
            "Epoch 12 | Training loss: 2036.1887226104736 | AUC: 0.8358930826299167\n",
            "Epoch 12 | Validation loss: 195.75881958007812 | AUC: 0.7874825942587831\n",
            "Epoch 13 | Training loss: 2026.442331314087 | AUC: 0.8375221985148779\n",
            "Epoch 13 | Validation loss: 282.93170166015625 | AUC: 0.7859629391602398\n",
            "Epoch 14 | Training loss: 2009.0175743103027 | AUC: 0.8410502348874779\n",
            "Epoch 14 | Validation loss: 204.0216064453125 | AUC: 0.785614824335904\n",
            "Epoch 15 | Training loss: 2000.2308511734009 | AUC: 0.8425911656104744\n",
            "Epoch 15 | Validation loss: 322.0137023925781 | AUC: 0.7874089545844044\n",
            "Epoch 16 | Training loss: 1968.394751548767 | AUC: 0.8489860596056107\n",
            "Epoch 16 | Validation loss: 329.1698303222656 | AUC: 0.7917068337617823\n",
            "Epoch 17 | Training loss: 1976.0198993682861 | AUC: 0.8474361004017463\n",
            "Epoch 17 | Validation loss: 320.70440673828125 | AUC: 0.7814441409597257\n",
            "Epoch 18 | Training loss: 1949.5563297271729 | AUC: 0.8525989217054338\n",
            "Epoch 18 | Validation loss: 316.68731689453125 | AUC: 0.7784918594687232\n",
            "Epoch 19 | Training loss: 1946.6976861953735 | AUC: 0.8526178185258549\n",
            "Epoch 19 | Validation loss: 318.16363525390625 | AUC: 0.7843763389031704\n",
            "Epoch 20 | Training loss: 1920.144826889038 | AUC: 0.8578734442142766\n",
            "Epoch 20 | Validation loss: 409.4420166015625 | AUC: 0.7864784168808912\n",
            "Epoch 21 | Training loss: 1921.0425252914429 | AUC: 0.8572059665240727\n",
            "Epoch 21 | Validation loss: 207.2720489501953 | AUC: 0.7829704905741217\n",
            "Epoch 22 | Training loss: 1898.6795654296875 | AUC: 0.8619944208187529\n",
            "Epoch 22 | Validation loss: 260.415771484375 | AUC: 0.7820935089974292\n",
            "Epoch 23 | Training loss: 1889.5257892608643 | AUC: 0.8633111092727537\n",
            "Epoch 23 | Validation loss: 227.11436462402344 | AUC: 0.7812232219365896\n",
            "Epoch 24 | Training loss: 1870.9173755645752 | AUC: 0.8661097283771033\n",
            "Epoch 24 | Validation loss: 375.572509765625 | AUC: 0.7696818766066837\n",
            "Epoch 25 | Training loss: 1878.6655435562134 | AUC: 0.8646909970928293\n",
            "Epoch 25 | Validation loss: 318.01708984375 | AUC: 0.7752450192802057\n",
            "Epoch 26 | Training loss: 1851.3942728042603 | AUC: 0.8695728856662577\n",
            "Epoch 26 | Validation loss: 322.65936279296875 | AUC: 0.7764098650385605\n",
            "Epoch 27 | Training loss: 1836.3982343673706 | AUC: 0.8724508714163755\n",
            "Epoch 27 | Validation loss: 273.4847717285156 | AUC: 0.7732567480719794\n",
            "Epoch 28 | Training loss: 1834.226079940796 | AUC: 0.8722626380885152\n",
            "Epoch 28 | Validation loss: 263.07177734375 | AUC: 0.7781839117395031\n",
            "Epoch 29 | Training loss: 1818.3436727523804 | AUC: 0.8752906435963085\n",
            "Epoch 29 | Validation loss: 215.75851440429688 | AUC: 0.7797303449014568\n",
            "Epoch 30 | Training loss: 1821.334979057312 | AUC: 0.8745433793309936\n",
            "Epoch 30 | Validation loss: 290.56768798828125 | AUC: 0.7753655205655527\n",
            "Epoch 31 | Training loss: 1798.5825271606445 | AUC: 0.878126426447486\n",
            "Epoch 31 | Validation loss: 293.31585693359375 | AUC: 0.779014031705227\n",
            "Epoch 32 | Training loss: 1798.2897052764893 | AUC: 0.8775404150497637\n",
            "Epoch 32 | Validation loss: 254.449462890625 | AUC: 0.776209029562982\n",
            "Epoch 33 | Training loss: 1773.3510427474976 | AUC: 0.8827613965674136\n",
            "Epoch 33 | Validation loss: 218.87503051757812 | AUC: 0.7717437874892887\n",
            "Epoch 34 | Training loss: 1757.9660682678223 | AUC: 0.8846246230609238\n",
            "Epoch 34 | Validation loss: 317.7264709472656 | AUC: 0.7657321122536418\n",
            "Epoch 35 | Training loss: 1751.3770217895508 | AUC: 0.8861023544178458\n",
            "Epoch 35 | Validation loss: 249.6582794189453 | AUC: 0.7688249785775494\n",
            "Epoch 36 | Training loss: 1747.7863273620605 | AUC: 0.8862138456583296\n",
            "Epoch 36 | Validation loss: 308.6510009765625 | AUC: 0.7620501285347043\n",
            "Epoch 37 | Training loss: 1742.9522666931152 | AUC: 0.8868416400256492\n",
            "Epoch 37 | Validation loss: 316.77862548828125 | AUC: 0.7700768530419879\n",
            "Epoch 38 | Training loss: 1732.3716926574707 | AUC: 0.8882686649144416\n",
            "Epoch 38 | Validation loss: 210.27481079101562 | AUC: 0.7723195158526135\n",
            "Epoch 39 | Training loss: 1718.351490020752 | AUC: 0.8910564708382166\n",
            "Epoch 39 | Validation loss: 300.4537658691406 | AUC: 0.7648618251928021\n",
            "Epoch 40 | Training loss: 1688.8662767410278 | AUC: 0.8953254725359913\n",
            "Epoch 40 | Validation loss: 368.4273376464844 | AUC: 0.7678542737789202\n",
            "Epoch 41 | Training loss: 1688.7426300048828 | AUC: 0.8951860559942185\n",
            "Epoch 41 | Validation loss: 247.99432373046875 | AUC: 0.7677940231362468\n",
            "Epoch 42 | Training loss: 1674.4584560394287 | AUC: 0.897788988024875\n",
            "Epoch 42 | Validation loss: 228.8596954345703 | AUC: 0.7674994644387318\n",
            "Epoch 43 | Training loss: 1663.188159942627 | AUC: 0.8986210780174129\n",
            "Epoch 43 | Validation loss: 321.26226806640625 | AUC: 0.7630877784918595\n",
            "Epoch 44 | Training loss: 1660.4993224143982 | AUC: 0.8989076797937979\n",
            "Epoch 44 | Validation loss: 254.05911254882812 | AUC: 0.7724467116538133\n",
            "Epoch 45 | Training loss: 1644.542326927185 | AUC: 0.9011973445348085\n",
            "Epoch 45 | Validation loss: 293.82598876953125 | AUC: 0.7663413131962297\n",
            "Epoch 46 | Training loss: 1641.9969186782837 | AUC: 0.9018394164997796\n",
            "Epoch 46 | Validation loss: 238.10302734375 | AUC: 0.7686576156812339\n",
            "Epoch 47 | Training loss: 1640.503565788269 | AUC: 0.9016179037715115\n",
            "Epoch 47 | Validation loss: 167.7562255859375 | AUC: 0.7699764353041989\n",
            "Epoch 48 | Training loss: 1615.7937936782837 | AUC: 0.9051873031843661\n",
            "Epoch 48 | Validation loss: 292.6865234375 | AUC: 0.7666626499571552\n",
            "Epoch 49 | Training loss: 1631.7608079910278 | AUC: 0.9026356025335176\n",
            "Epoch 49 | Validation loss: 274.96728515625 | AUC: 0.7618626820908312\n",
            "Epoch 50 | Training loss: 1601.3968076705933 | AUC: 0.9072558751264512\n",
            "Epoch 50 | Validation loss: 243.73709106445312 | AUC: 0.7668099293059126\n",
            "Epoch 51 | Training loss: 1598.9931001663208 | AUC: 0.9076608969774747\n",
            "Epoch 51 | Validation loss: 195.05636596679688 | AUC: 0.7602693873179092\n",
            "Epoch 52 | Training loss: 1572.4649124145508 | AUC: 0.9112703996425562\n",
            "Epoch 52 | Validation loss: 237.56887817382812 | AUC: 0.7631614181662382\n",
            "Epoch 53 | Training loss: 1580.931661605835 | AUC: 0.9097382874357561\n",
            "Epoch 53 | Validation loss: 220.63812255859375 | AUC: 0.7606041131105398\n",
            "Epoch 54 | Training loss: 1542.216386795044 | AUC: 0.9151720681478135\n",
            "Epoch 54 | Validation loss: 223.55422973632812 | AUC: 0.7572903277634961\n",
            "Epoch 55 | Training loss: 1541.8270816802979 | AUC: 0.914928194182047\n",
            "Epoch 55 | Validation loss: 164.8675537109375 | AUC: 0.756614181662382\n",
            "Epoch 56 | Training loss: 1550.9956045150757 | AUC: 0.9132434376591795\n",
            "Epoch 56 | Validation loss: 332.00030517578125 | AUC: 0.7562325942587832\n",
            "Epoch 57 | Training loss: 1539.2202920913696 | AUC: 0.9150583722782805\n",
            "Epoch 57 | Validation loss: 232.80538940429688 | AUC: 0.7595597686375323\n",
            "Epoch 58 | Training loss: 1506.438907623291 | AUC: 0.9195661038073734\n",
            "Epoch 58 | Validation loss: 170.59320068359375 | AUC: 0.7558777849185948\n",
            "Epoch 59 | Training loss: 1505.3212976455688 | AUC: 0.9193930929181856\n",
            "Epoch 59 | Validation loss: 140.760986328125 | AUC: 0.7567748500428447\n",
            "Epoch 60 | Training loss: 1490.1179552078247 | AUC: 0.9216216579398352\n",
            "Epoch 60 | Validation loss: 209.55088806152344 | AUC: 0.7560518423307626\n",
            "Epoch 61 | Training loss: 1487.9769687652588 | AUC: 0.9216720494609577\n",
            "Epoch 61 | Validation loss: 273.2533874511719 | AUC: 0.7600016066838047\n",
            "Epoch 62 | Training loss: 1485.4456005096436 | AUC: 0.9219743985876937\n",
            "Epoch 62 | Validation loss: 286.7827453613281 | AUC: 0.7534878427592118\n",
            "Epoch 63 | Training loss: 1483.7040061950684 | AUC: 0.9215968821086165\n",
            "Epoch 63 | Validation loss: 160.31980895996094 | AUC: 0.7572903277634963\n",
            "Epoch 64 | Training loss: 1459.6854181289673 | AUC: 0.9247002649334222\n",
            "Epoch 64 | Validation loss: 282.05078125 | AUC: 0.7499263603256212\n",
            "Epoch 65 | Training loss: 1451.1111154556274 | AUC: 0.9259675067073214\n",
            "Epoch 65 | Validation loss: 211.56802368164062 | AUC: 0.7523296915167094\n",
            "Epoch 66 | Training loss: 1445.60546875 | AUC: 0.9267120414319087\n",
            "Epoch 66 | Validation loss: 171.26165771484375 | AUC: 0.7547798843187661\n",
            "Epoch 67 | Training loss: 1430.664439201355 | AUC: 0.9285761077841043\n",
            "Epoch 67 | Validation loss: 220.3818359375 | AUC: 0.7473757497857755\n",
            "Epoch 68 | Training loss: 1421.903651714325 | AUC: 0.9291058486499061\n",
            "Epoch 68 | Validation loss: 275.83154296875 | AUC: 0.7496786632390745\n",
            "Epoch 69 | Training loss: 1418.4452295303345 | AUC: 0.9294590092271076\n",
            "Epoch 69 | Validation loss: 192.3223876953125 | AUC: 0.7573171058269067\n",
            "Epoch 70 | Training loss: 1411.074893951416 | AUC: 0.930294458654387\n",
            "Epoch 70 | Validation loss: 157.7147979736328 | AUC: 0.7517405741216795\n",
            "Epoch 71 | Training loss: 1396.9511728286743 | AUC: 0.9318509267630628\n",
            "Epoch 71 | Validation loss: 113.47747802734375 | AUC: 0.7488150706940873\n",
            "Epoch 72 | Training loss: 1398.5671920776367 | AUC: 0.9312831822917477\n",
            "Epoch 72 | Validation loss: 202.69113159179688 | AUC: 0.7462845437017995\n",
            "Epoch 73 | Training loss: 1373.6109638214111 | AUC: 0.9346174212726966\n",
            "Epoch 73 | Validation loss: 216.45547485351562 | AUC: 0.7460301520994002\n",
            "Epoch 74 | Training loss: 1378.8813934326172 | AUC: 0.9339522531938776\n",
            "Epoch 74 | Validation loss: 379.53240966796875 | AUC: 0.7469473007712082\n",
            "Epoch 75 | Training loss: 1345.5508890151978 | AUC: 0.9377805390465\n",
            "Epoch 75 | Validation loss: 232.25985717773438 | AUC: 0.7533472579263067\n",
            "Epoch 76 | Training loss: 1358.7307214736938 | AUC: 0.936135675811188\n",
            "Epoch 76 | Validation loss: 189.474853515625 | AUC: 0.7463715724078834\n",
            "Epoch 77 | Training loss: 1346.1866645812988 | AUC: 0.9374660119688261\n",
            "Epoch 77 | Validation loss: 258.5022277832031 | AUC: 0.7528987253641818\n",
            "Epoch 78 | Training loss: 1329.27889919281 | AUC: 0.9391663058773732\n",
            "Epoch 78 | Validation loss: 217.31869506835938 | AUC: 0.7450259747215082\n",
            "Epoch 79 | Training loss: 1326.7169752120972 | AUC: 0.9397852817284964\n",
            "Epoch 79 | Validation loss: 141.5319366455078 | AUC: 0.7442360218508997\n",
            "Epoch 80 | Training loss: 1333.134355545044 | AUC: 0.9383050307955183\n",
            "Epoch 80 | Validation loss: 177.82757568359375 | AUC: 0.7487815981148243\n",
            "Epoch 81 | Training loss: 1309.6006798744202 | AUC: 0.9411059595112525\n",
            "Epoch 81 | Validation loss: 108.95781707763672 | AUC: 0.7387063517566409\n",
            "Epoch 82 | Training loss: 1295.0958242416382 | AUC: 0.9427447337710958\n",
            "Epoch 82 | Validation loss: 189.9432373046875 | AUC: 0.746103791773779\n",
            "Epoch 83 | Training loss: 1284.454924583435 | AUC: 0.9438092546548117\n",
            "Epoch 83 | Validation loss: 219.16297912597656 | AUC: 0.750033472579263\n",
            "Epoch 84 | Training loss: 1267.683832168579 | AUC: 0.9451146050165599\n",
            "Epoch 84 | Validation loss: 209.56283569335938 | AUC: 0.7418126071122536\n",
            "Epoch 85 | Training loss: 1259.0519437789917 | AUC: 0.9462563928993307\n",
            "Epoch 85 | Validation loss: 160.8101348876953 | AUC: 0.740614288774636\n",
            "Epoch 86 | Training loss: 1266.8037185668945 | AUC: 0.9451036868536499\n",
            "Epoch 86 | Validation loss: 223.13272094726562 | AUC: 0.7416720222793487\n",
            "Epoch 87 | Training loss: 1254.062355518341 | AUC: 0.946441161810114\n",
            "Epoch 87 | Validation loss: 115.6360092163086 | AUC: 0.7425891709511567\n",
            "Epoch 88 | Training loss: 1253.6001658439636 | AUC: 0.9465366957355755\n",
            "Epoch 88 | Validation loss: 217.94393920898438 | AUC: 0.7368988324764354\n",
            "Epoch 89 | Training loss: 1234.21311378479 | AUC: 0.9484343564351861\n",
            "Epoch 89 | Validation loss: 246.63748168945312 | AUC: 0.7338528277634963\n",
            "Epoch 90 | Training loss: 1223.8074526786804 | AUC: 0.9493092792206783\n",
            "Epoch 90 | Validation loss: 338.671142578125 | AUC: 0.7456887317909169\n",
            "Epoch 91 | Training loss: 1222.8625383377075 | AUC: 0.9493756280568232\n",
            "Epoch 91 | Validation loss: 227.10479736328125 | AUC: 0.7407749571550986\n",
            "Epoch 92 | Training loss: 1194.281548500061 | AUC: 0.9523012757873359\n",
            "Epoch 92 | Validation loss: 234.28958129882812 | AUC: 0.7323398671808055\n",
            "Epoch 93 | Training loss: 1199.0971112251282 | AUC: 0.9517604067939528\n",
            "Epoch 93 | Validation loss: 141.58717346191406 | AUC: 0.7326076478149101\n",
            "Epoch 94 | Training loss: 1186.0189838409424 | AUC: 0.9527397870034388\n",
            "Epoch 94 | Validation loss: 169.70986938476562 | AUC: 0.7436335154241647\n",
            "Epoch 95 | Training loss: 1182.1363711357117 | AUC: 0.9531119493833968\n",
            "Epoch 95 | Validation loss: 190.33065795898438 | AUC: 0.740333119108826\n",
            "Epoch 96 | Training loss: 1183.057744026184 | AUC: 0.9528568423077134\n",
            "Epoch 96 | Validation loss: 174.13180541992188 | AUC: 0.7365373286203942\n",
            "Epoch 97 | Training loss: 1163.3991146087646 | AUC: 0.9548195920554406\n",
            "Epoch 97 | Validation loss: 151.4550018310547 | AUC: 0.7436535989717225\n",
            "Epoch 98 | Training loss: 1159.5696053504944 | AUC: 0.9547851578493403\n",
            "Epoch 98 | Validation loss: 225.90777587890625 | AUC: 0.7449858076263924\n",
            "Epoch 99 | Training loss: 1146.9957642555237 | AUC: 0.956026259021657\n",
            "Epoch 99 | Validation loss: 188.8614501953125 | AUC: 0.7485941516709511\n"
          ]
        }
      ]
    },
    {
      "cell_type": "code",
      "source": [
        "# Plot train loss and valid loss vs epochs\n",
        "\n",
        "fig, ax1 = plt.subplots(1,1)\n",
        "x = range(0, len(loss_list))\n",
        "ax1.plot(x, loss_list)\n",
        "ax1.plot(x, validation_loss_list, color='r')"
      ],
      "metadata": {
        "id": "WnH8LLtCesm5",
        "colab": {
          "base_uri": "https://localhost:8080/",
          "height": 282
        },
        "outputId": "25e91ef8-5602-4f01-8878-b69640b5dd82"
      },
      "execution_count": 70,
      "outputs": [
        {
          "output_type": "execute_result",
          "data": {
            "text/plain": [
              "[<matplotlib.lines.Line2D at 0x7fa241c46590>]"
            ]
          },
          "metadata": {},
          "execution_count": 70
        },
        {
          "output_type": "display_data",
          "data": {
            "text/plain": [
              "<Figure size 432x288 with 1 Axes>"
            ],
            "image/png": "[encoded data removed]"
          },
          "metadata": {
            "needs_background": "light"
          }
        }
      ]
    },
    {
      "cell_type": "code",
      "source": [
        "# Plot train auc y valid auc vs num epochs\n",
        "\n",
        "fig, ax1 = plt.subplots(1,1)\n",
        "x = range(0, len(train_auc))\n",
        "ax1.plot(x, train_auc)\n",
        "ax1.plot(x, validation_auc)"
      ],
      "metadata": {
        "colab": {
          "base_uri": "https://localhost:8080/",
          "height": 282
        },
        "id": "KhdlN2jgmp-H",
        "outputId": "3e3bb4fc-c6e3-486d-8d8d-221e246e7960"
      },
      "execution_count": 71,
      "outputs": [
        {
          "output_type": "execute_result",
          "data": {
            "text/plain": [
              "[<matplotlib.lines.Line2D at 0x7fa241a3a510>]"
            ]
          },
          "metadata": {},
          "execution_count": 71
        },
        {
          "output_type": "display_data",
          "data": {
            "text/plain": [
              "<Figure size 432x288 with 1 Axes>"
            ],
            "image/png": "[encoded data removed]"
          },
          "metadata": {
            "needs_background": "light"
          }
        }
      ]
    },
    {
      "cell_type": "code",
      "source": [
        ""
      ],
      "metadata": {
        "id": "fGvu2y7zpAxA"
      },
      "execution_count": null,
      "outputs": []
    }
  ]
}